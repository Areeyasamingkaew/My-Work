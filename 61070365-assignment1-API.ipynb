{
 "cells": [
  {
   "cell_type": "markdown",
   "metadata": {},
   "source": [
    "# นางสาว อารีญา สมิงแก้ว  61070365"
   ]
  },
  {
   "cell_type": "markdown",
   "metadata": {},
   "source": [
    "## Assignment 1 "
   ]
  },
  {
   "cell_type": "markdown",
   "metadata": {},
   "source": [
    "<h4>นำเข้า Package สำหรับการดึงข้อมูลจาก API การจัดการข้อมูลรวมถึง Package สำหรับใช้ในการ plot Graph"
   ]
  },
  {
   "cell_type": "code",
   "execution_count": 1,
   "metadata": {
    "scrolled": true
   },
   "outputs": [
    {
     "name": "stdout",
     "output_type": "stream",
     "text": [
      "Requirement already satisfied: urllib3 in c:\\users\\mai_b\\anaconda3\\lib\\site-packages (1.25.9)\n",
      "Requirement already satisfied: requests in c:\\users\\mai_b\\anaconda3\\lib\\site-packages (2.24.0)\n",
      "Requirement already satisfied: chardet<4,>=3.0.2 in c:\\users\\mai_b\\anaconda3\\lib\\site-packages (from requests) (3.0.4)\n",
      "Requirement already satisfied: certifi>=2017.4.17 in c:\\users\\mai_b\\anaconda3\\lib\\site-packages (from requests) (2020.6.20)\n",
      "Requirement already satisfied: idna<3,>=2.5 in c:\\users\\mai_b\\anaconda3\\lib\\site-packages (from requests) (2.10)\n"
     ]
    }
   ],
   "source": [
    "!pip install urllib3 requests\n",
    "import json\n",
    "import urllib\n",
    "import warnings\n",
    "import requests\n",
    "from  pandas.io.json import json_normalize\n",
    "import seaborn as sns\n",
    "import matplotlib\n",
    "import numpy as np\n",
    "import matplotlib.pyplot as plt\n",
    "%matplotlib inline\n",
    "import matplotlib.pylab as pylab\n",
    "import matplotlib.patches as mpatches\n",
    "import pandas as pd \n",
    "from pandas import Series, DataFrame"
   ]
  },
  {
   "cell_type": "markdown",
   "metadata": {},
   "source": [
    "## Import Data From API <br>\n",
    "##### - คำอธิบายข้อมูล ข้อมูลที่ผู้จัดทำได้นำมานั้นเป็นข้อมูลการค้าผ่านเเดนที่เกี่ยวข้องกับประเทศเพื่อนบ้านของไทย\n",
    ">เเหล่งข้อมูล API : https://data.moc.go.th/OpenData/BorderTransit <br>\n",
    "- คำอธิบายข้อมูล : ข้อมูลการค้าผ่านแดนเป็นข้อมูลที่เกี่ยวข้องกับการค้าขายไปยังประเทศที่อยู่ใกล้กับไทย ประกอบด้วย สิงค์โปร์ จีนตอนใต้ และเวียดนาม <br> การค้าผ่านแดนจะเป็นการแสดงข้อมูลการค้าขายจากไทยผ่านช่องทางประเทศเพื่อนบ้านเพื่อไปสู่ประเทศปลายทางใน 3 ประเทศนี้ <br> โดยข้อมูลการค้าผ่านแดนจะแสดงให้เห็นถึงสถานภาพทางการค้า ความสัมพันธ์ และความต้องการต่าง ๆ ในกลุ่มประเทศที่ใกล้กับไทย<br> และเป็นโอกาสที่นักลงทุนไทยจะได้ศึกษาข้อมูลเพื่อเป็นประโยชน์ในการลงทุนอีกด้วย\n",
    "\n",
    "> - โดยข้อมูลการค้าผ่านเเดนจะประกอบไปด้วยการนำเข้าสินค้า เเละส่งออกสินค้า ซึ่งเเสดงประเภทข้อมูลเเละคำอธิบายข้อมูลดังตารางต่อไปนี้ \n",
    "\n",
    "| Name            | Data Type | Description        |\n",
    "|-----------------|-----------|--------------------|\n",
    "| year            | integer   | ปี (ค.ศ)            |\n",
    "| month           | integer   | เดือน               |\n",
    "| type            | string    | ประเภทการค้า (import, export)|\n",
    "| port_name       | string    | ชื่อด่าน              |\n",
    "| province_name   | string    | ชื่อจังหวัด            |\n",
    "| country_code    | string    | รหัสประเทศ          |\n",
    "| country_name_en | string    | ชื่อประเทศ ภาษาอังกฤษ |\n",
    "| country_name_th | string    | ชื่อประเทศ ภาษาไทย   |\n",
    "| product_name    | string    | ชื่อสินค้า             |\n",
    "| value_baht      | Float     | มูลค่า (บาท)         |\n",
    "\n",
    "ซึ่งข้อมูลต้นทางจะมีการเก็บรายการสินค้าเริ่มต้นตั้งเเต่ปี 2017 จนถึงปัจจุบัน เเต่ผู้จัดทำจะเลืออกนำเข้าข้อมูลในช่วงของปี 2018-2020 ดังจะเเสดงผลต่อไปนี้"
   ]
  },
  {
   "cell_type": "markdown",
   "metadata": {},
   "source": [
    "> -เเสดงตัวแปรที่ใช้ในการ Query ข้อมูล เเละคำอธิบายเเต่ละ parameter สำหรับดึงข้อมูลจาก Api สามารถเเสดงได้ดังตาราง<br>\n",
    "\n",
    "| Name            | Data Type | Description        | Default |\n",
    "|-----------------|-----------|--------------------|---------|\n",
    "| trade_type      | Data Type | ประเภทการค้า (import = นำเข้า, export = ส่งออก)        |         |\n",
    "| country_code    | string    |รหัสประเทศ\t            |         |\n",
    "| year            | string    | ปี (ค.ศ.)               |         |\n",
    "| month           | integer   |เดือน              |         |\n",
    "| limit           | integer   | จำนวนข้อมูล            | 20      |\n",
    "| offset          | integer   | จำนวนข้อมูลเริ่มต้นที่ตัดทิ้ง          | 0       |\n",
    "\n",
    "> โดยในที่นี้ default ของข้อมูลในเเต่ละเดือน (limit)จะอยู่ที่ 20 เเถวข้อมูล ซึ่งประกอบไปด้วยข้อมูลจากปี 2018 ,2019 เเละ 2020 "
   ]
  },
  {
   "cell_type": "markdown",
   "metadata": {},
   "source": [
    "### ดึงข้อมูลจาก API ด้วยข้อมูลเเรก โดยตั้งเก็บไว้ในตัวเเปร data_json เพื่อเป็นข้อมูลเริ่มต้น"
   ]
  },
  {
   "cell_type": "code",
   "execution_count": 2,
   "metadata": {
    "scrolled": false
   },
   "outputs": [
    {
     "data": {
      "text/plain": [
       "'[{\"year\":2018,\"month\":1,\"type\":\"import\",\"port_name\":\"รพท.มุกดาหารลานทอง ด่านศุลกากรมุกดาหาร\",\"province_name\":\"มุกดาหาร\",\"country_code\":\"CN\",\"country_name_en\":\"CHINA\",\"country_name_th\":\"สาธารณรัฐประชาชนจีน (ตอนใต้)\",\"product_name\":\"กรอบและโครงสำหรับแว่นตา\",\"value_baht\":22369.0}]'"
      ]
     },
     "execution_count": 2,
     "metadata": {},
     "output_type": "execute_result"
    }
   ],
   "source": [
    "'''เนื่องจากเเหล่งข้อมูล API ดังกล่าวไม่มีข้อมูลให้ทั้งหมดในคราวเดียว ผู้ใช้จึงต้องทำการเลือกนำเข้าข้อมูลว่าจะเลือกเป็นประเทศอะไร ปีใด เป็นต้น จึงเก็บข้อมูลครั้งเเรก\n",
    "เป็นประเทศ CN หรือ จีน ในปี 2018 เดือน มกราคม หรือ(เเทนด้วย 1) โดยเก็บมาเพียง1เเถวข้อมูลเพื่อเป็นตัวข้อมูลเริ่มต้นในการดึงข้อมูลอื่นๆ เข้ามาเพิ่มในภายหลัง'''\n",
    "\n",
    "# ตังตัวแปร url = ที่อยู่ link สำหรับดึงข้อมูล\n",
    "url = \"https://dataapi.moc.go.th/border-transit?trade_type=import&country_code=CN&year=2018&month=1&limit=1&offset=\"  \n",
    "response = urllib.request.urlopen(url) # ร้องขอข้อมูลจาก url ดังกล่าว \n",
    "# อ่านรายการข้อมูลจาก link api ที่ตั้งไว้ เเล้วเก็บในตัวแปร ชื่อ data_json โดยตั้งให้สามารถอ่านภาษาไทยได้ เนื่องจากข้อมูลมีภาษาไทย\n",
    "data_json = response.read().decode(\"utf-8\") \n",
    "data_json #หลังจากดึงเก็บข้อมูลไว้ในตัวแปร data_json เเละ เเสดงผลข้อมูล"
   ]
  },
  {
   "cell_type": "markdown",
   "metadata": {},
   "source": [
    "*** \n",
    "###  json.loads()  and  json_normalize() <br>\n",
    "* ใช้คำสั่ง json.loads() เพื่อถอดรหัสข้อมูลจากรูปแบบ json เป็น ข้อมูลของ python  <br>\n",
    "* ใช้คำสั่ง json_normalize  สำหรับแปลงข้อมูลเป็น DataFrame<br>\n",
    "เนื่องจากเมื่อนำเข้าข้อมูล data_json จะมี type เป็น str ซึ่ง หากไม่ทำการเเปลงเป็น DataFrame ก่อน จะไม่สามารถ append ข้อมูลอื่นๆต่อได้ <br> จึงทำการแปลงเป็น DataFrame ก่อนเเล้วจึงจะ append ข้อมูลต่อๆไปเข้า DataFrame ที่สร้าง"
   ]
  },
  {
   "cell_type": "code",
   "execution_count": 3,
   "metadata": {
    "scrolled": true
   },
   "outputs": [
    {
     "data": {
      "text/html": [
       "<div>\n",
       "<style scoped>\n",
       "    .dataframe tbody tr th:only-of-type {\n",
       "        vertical-align: middle;\n",
       "    }\n",
       "\n",
       "    .dataframe tbody tr th {\n",
       "        vertical-align: top;\n",
       "    }\n",
       "\n",
       "    .dataframe thead th {\n",
       "        text-align: right;\n",
       "    }\n",
       "</style>\n",
       "<table border=\"1\" class=\"dataframe\">\n",
       "  <thead>\n",
       "    <tr style=\"text-align: right;\">\n",
       "      <th></th>\n",
       "      <th>year</th>\n",
       "      <th>month</th>\n",
       "      <th>type</th>\n",
       "      <th>port_name</th>\n",
       "      <th>province_name</th>\n",
       "      <th>country_code</th>\n",
       "      <th>country_name_en</th>\n",
       "      <th>country_name_th</th>\n",
       "      <th>product_name</th>\n",
       "      <th>value_baht</th>\n",
       "    </tr>\n",
       "  </thead>\n",
       "  <tbody>\n",
       "    <tr>\n",
       "      <th>0</th>\n",
       "      <td>2018</td>\n",
       "      <td>1</td>\n",
       "      <td>import</td>\n",
       "      <td>รพท.มุกดาหารลานทอง ด่านศุลกากรมุกดาหาร</td>\n",
       "      <td>มุกดาหาร</td>\n",
       "      <td>CN</td>\n",
       "      <td>CHINA</td>\n",
       "      <td>สาธารณรัฐประชาชนจีน (ตอนใต้)</td>\n",
       "      <td>กรอบและโครงสำหรับแว่นตา</td>\n",
       "      <td>22369.0</td>\n",
       "    </tr>\n",
       "  </tbody>\n",
       "</table>\n",
       "</div>"
      ],
      "text/plain": [
       "   year  month    type                               port_name province_name  \\\n",
       "0  2018      1  import  รพท.มุกดาหารลานทอง ด่านศุลกากรมุกดาหาร      มุกดาหาร   \n",
       "\n",
       "  country_code country_name_en               country_name_th  \\\n",
       "0           CN           CHINA  สาธารณรัฐประชาชนจีน (ตอนใต้)   \n",
       "\n",
       "              product_name  value_baht  \n",
       "0  กรอบและโครงสำหรับแว่นตา     22369.0  "
      ]
     },
     "execution_count": 3,
     "metadata": {},
     "output_type": "execute_result"
    }
   ],
   "source": [
    "data_load = json.loads(data_json) #เก็บข้อมูลรูปแบบ python ไว้ในตัวแปร data_load\n",
    "df = pd.json_normalize(data_load) # แปลงข้อมูลเป็น DataFrame โดยใช้  json_normalize เพื่อลดความซ้ำซ้อนของข้อมูล\n",
    "df #เก็บข้อมูล dataframe ไว้ในตัวแปร df\n",
    "\n",
    "#จากผลลัพธ์จะเห็นว่าข้อมูลครั้งที่ 1 จะมีเฉพาะ สินค้านำเข้าปี 2018 ของประเทศจีน ในเดือนมกราคม"
   ]
  },
  {
   "cell_type": "markdown",
   "metadata": {},
   "source": [
    "### นำข้อมูลทั้งหมดเข้า dataframe (เป็นข้อมูลรายการสินค้านำเข้าเเละส่งออกในปี 2018-2020)\n",
    "> ซึ่งข้อมูลที่จะนำเข้ามานั้น ประกอบไปด้วย สินค้านำเข้า เเละ สินค้าส่งออก ในปี 2018-2020 ของทั้ง 3 ประเทศ ได้แก่ จีน เวียดนาม เเละสิงคโปร์ โดยเฉลี่ยเก็บข้อมูลเดือนละ 20 เเถวข้อมูล\n",
    "> <br>คำอธิบายข้อมูลเพิ่มเติมในส่วนของ country_code \n",
    "\n",
    "| country_code    | Description |\n",
    "|-----------------|-------------|\n",
    "| CN              | จีน    |\n",
    "| VN              | เวียดนาม     |\n",
    "| SG              | สิงคโปร์      |"
   ]
  },
  {
   "cell_type": "code",
   "execution_count": 4,
   "metadata": {
    "scrolled": false
   },
   "outputs": [
    {
     "data": {
      "text/html": [
       "<div>\n",
       "<style scoped>\n",
       "    .dataframe tbody tr th:only-of-type {\n",
       "        vertical-align: middle;\n",
       "    }\n",
       "\n",
       "    .dataframe tbody tr th {\n",
       "        vertical-align: top;\n",
       "    }\n",
       "\n",
       "    .dataframe thead th {\n",
       "        text-align: right;\n",
       "    }\n",
       "</style>\n",
       "<table border=\"1\" class=\"dataframe\">\n",
       "  <thead>\n",
       "    <tr style=\"text-align: right;\">\n",
       "      <th></th>\n",
       "      <th>year</th>\n",
       "      <th>month</th>\n",
       "      <th>type</th>\n",
       "      <th>port_name</th>\n",
       "      <th>province_name</th>\n",
       "      <th>country_code</th>\n",
       "      <th>country_name_en</th>\n",
       "      <th>country_name_th</th>\n",
       "      <th>product_name</th>\n",
       "      <th>value_baht</th>\n",
       "    </tr>\n",
       "  </thead>\n",
       "  <tbody>\n",
       "    <tr>\n",
       "      <th>0</th>\n",
       "      <td>2018</td>\n",
       "      <td>1</td>\n",
       "      <td>import</td>\n",
       "      <td>รพท.มุกดาหารลานทอง ด่านศุลกากรมุกดาหาร</td>\n",
       "      <td>มุกดาหาร</td>\n",
       "      <td>CN</td>\n",
       "      <td>CHINA</td>\n",
       "      <td>สาธารณรัฐประชาชนจีน (ตอนใต้)</td>\n",
       "      <td>กรอบและโครงสำหรับแว่นตา</td>\n",
       "      <td>22369.0</td>\n",
       "    </tr>\n",
       "    <tr>\n",
       "      <th>0</th>\n",
       "      <td>2018</td>\n",
       "      <td>1</td>\n",
       "      <td>import</td>\n",
       "      <td>รพท.มุกดาหารลานทอง ด่านศุลกากรมุกดาหาร</td>\n",
       "      <td>มุกดาหาร</td>\n",
       "      <td>CN</td>\n",
       "      <td>CHINA</td>\n",
       "      <td>สาธารณรัฐประชาชนจีน (ตอนใต้)</td>\n",
       "      <td>กรอบและโครงสำหรับแว่นตา</td>\n",
       "      <td>22369.0</td>\n",
       "    </tr>\n",
       "    <tr>\n",
       "      <th>1</th>\n",
       "      <td>2018</td>\n",
       "      <td>1</td>\n",
       "      <td>import</td>\n",
       "      <td>รพท.มุกดาหารลานทอง ด่านศุลกากรมุกดาหาร</td>\n",
       "      <td>มุกดาหาร</td>\n",
       "      <td>CN</td>\n",
       "      <td>CHINA</td>\n",
       "      <td>สาธารณรัฐประชาชนจีน (ตอนใต้)</td>\n",
       "      <td>กรอบและโครงสำหรับแว่นตา</td>\n",
       "      <td>435714.0</td>\n",
       "    </tr>\n",
       "    <tr>\n",
       "      <th>2</th>\n",
       "      <td>2018</td>\n",
       "      <td>1</td>\n",
       "      <td>import</td>\n",
       "      <td>รพท.มุกดาหารลานทอง ด่านศุลกากรมุกดาหาร</td>\n",
       "      <td>มุกดาหาร</td>\n",
       "      <td>CN</td>\n",
       "      <td>CHINA</td>\n",
       "      <td>สาธารณรัฐประชาชนจีน (ตอนใต้)</td>\n",
       "      <td>กระจก แก้ว และผลิตภัณฑ์อื่น ๆ</td>\n",
       "      <td>1972.0</td>\n",
       "    </tr>\n",
       "    <tr>\n",
       "      <th>3</th>\n",
       "      <td>2018</td>\n",
       "      <td>1</td>\n",
       "      <td>import</td>\n",
       "      <td>ด่านศุลกากรสะเดา (ศภ.4)</td>\n",
       "      <td>สงขลา</td>\n",
       "      <td>CN</td>\n",
       "      <td>CHINA</td>\n",
       "      <td>สาธารณรัฐประชาชนจีน (ตอนใต้)</td>\n",
       "      <td>กระจก แก้ว และผลิตภัณฑ์อื่น ๆ</td>\n",
       "      <td>2014.0</td>\n",
       "    </tr>\n",
       "    <tr>\n",
       "      <th>...</th>\n",
       "      <td>...</td>\n",
       "      <td>...</td>\n",
       "      <td>...</td>\n",
       "      <td>...</td>\n",
       "      <td>...</td>\n",
       "      <td>...</td>\n",
       "      <td>...</td>\n",
       "      <td>...</td>\n",
       "      <td>...</td>\n",
       "      <td>...</td>\n",
       "    </tr>\n",
       "    <tr>\n",
       "      <th>15</th>\n",
       "      <td>2020</td>\n",
       "      <td>8</td>\n",
       "      <td>export</td>\n",
       "      <td>ด่านศุลกากรนครพนม (ศภ.2)</td>\n",
       "      <td>นครพนม</td>\n",
       "      <td>VN</td>\n",
       "      <td>VIETNAM</td>\n",
       "      <td>เวียดนาม</td>\n",
       "      <td>ข้าว</td>\n",
       "      <td>1016138.0</td>\n",
       "    </tr>\n",
       "    <tr>\n",
       "      <th>16</th>\n",
       "      <td>2020</td>\n",
       "      <td>8</td>\n",
       "      <td>export</td>\n",
       "      <td>ด่านศุลกากรนครพนม (ศภ.2)</td>\n",
       "      <td>นครพนม</td>\n",
       "      <td>VN</td>\n",
       "      <td>VIETNAM</td>\n",
       "      <td>เวียดนาม</td>\n",
       "      <td>ข้าว</td>\n",
       "      <td>1050238.0</td>\n",
       "    </tr>\n",
       "    <tr>\n",
       "      <th>17</th>\n",
       "      <td>2020</td>\n",
       "      <td>8</td>\n",
       "      <td>export</td>\n",
       "      <td>ด่านศุลกากรบึงกาฬ (ศภ.2)</td>\n",
       "      <td>บึงกาฬ</td>\n",
       "      <td>VN</td>\n",
       "      <td>VIETNAM</td>\n",
       "      <td>เวียดนาม</td>\n",
       "      <td>ข้าว</td>\n",
       "      <td>1508510.0</td>\n",
       "    </tr>\n",
       "    <tr>\n",
       "      <th>18</th>\n",
       "      <td>2020</td>\n",
       "      <td>8</td>\n",
       "      <td>export</td>\n",
       "      <td>ด่านศุลกากรมุกดาหาร (ศภ.2)</td>\n",
       "      <td>มุกดาหาร</td>\n",
       "      <td>VN</td>\n",
       "      <td>VIETNAM</td>\n",
       "      <td>เวียดนาม</td>\n",
       "      <td>ครื่องจักรกลและส่วนประกอบ อื่น ๆ</td>\n",
       "      <td>947.0</td>\n",
       "    </tr>\n",
       "    <tr>\n",
       "      <th>19</th>\n",
       "      <td>2020</td>\n",
       "      <td>8</td>\n",
       "      <td>export</td>\n",
       "      <td>ด่านศุลกากรมุกดาหาร (ศภ.2)</td>\n",
       "      <td>มุกดาหาร</td>\n",
       "      <td>VN</td>\n",
       "      <td>VIETNAM</td>\n",
       "      <td>เวียดนาม</td>\n",
       "      <td>ครื่องจักรกลและส่วนประกอบ อื่น ๆ</td>\n",
       "      <td>1055.0</td>\n",
       "    </tr>\n",
       "  </tbody>\n",
       "</table>\n",
       "<p>3841 rows × 10 columns</p>\n",
       "</div>"
      ],
      "text/plain": [
       "    year  month    type                               port_name province_name  \\\n",
       "0   2018      1  import  รพท.มุกดาหารลานทอง ด่านศุลกากรมุกดาหาร      มุกดาหาร   \n",
       "0   2018      1  import  รพท.มุกดาหารลานทอง ด่านศุลกากรมุกดาหาร      มุกดาหาร   \n",
       "1   2018      1  import  รพท.มุกดาหารลานทอง ด่านศุลกากรมุกดาหาร      มุกดาหาร   \n",
       "2   2018      1  import  รพท.มุกดาหารลานทอง ด่านศุลกากรมุกดาหาร      มุกดาหาร   \n",
       "3   2018      1  import                 ด่านศุลกากรสะเดา (ศภ.4)         สงขลา   \n",
       "..   ...    ...     ...                                     ...           ...   \n",
       "15  2020      8  export                ด่านศุลกากรนครพนม (ศภ.2)        นครพนม   \n",
       "16  2020      8  export                ด่านศุลกากรนครพนม (ศภ.2)        นครพนม   \n",
       "17  2020      8  export                ด่านศุลกากรบึงกาฬ (ศภ.2)        บึงกาฬ   \n",
       "18  2020      8  export              ด่านศุลกากรมุกดาหาร (ศภ.2)      มุกดาหาร   \n",
       "19  2020      8  export              ด่านศุลกากรมุกดาหาร (ศภ.2)      มุกดาหาร   \n",
       "\n",
       "   country_code country_name_en               country_name_th  \\\n",
       "0            CN           CHINA  สาธารณรัฐประชาชนจีน (ตอนใต้)   \n",
       "0            CN           CHINA  สาธารณรัฐประชาชนจีน (ตอนใต้)   \n",
       "1            CN           CHINA  สาธารณรัฐประชาชนจีน (ตอนใต้)   \n",
       "2            CN           CHINA  สาธารณรัฐประชาชนจีน (ตอนใต้)   \n",
       "3            CN           CHINA  สาธารณรัฐประชาชนจีน (ตอนใต้)   \n",
       "..          ...             ...                           ...   \n",
       "15           VN         VIETNAM                      เวียดนาม   \n",
       "16           VN         VIETNAM                      เวียดนาม   \n",
       "17           VN         VIETNAM                      เวียดนาม   \n",
       "18           VN         VIETNAM                      เวียดนาม   \n",
       "19           VN         VIETNAM                      เวียดนาม   \n",
       "\n",
       "                        product_name  value_baht  \n",
       "0            กรอบและโครงสำหรับแว่นตา     22369.0  \n",
       "0            กรอบและโครงสำหรับแว่นตา     22369.0  \n",
       "1            กรอบและโครงสำหรับแว่นตา    435714.0  \n",
       "2      กระจก แก้ว และผลิตภัณฑ์อื่น ๆ      1972.0  \n",
       "3      กระจก แก้ว และผลิตภัณฑ์อื่น ๆ      2014.0  \n",
       "..                               ...         ...  \n",
       "15                              ข้าว   1016138.0  \n",
       "16                              ข้าว   1050238.0  \n",
       "17                              ข้าว   1508510.0  \n",
       "18  ครื่องจักรกลและส่วนประกอบ อื่น ๆ       947.0  \n",
       "19  ครื่องจักรกลและส่วนประกอบ อื่น ๆ      1055.0  \n",
       "\n",
       "[3841 rows x 10 columns]"
      ]
     },
     "execution_count": 4,
     "metadata": {},
     "output_type": "execute_result"
    }
   ],
   "source": [
    "# ตั้งตัวแปรสำหรับเก็บข้อมูลเพื่อใช้ในการ Query ข้อมูล\n",
    "typee = [\"import\",\"export\"] #เเสดงรหัสการเรียกใช้ข้อมูล โดย import = สินค้านำเข้า เเละ export = สินค้าส่งออก \n",
    "country_code = [\"CN\",\"SG\",\"VN\"] # เเสดงรหัสประเทศทั้งหมด\n",
    "years = [2018,2019,2020] #เเสดงปีที่เลือกนำข้อมูลเข้ามา\n",
    "#ทำการวนลูปเข้าทีละกลุ่มข้อมูลเพื่อดึงข้อมูล สินค้านำเข้า เเละส่งออก ในเเต่ละประเทศ เเต่ละปี เเละเเต่ละเดือน ตามลำดับ\n",
    "for typee in typee: \n",
    "    for country in country_code:\n",
    "        for year in years:\n",
    "            for i in range(1,13): #ตัวเลขเเทนจำนวนเดือนในเเต่ละเดือน 12 เดือน\n",
    "#กำหนด urlเเละข้อมูลที่ใช้ในการคิวรี่ โดยการวนลูปทีละข้อมูลจากลิ้งค์จะมีการใส่ค่าข้อมูลคือ type country_code year เเละ month เเละใช้ % ในการอ้างอิงถึงค่านั้นๆ\n",
    "                url = \"https://dataapi.moc.go.th/border-transit?trade_type=%s&country_code=%s&year=%d&month=%d&limit=&offset=\" %(typee,country,year,i)\n",
    "                response = urllib.request.urlopen(url) # ร้องขอข้อมูลตามข้อมูลใน url ดังกล่าว \n",
    "                data_json_2 = response.read().decode(\"utf-8\") #ให้ข้อมูลตัวที่จะนำเข้าต่อไปเก็บไว้ในตัวแปร data_json_2\n",
    "                data_load2 = json.loads(data_json_2) # แปลงข้อมูลต่อไปเป็นรูปแบบ python เก็บไว้ในตัวแปร data_load2\n",
    "                df = df.append(data_load2) # ทำการเพิ่มข้อมูล data_load2 เข้าสู่ DataFrame \n",
    "df\n",
    "# ได้ข้อมูสินค้า นำเข้าเเละส่งออก สำหรับนำไปใช้ทั้งหมดประมาณ 3841 row เกิดจากการนำข้อมูลของเเต่ละประเทศโดยจะเก็บในปี \n",
    "# 2018 2019 เเละ 2020 ปีละ 240 ข้อมูล หรือเดือนละประมาณ  20 ข้อมูล\n"
   ]
  },
  {
   "cell_type": "code",
   "execution_count": 5,
   "metadata": {
    "scrolled": true
   },
   "outputs": [
    {
     "data": {
      "text/plain": [
       "3841"
      ]
     },
     "execution_count": 5,
     "metadata": {},
     "output_type": "execute_result"
    }
   ],
   "source": [
    "len(df) #ตรวจสอบจำนวนเเถวข้อมูลทั้งหมด "
   ]
  },
  {
   "cell_type": "markdown",
   "metadata": {},
   "source": [
    "### Save file จากการดึง api มาใช้"
   ]
  },
  {
   "cell_type": "code",
   "execution_count": 6,
   "metadata": {},
   "outputs": [],
   "source": [
    "#save file to folder data\n",
    "data_tofile = df.to_csv('Data\\data.csv',index=False, encoding=\"utf-8\")"
   ]
  },
  {
   "cell_type": "markdown",
   "metadata": {},
   "source": [
    "### Load file data"
   ]
  },
  {
   "cell_type": "code",
   "execution_count": 7,
   "metadata": {},
   "outputs": [
    {
     "data": {
      "text/html": [
       "<div>\n",
       "<style scoped>\n",
       "    .dataframe tbody tr th:only-of-type {\n",
       "        vertical-align: middle;\n",
       "    }\n",
       "\n",
       "    .dataframe tbody tr th {\n",
       "        vertical-align: top;\n",
       "    }\n",
       "\n",
       "    .dataframe thead th {\n",
       "        text-align: right;\n",
       "    }\n",
       "</style>\n",
       "<table border=\"1\" class=\"dataframe\">\n",
       "  <thead>\n",
       "    <tr style=\"text-align: right;\">\n",
       "      <th></th>\n",
       "      <th>year</th>\n",
       "      <th>month</th>\n",
       "      <th>type</th>\n",
       "      <th>port_name</th>\n",
       "      <th>province_name</th>\n",
       "      <th>country_code</th>\n",
       "      <th>country_name_en</th>\n",
       "      <th>country_name_th</th>\n",
       "      <th>product_name</th>\n",
       "      <th>value_baht</th>\n",
       "    </tr>\n",
       "  </thead>\n",
       "  <tbody>\n",
       "    <tr>\n",
       "      <th>0</th>\n",
       "      <td>2018</td>\n",
       "      <td>1</td>\n",
       "      <td>import</td>\n",
       "      <td>รพท.มุกดาหารลานทอง ด่านศุลกากรมุกดาหาร</td>\n",
       "      <td>มุกดาหาร</td>\n",
       "      <td>CN</td>\n",
       "      <td>CHINA</td>\n",
       "      <td>สาธารณรัฐประชาชนจีน (ตอนใต้)</td>\n",
       "      <td>กรอบและโครงสำหรับแว่นตา</td>\n",
       "      <td>22369.0</td>\n",
       "    </tr>\n",
       "    <tr>\n",
       "      <th>1</th>\n",
       "      <td>2018</td>\n",
       "      <td>1</td>\n",
       "      <td>import</td>\n",
       "      <td>รพท.มุกดาหารลานทอง ด่านศุลกากรมุกดาหาร</td>\n",
       "      <td>มุกดาหาร</td>\n",
       "      <td>CN</td>\n",
       "      <td>CHINA</td>\n",
       "      <td>สาธารณรัฐประชาชนจีน (ตอนใต้)</td>\n",
       "      <td>กรอบและโครงสำหรับแว่นตา</td>\n",
       "      <td>22369.0</td>\n",
       "    </tr>\n",
       "    <tr>\n",
       "      <th>2</th>\n",
       "      <td>2018</td>\n",
       "      <td>1</td>\n",
       "      <td>import</td>\n",
       "      <td>รพท.มุกดาหารลานทอง ด่านศุลกากรมุกดาหาร</td>\n",
       "      <td>มุกดาหาร</td>\n",
       "      <td>CN</td>\n",
       "      <td>CHINA</td>\n",
       "      <td>สาธารณรัฐประชาชนจีน (ตอนใต้)</td>\n",
       "      <td>กรอบและโครงสำหรับแว่นตา</td>\n",
       "      <td>435714.0</td>\n",
       "    </tr>\n",
       "    <tr>\n",
       "      <th>3</th>\n",
       "      <td>2018</td>\n",
       "      <td>1</td>\n",
       "      <td>import</td>\n",
       "      <td>รพท.มุกดาหารลานทอง ด่านศุลกากรมุกดาหาร</td>\n",
       "      <td>มุกดาหาร</td>\n",
       "      <td>CN</td>\n",
       "      <td>CHINA</td>\n",
       "      <td>สาธารณรัฐประชาชนจีน (ตอนใต้)</td>\n",
       "      <td>กระจก แก้ว และผลิตภัณฑ์อื่น ๆ</td>\n",
       "      <td>1972.0</td>\n",
       "    </tr>\n",
       "    <tr>\n",
       "      <th>4</th>\n",
       "      <td>2018</td>\n",
       "      <td>1</td>\n",
       "      <td>import</td>\n",
       "      <td>ด่านศุลกากรสะเดา (ศภ.4)</td>\n",
       "      <td>สงขลา</td>\n",
       "      <td>CN</td>\n",
       "      <td>CHINA</td>\n",
       "      <td>สาธารณรัฐประชาชนจีน (ตอนใต้)</td>\n",
       "      <td>กระจก แก้ว และผลิตภัณฑ์อื่น ๆ</td>\n",
       "      <td>2014.0</td>\n",
       "    </tr>\n",
       "  </tbody>\n",
       "</table>\n",
       "</div>"
      ],
      "text/plain": [
       "   year  month    type                               port_name province_name  \\\n",
       "0  2018      1  import  รพท.มุกดาหารลานทอง ด่านศุลกากรมุกดาหาร      มุกดาหาร   \n",
       "1  2018      1  import  รพท.มุกดาหารลานทอง ด่านศุลกากรมุกดาหาร      มุกดาหาร   \n",
       "2  2018      1  import  รพท.มุกดาหารลานทอง ด่านศุลกากรมุกดาหาร      มุกดาหาร   \n",
       "3  2018      1  import  รพท.มุกดาหารลานทอง ด่านศุลกากรมุกดาหาร      มุกดาหาร   \n",
       "4  2018      1  import                 ด่านศุลกากรสะเดา (ศภ.4)         สงขลา   \n",
       "\n",
       "  country_code country_name_en               country_name_th  \\\n",
       "0           CN           CHINA  สาธารณรัฐประชาชนจีน (ตอนใต้)   \n",
       "1           CN           CHINA  สาธารณรัฐประชาชนจีน (ตอนใต้)   \n",
       "2           CN           CHINA  สาธารณรัฐประชาชนจีน (ตอนใต้)   \n",
       "3           CN           CHINA  สาธารณรัฐประชาชนจีน (ตอนใต้)   \n",
       "4           CN           CHINA  สาธารณรัฐประชาชนจีน (ตอนใต้)   \n",
       "\n",
       "                    product_name  value_baht  \n",
       "0        กรอบและโครงสำหรับแว่นตา     22369.0  \n",
       "1        กรอบและโครงสำหรับแว่นตา     22369.0  \n",
       "2        กรอบและโครงสำหรับแว่นตา    435714.0  \n",
       "3  กระจก แก้ว และผลิตภัณฑ์อื่น ๆ      1972.0  \n",
       "4  กระจก แก้ว และผลิตภัณฑ์อื่น ๆ      2014.0  "
      ]
     },
     "execution_count": 7,
     "metadata": {},
     "output_type": "execute_result"
    }
   ],
   "source": [
    "# import file data  from folder data\n",
    "data = pd.read_csv('Data\\data.csv')\n",
    "data.head()"
   ]
  },
  {
   "cell_type": "markdown",
   "metadata": {},
   "source": [
    "## Clean and Filter the data\n",
    ">มีการบวนการดังนี้ <br> - ตรวจสอบจำนวนข้อมูล <br> - ตรวจสอบชนิดข้อมูล <br> 1. จัดการค่าซ้ำ <br> 2. ตรวจสอบค่า NULL หรือ Missing value <br> 3. check summary ของเเต่ละ column <br> 4. เปลี่ยนหน่วยใน column_value_baht <br> 5. ลบข้อมูลสำหรับบาง column ที่ไม่ได้ใช้ <br>6. จัดการค่าที่ซ้ำซ้อนของข้อมูล <br> 7. รวม Column ระว่าง month and year "
   ]
  },
  {
   "cell_type": "code",
   "execution_count": 8,
   "metadata": {},
   "outputs": [
    {
     "data": {
      "text/plain": [
       "(3841, 10)"
      ]
     },
     "execution_count": 8,
     "metadata": {},
     "output_type": "execute_result"
    }
   ],
   "source": [
    "#ตรวจสอบจำนวนข้อมูล เเละจำนวน column  \n",
    "data.shape"
   ]
  },
  {
   "cell_type": "code",
   "execution_count": 9,
   "metadata": {
    "scrolled": false
   },
   "outputs": [
    {
     "data": {
      "text/plain": [
       "year                 int64\n",
       "month                int64\n",
       "type                object\n",
       "port_name           object\n",
       "province_name       object\n",
       "country_code        object\n",
       "country_name_en     object\n",
       "country_name_th     object\n",
       "product_name        object\n",
       "value_baht         float64\n",
       "dtype: object"
      ]
     },
     "execution_count": 9,
     "metadata": {},
     "output_type": "execute_result"
    }
   ],
   "source": [
    "#ตรวจสอบชนิดของข้อมูล\n",
    "data.dtypes"
   ]
  },
  {
   "cell_type": "markdown",
   "metadata": {},
   "source": [
    "### จัดการค่าซ้ำ (Remove Duplicate Data)\n",
    "เนื่องจากข้อมูลการนำเข้าในครั้งที่ 1 นั้นจะซ้ำกันกับที่นำเข้าทั้งหมดในภายหลัง เเละค่าข้อมูลที่ซ้ำกันในทุกๆ column ในกรณีอื่นๆด้วย โดยกระบวนการเเสดงดังนี้\n",
    "><ul><li>ตรวจสอบจำนวนเเถวข้อมูลที่มีค่าซ้ำกัน</li><li>ลบข้อมูลที่ซ้ำกันออก</li><li>ตรวจสอบข้อมูลหลังจากลบค่าซ้ำเเล้ว</li></ul>"
   ]
  },
  {
   "cell_type": "markdown",
   "metadata": {},
   "source": [
    "#### ตรวจสอบจำนวนเเถวข้อมูลที่มีค่าซ้ำกัน ดังนี้ "
   ]
  },
  {
   "cell_type": "code",
   "execution_count": 10,
   "metadata": {
    "scrolled": true
   },
   "outputs": [
    {
     "data": {
      "text/plain": [
       "6"
      ]
     },
     "execution_count": 10,
     "metadata": {},
     "output_type": "execute_result"
    }
   ],
   "source": [
    "# หาข้อมููลที่เหมือนกันสำหรับทุกๆคอลัมน์\n",
    "len(data[data.duplicated(['year','month','type','port_name','province_name','country_code',\\\n",
    "                       'country_name_en','country_name_th','product_name','value_baht'])])\n",
    "\n",
    "#จากผลลัพธ์มีค่าข้อมูลที่ซ้ำกัน = 6 เเถว"
   ]
  },
  {
   "cell_type": "markdown",
   "metadata": {},
   "source": [
    "#### ลบข้อมูลที่ซ้ำกันออก"
   ]
  },
  {
   "cell_type": "code",
   "execution_count": 11,
   "metadata": {},
   "outputs": [
    {
     "data": {
      "text/html": [
       "<div>\n",
       "<style scoped>\n",
       "    .dataframe tbody tr th:only-of-type {\n",
       "        vertical-align: middle;\n",
       "    }\n",
       "\n",
       "    .dataframe tbody tr th {\n",
       "        vertical-align: top;\n",
       "    }\n",
       "\n",
       "    .dataframe thead th {\n",
       "        text-align: right;\n",
       "    }\n",
       "</style>\n",
       "<table border=\"1\" class=\"dataframe\">\n",
       "  <thead>\n",
       "    <tr style=\"text-align: right;\">\n",
       "      <th></th>\n",
       "      <th>year</th>\n",
       "      <th>month</th>\n",
       "      <th>type</th>\n",
       "      <th>port_name</th>\n",
       "      <th>province_name</th>\n",
       "      <th>country_code</th>\n",
       "      <th>country_name_en</th>\n",
       "      <th>country_name_th</th>\n",
       "      <th>product_name</th>\n",
       "      <th>value_baht</th>\n",
       "    </tr>\n",
       "  </thead>\n",
       "  <tbody>\n",
       "    <tr>\n",
       "      <th>0</th>\n",
       "      <td>2018</td>\n",
       "      <td>1</td>\n",
       "      <td>import</td>\n",
       "      <td>รพท.มุกดาหารลานทอง ด่านศุลกากรมุกดาหาร</td>\n",
       "      <td>มุกดาหาร</td>\n",
       "      <td>CN</td>\n",
       "      <td>CHINA</td>\n",
       "      <td>สาธารณรัฐประชาชนจีน (ตอนใต้)</td>\n",
       "      <td>กรอบและโครงสำหรับแว่นตา</td>\n",
       "      <td>22369.0</td>\n",
       "    </tr>\n",
       "    <tr>\n",
       "      <th>1</th>\n",
       "      <td>2018</td>\n",
       "      <td>1</td>\n",
       "      <td>import</td>\n",
       "      <td>รพท.มุกดาหารลานทอง ด่านศุลกากรมุกดาหาร</td>\n",
       "      <td>มุกดาหาร</td>\n",
       "      <td>CN</td>\n",
       "      <td>CHINA</td>\n",
       "      <td>สาธารณรัฐประชาชนจีน (ตอนใต้)</td>\n",
       "      <td>กรอบและโครงสำหรับแว่นตา</td>\n",
       "      <td>435714.0</td>\n",
       "    </tr>\n",
       "    <tr>\n",
       "      <th>2</th>\n",
       "      <td>2018</td>\n",
       "      <td>1</td>\n",
       "      <td>import</td>\n",
       "      <td>รพท.มุกดาหารลานทอง ด่านศุลกากรมุกดาหาร</td>\n",
       "      <td>มุกดาหาร</td>\n",
       "      <td>CN</td>\n",
       "      <td>CHINA</td>\n",
       "      <td>สาธารณรัฐประชาชนจีน (ตอนใต้)</td>\n",
       "      <td>กระจก แก้ว และผลิตภัณฑ์อื่น ๆ</td>\n",
       "      <td>1972.0</td>\n",
       "    </tr>\n",
       "    <tr>\n",
       "      <th>3</th>\n",
       "      <td>2018</td>\n",
       "      <td>1</td>\n",
       "      <td>import</td>\n",
       "      <td>ด่านศุลกากรสะเดา (ศภ.4)</td>\n",
       "      <td>สงขลา</td>\n",
       "      <td>CN</td>\n",
       "      <td>CHINA</td>\n",
       "      <td>สาธารณรัฐประชาชนจีน (ตอนใต้)</td>\n",
       "      <td>กระจก แก้ว และผลิตภัณฑ์อื่น ๆ</td>\n",
       "      <td>2014.0</td>\n",
       "    </tr>\n",
       "    <tr>\n",
       "      <th>4</th>\n",
       "      <td>2018</td>\n",
       "      <td>1</td>\n",
       "      <td>import</td>\n",
       "      <td>ด่านศุลกากรหนองคาย (ศภ.2)</td>\n",
       "      <td>หนองคาย</td>\n",
       "      <td>CN</td>\n",
       "      <td>CHINA</td>\n",
       "      <td>สาธารณรัฐประชาชนจีน (ตอนใต้)</td>\n",
       "      <td>กระจก แก้ว และผลิตภัณฑ์อื่น ๆ</td>\n",
       "      <td>2145.0</td>\n",
       "    </tr>\n",
       "    <tr>\n",
       "      <th>...</th>\n",
       "      <td>...</td>\n",
       "      <td>...</td>\n",
       "      <td>...</td>\n",
       "      <td>...</td>\n",
       "      <td>...</td>\n",
       "      <td>...</td>\n",
       "      <td>...</td>\n",
       "      <td>...</td>\n",
       "      <td>...</td>\n",
       "      <td>...</td>\n",
       "    </tr>\n",
       "    <tr>\n",
       "      <th>3830</th>\n",
       "      <td>2020</td>\n",
       "      <td>8</td>\n",
       "      <td>export</td>\n",
       "      <td>ด่านศุลกากรนครพนม (ศภ.2)</td>\n",
       "      <td>นครพนม</td>\n",
       "      <td>VN</td>\n",
       "      <td>VIETNAM</td>\n",
       "      <td>เวียดนาม</td>\n",
       "      <td>ข้าว</td>\n",
       "      <td>1016138.0</td>\n",
       "    </tr>\n",
       "    <tr>\n",
       "      <th>3831</th>\n",
       "      <td>2020</td>\n",
       "      <td>8</td>\n",
       "      <td>export</td>\n",
       "      <td>ด่านศุลกากรนครพนม (ศภ.2)</td>\n",
       "      <td>นครพนม</td>\n",
       "      <td>VN</td>\n",
       "      <td>VIETNAM</td>\n",
       "      <td>เวียดนาม</td>\n",
       "      <td>ข้าว</td>\n",
       "      <td>1050238.0</td>\n",
       "    </tr>\n",
       "    <tr>\n",
       "      <th>3832</th>\n",
       "      <td>2020</td>\n",
       "      <td>8</td>\n",
       "      <td>export</td>\n",
       "      <td>ด่านศุลกากรบึงกาฬ (ศภ.2)</td>\n",
       "      <td>บึงกาฬ</td>\n",
       "      <td>VN</td>\n",
       "      <td>VIETNAM</td>\n",
       "      <td>เวียดนาม</td>\n",
       "      <td>ข้าว</td>\n",
       "      <td>1508510.0</td>\n",
       "    </tr>\n",
       "    <tr>\n",
       "      <th>3833</th>\n",
       "      <td>2020</td>\n",
       "      <td>8</td>\n",
       "      <td>export</td>\n",
       "      <td>ด่านศุลกากรมุกดาหาร (ศภ.2)</td>\n",
       "      <td>มุกดาหาร</td>\n",
       "      <td>VN</td>\n",
       "      <td>VIETNAM</td>\n",
       "      <td>เวียดนาม</td>\n",
       "      <td>ครื่องจักรกลและส่วนประกอบ อื่น ๆ</td>\n",
       "      <td>947.0</td>\n",
       "    </tr>\n",
       "    <tr>\n",
       "      <th>3834</th>\n",
       "      <td>2020</td>\n",
       "      <td>8</td>\n",
       "      <td>export</td>\n",
       "      <td>ด่านศุลกากรมุกดาหาร (ศภ.2)</td>\n",
       "      <td>มุกดาหาร</td>\n",
       "      <td>VN</td>\n",
       "      <td>VIETNAM</td>\n",
       "      <td>เวียดนาม</td>\n",
       "      <td>ครื่องจักรกลและส่วนประกอบ อื่น ๆ</td>\n",
       "      <td>1055.0</td>\n",
       "    </tr>\n",
       "  </tbody>\n",
       "</table>\n",
       "<p>3835 rows × 10 columns</p>\n",
       "</div>"
      ],
      "text/plain": [
       "      year  month    type                               port_name  \\\n",
       "0     2018      1  import  รพท.มุกดาหารลานทอง ด่านศุลกากรมุกดาหาร   \n",
       "1     2018      1  import  รพท.มุกดาหารลานทอง ด่านศุลกากรมุกดาหาร   \n",
       "2     2018      1  import  รพท.มุกดาหารลานทอง ด่านศุลกากรมุกดาหาร   \n",
       "3     2018      1  import                 ด่านศุลกากรสะเดา (ศภ.4)   \n",
       "4     2018      1  import               ด่านศุลกากรหนองคาย (ศภ.2)   \n",
       "...    ...    ...     ...                                     ...   \n",
       "3830  2020      8  export                ด่านศุลกากรนครพนม (ศภ.2)   \n",
       "3831  2020      8  export                ด่านศุลกากรนครพนม (ศภ.2)   \n",
       "3832  2020      8  export                ด่านศุลกากรบึงกาฬ (ศภ.2)   \n",
       "3833  2020      8  export              ด่านศุลกากรมุกดาหาร (ศภ.2)   \n",
       "3834  2020      8  export              ด่านศุลกากรมุกดาหาร (ศภ.2)   \n",
       "\n",
       "     province_name country_code country_name_en               country_name_th  \\\n",
       "0         มุกดาหาร           CN           CHINA  สาธารณรัฐประชาชนจีน (ตอนใต้)   \n",
       "1         มุกดาหาร           CN           CHINA  สาธารณรัฐประชาชนจีน (ตอนใต้)   \n",
       "2         มุกดาหาร           CN           CHINA  สาธารณรัฐประชาชนจีน (ตอนใต้)   \n",
       "3            สงขลา           CN           CHINA  สาธารณรัฐประชาชนจีน (ตอนใต้)   \n",
       "4          หนองคาย           CN           CHINA  สาธารณรัฐประชาชนจีน (ตอนใต้)   \n",
       "...            ...          ...             ...                           ...   \n",
       "3830        นครพนม           VN         VIETNAM                      เวียดนาม   \n",
       "3831        นครพนม           VN         VIETNAM                      เวียดนาม   \n",
       "3832        บึงกาฬ           VN         VIETNAM                      เวียดนาม   \n",
       "3833      มุกดาหาร           VN         VIETNAM                      เวียดนาม   \n",
       "3834      มุกดาหาร           VN         VIETNAM                      เวียดนาม   \n",
       "\n",
       "                          product_name  value_baht  \n",
       "0              กรอบและโครงสำหรับแว่นตา     22369.0  \n",
       "1              กรอบและโครงสำหรับแว่นตา    435714.0  \n",
       "2        กระจก แก้ว และผลิตภัณฑ์อื่น ๆ      1972.0  \n",
       "3        กระจก แก้ว และผลิตภัณฑ์อื่น ๆ      2014.0  \n",
       "4        กระจก แก้ว และผลิตภัณฑ์อื่น ๆ      2145.0  \n",
       "...                                ...         ...  \n",
       "3830                              ข้าว   1016138.0  \n",
       "3831                              ข้าว   1050238.0  \n",
       "3832                              ข้าว   1508510.0  \n",
       "3833  ครื่องจักรกลและส่วนประกอบ อื่น ๆ       947.0  \n",
       "3834  ครื่องจักรกลและส่วนประกอบ อื่น ๆ      1055.0  \n",
       "\n",
       "[3835 rows x 10 columns]"
      ]
     },
     "execution_count": 11,
     "metadata": {},
     "output_type": "execute_result"
    }
   ],
   "source": [
    "data = data.drop_duplicates()  # Remove the duplicates \n",
    "data = data.reset_index(drop=True) # ให้ set index ใหม่หลังจากลบข้อมูลเเล้ว\n",
    "data # เเสดงผลลัพธ์\n",
    "# len(data) "
   ]
  },
  {
   "cell_type": "markdown",
   "metadata": {},
   "source": [
    "#### ตรวจสอบข้อมูลหลังจากลบค่าซ้ำเเล้ว"
   ]
  },
  {
   "cell_type": "code",
   "execution_count": 12,
   "metadata": {},
   "outputs": [
    {
     "data": {
      "text/plain": [
       "3835"
      ]
     },
     "execution_count": 12,
     "metadata": {},
     "output_type": "execute_result"
    }
   ],
   "source": [
    "# ข้อมูลถูกลบไป 6 column \n",
    "len(data)"
   ]
  },
  {
   "cell_type": "code",
   "execution_count": 13,
   "metadata": {},
   "outputs": [
    {
     "data": {
      "text/plain": [
       "0"
      ]
     },
     "execution_count": 13,
     "metadata": {},
     "output_type": "execute_result"
    }
   ],
   "source": [
    "# ตรวจสอบค่าซ้ำอีกรอบ \n",
    "len(data[data.duplicated(['year','month','type','port_name','province_name','country_code',\\\n",
    "                       'country_name_en','country_name_th','product_name','value_baht'])])\n",
    "# จะเห็นว่าข้อมูลไม่มีค่าซ้ำ  เเละจำนวนข้อมูลลดลงจาก 3841 -> 3835"
   ]
  },
  {
   "cell_type": "markdown",
   "metadata": {},
   "source": [
    "### ตรวจสอบค่า null หรือ missing value ของข้อมูล"
   ]
  },
  {
   "cell_type": "code",
   "execution_count": 14,
   "metadata": {
    "scrolled": true
   },
   "outputs": [
    {
     "data": {
      "text/plain": [
       "year               0\n",
       "month              0\n",
       "type               0\n",
       "port_name          0\n",
       "province_name      0\n",
       "country_code       0\n",
       "country_name_en    0\n",
       "country_name_th    0\n",
       "product_name       0\n",
       "value_baht         0\n",
       "dtype: int64"
      ]
     },
     "execution_count": 14,
     "metadata": {},
     "output_type": "execute_result"
    }
   ],
   "source": [
    "data.isnull().sum() # เช็คค่า null ของข้อมูล\n",
    "# จากผลลัพธ์ ข้อมูลไม่มีค่า missing value เนื่องจากผู้จัดทำได้คิวรี่ข้อมูลนำเข้าจาก Api ทำให้ข้อมูลค่อนข้างครบถ้วน เเละไม่มีค่าว่าง "
   ]
  },
  {
   "cell_type": "markdown",
   "metadata": {},
   "source": [
    "###  เช็ค Summary ของแต่ละคอลัมน์\n",
    ">ในที่นี้จะดูในส่วนของ column value_baht ในเเต่ละปี เนื่องจาก year เเละ month เป็นตัวเลขที่คำนวณค่าออกมาเเล้ว ค่าๆนั้นไม่มีความหมาย <br>\n",
    "ซึ่งจากผลลัพธ์จะทำให้ผู้จัดทำทราบในเรื่องของค่าทางสถิติของมูลค่าสินค้า เช่น ในปี 2018 เดือนมกราคม มีการส่งออก เเละ นำเข้าเป็นมูลค่าสูงสุดที่ 16,108,330 เเละ 58,914750 ตามลำดับ"
   ]
  },
  {
   "cell_type": "code",
   "execution_count": 15,
   "metadata": {
    "scrolled": true
   },
   "outputs": [
    {
     "data": {
      "text/html": [
       "<div>\n",
       "<style scoped>\n",
       "    .dataframe tbody tr th:only-of-type {\n",
       "        vertical-align: middle;\n",
       "    }\n",
       "\n",
       "    .dataframe tbody tr th {\n",
       "        vertical-align: top;\n",
       "    }\n",
       "\n",
       "    .dataframe thead tr th {\n",
       "        text-align: left;\n",
       "    }\n",
       "\n",
       "    .dataframe thead tr:last-of-type th {\n",
       "        text-align: right;\n",
       "    }\n",
       "</style>\n",
       "<table border=\"1\" class=\"dataframe\">\n",
       "  <thead>\n",
       "    <tr>\n",
       "      <th></th>\n",
       "      <th></th>\n",
       "      <th></th>\n",
       "      <th colspan=\"8\" halign=\"left\">value_baht</th>\n",
       "    </tr>\n",
       "    <tr>\n",
       "      <th></th>\n",
       "      <th></th>\n",
       "      <th></th>\n",
       "      <th>count</th>\n",
       "      <th>mean</th>\n",
       "      <th>std</th>\n",
       "      <th>min</th>\n",
       "      <th>25%</th>\n",
       "      <th>50%</th>\n",
       "      <th>75%</th>\n",
       "      <th>max</th>\n",
       "    </tr>\n",
       "    <tr>\n",
       "      <th>year</th>\n",
       "      <th>month</th>\n",
       "      <th>type</th>\n",
       "      <th></th>\n",
       "      <th></th>\n",
       "      <th></th>\n",
       "      <th></th>\n",
       "      <th></th>\n",
       "      <th></th>\n",
       "      <th></th>\n",
       "      <th></th>\n",
       "    </tr>\n",
       "  </thead>\n",
       "  <tbody>\n",
       "    <tr>\n",
       "      <th rowspan=\"5\" valign=\"top\">2018</th>\n",
       "      <th rowspan=\"2\" valign=\"top\">1</th>\n",
       "      <th>export</th>\n",
       "      <td>60.0</td>\n",
       "      <td>8.109096e+05</td>\n",
       "      <td>2.824838e+06</td>\n",
       "      <td>306.0</td>\n",
       "      <td>13633.75</td>\n",
       "      <td>48063.0</td>\n",
       "      <td>209654.25</td>\n",
       "      <td>1.610833e+07</td>\n",
       "    </tr>\n",
       "    <tr>\n",
       "      <th>import</th>\n",
       "      <td>60.0</td>\n",
       "      <td>1.994404e+06</td>\n",
       "      <td>8.018667e+06</td>\n",
       "      <td>27.0</td>\n",
       "      <td>5416.75</td>\n",
       "      <td>22739.0</td>\n",
       "      <td>449358.00</td>\n",
       "      <td>5.891475e+07</td>\n",
       "    </tr>\n",
       "    <tr>\n",
       "      <th rowspan=\"2\" valign=\"top\">2</th>\n",
       "      <th>export</th>\n",
       "      <td>60.0</td>\n",
       "      <td>1.341701e+07</td>\n",
       "      <td>6.934819e+07</td>\n",
       "      <td>158.0</td>\n",
       "      <td>24674.25</td>\n",
       "      <td>128338.0</td>\n",
       "      <td>353377.50</td>\n",
       "      <td>4.262672e+08</td>\n",
       "    </tr>\n",
       "    <tr>\n",
       "      <th>import</th>\n",
       "      <td>60.0</td>\n",
       "      <td>2.636521e+06</td>\n",
       "      <td>8.448345e+06</td>\n",
       "      <td>69.0</td>\n",
       "      <td>10147.75</td>\n",
       "      <td>89944.0</td>\n",
       "      <td>929213.75</td>\n",
       "      <td>5.839433e+07</td>\n",
       "    </tr>\n",
       "    <tr>\n",
       "      <th>3</th>\n",
       "      <th>export</th>\n",
       "      <td>60.0</td>\n",
       "      <td>1.208458e+06</td>\n",
       "      <td>3.290170e+06</td>\n",
       "      <td>141.0</td>\n",
       "      <td>12549.00</td>\n",
       "      <td>55491.0</td>\n",
       "      <td>524491.50</td>\n",
       "      <td>1.445500e+07</td>\n",
       "    </tr>\n",
       "    <tr>\n",
       "      <th>...</th>\n",
       "      <th>...</th>\n",
       "      <th>...</th>\n",
       "      <td>...</td>\n",
       "      <td>...</td>\n",
       "      <td>...</td>\n",
       "      <td>...</td>\n",
       "      <td>...</td>\n",
       "      <td>...</td>\n",
       "      <td>...</td>\n",
       "      <td>...</td>\n",
       "    </tr>\n",
       "    <tr>\n",
       "      <th rowspan=\"5\" valign=\"top\">2020</th>\n",
       "      <th>6</th>\n",
       "      <th>import</th>\n",
       "      <td>60.0</td>\n",
       "      <td>5.069685e+06</td>\n",
       "      <td>2.221948e+07</td>\n",
       "      <td>142.0</td>\n",
       "      <td>14254.75</td>\n",
       "      <td>77803.5</td>\n",
       "      <td>996377.50</td>\n",
       "      <td>1.607289e+08</td>\n",
       "    </tr>\n",
       "    <tr>\n",
       "      <th rowspan=\"2\" valign=\"top\">7</th>\n",
       "      <th>export</th>\n",
       "      <td>60.0</td>\n",
       "      <td>5.143909e+07</td>\n",
       "      <td>2.721380e+08</td>\n",
       "      <td>77.0</td>\n",
       "      <td>1557.75</td>\n",
       "      <td>33564.0</td>\n",
       "      <td>422279.25</td>\n",
       "      <td>1.614828e+09</td>\n",
       "    </tr>\n",
       "    <tr>\n",
       "      <th>import</th>\n",
       "      <td>60.0</td>\n",
       "      <td>5.467103e+06</td>\n",
       "      <td>2.312291e+07</td>\n",
       "      <td>119.0</td>\n",
       "      <td>5993.25</td>\n",
       "      <td>95733.0</td>\n",
       "      <td>613975.75</td>\n",
       "      <td>1.332329e+08</td>\n",
       "    </tr>\n",
       "    <tr>\n",
       "      <th rowspan=\"2\" valign=\"top\">8</th>\n",
       "      <th>export</th>\n",
       "      <td>60.0</td>\n",
       "      <td>5.514310e+07</td>\n",
       "      <td>3.987931e+08</td>\n",
       "      <td>90.0</td>\n",
       "      <td>1276.50</td>\n",
       "      <td>17721.0</td>\n",
       "      <td>284130.00</td>\n",
       "      <td>3.087959e+09</td>\n",
       "    </tr>\n",
       "    <tr>\n",
       "      <th>import</th>\n",
       "      <td>60.0</td>\n",
       "      <td>3.982231e+06</td>\n",
       "      <td>1.498214e+07</td>\n",
       "      <td>102.0</td>\n",
       "      <td>16113.50</td>\n",
       "      <td>59710.0</td>\n",
       "      <td>698626.25</td>\n",
       "      <td>8.250431e+07</td>\n",
       "    </tr>\n",
       "  </tbody>\n",
       "</table>\n",
       "<p>64 rows × 8 columns</p>\n",
       "</div>"
      ],
      "text/plain": [
       "                  value_baht                                               \\\n",
       "                       count          mean           std    min       25%   \n",
       "year month type                                                             \n",
       "2018 1     export       60.0  8.109096e+05  2.824838e+06  306.0  13633.75   \n",
       "           import       60.0  1.994404e+06  8.018667e+06   27.0   5416.75   \n",
       "     2     export       60.0  1.341701e+07  6.934819e+07  158.0  24674.25   \n",
       "           import       60.0  2.636521e+06  8.448345e+06   69.0  10147.75   \n",
       "     3     export       60.0  1.208458e+06  3.290170e+06  141.0  12549.00   \n",
       "...                      ...           ...           ...    ...       ...   \n",
       "2020 6     import       60.0  5.069685e+06  2.221948e+07  142.0  14254.75   \n",
       "     7     export       60.0  5.143909e+07  2.721380e+08   77.0   1557.75   \n",
       "           import       60.0  5.467103e+06  2.312291e+07  119.0   5993.25   \n",
       "     8     export       60.0  5.514310e+07  3.987931e+08   90.0   1276.50   \n",
       "           import       60.0  3.982231e+06  1.498214e+07  102.0  16113.50   \n",
       "\n",
       "                                                      \n",
       "                        50%        75%           max  \n",
       "year month type                                       \n",
       "2018 1     export   48063.0  209654.25  1.610833e+07  \n",
       "           import   22739.0  449358.00  5.891475e+07  \n",
       "     2     export  128338.0  353377.50  4.262672e+08  \n",
       "           import   89944.0  929213.75  5.839433e+07  \n",
       "     3     export   55491.0  524491.50  1.445500e+07  \n",
       "...                     ...        ...           ...  \n",
       "2020 6     import   77803.5  996377.50  1.607289e+08  \n",
       "     7     export   33564.0  422279.25  1.614828e+09  \n",
       "           import   95733.0  613975.75  1.332329e+08  \n",
       "     8     export   17721.0  284130.00  3.087959e+09  \n",
       "           import   59710.0  698626.25  8.250431e+07  \n",
       "\n",
       "[64 rows x 8 columns]"
      ]
     },
     "execution_count": 15,
     "metadata": {},
     "output_type": "execute_result"
    }
   ],
   "source": [
    "data.groupby(['year','month','type']).describe() # เช็ค Summary ของแต่ละคอลัมน์โดยกำหนด index ให้เป็น year month เเละ type"
   ]
  },
  {
   "cell_type": "markdown",
   "metadata": {},
   "source": [
    "### เปลี่ยนหน่วยในคอลัมน์ value_baht \n",
    ">เนื่องจากข้อมูลที่มีตัวเลขมากๆ นั้น จะทำให้พิจารณาหรือมองข้อมูลได้ยาก รวมถึงในการ plot Graph เพื่อเเสดงค่าด้วย <br>\n",
    "ดังนั้นจึงทำการเเบ่งค่าข้อมูลของ value_baht จากหน่วยบาทให้มีหน่วยเป็นพันบาท เเล้วเก็บในตัวแปร value_thousand\n",
    ">ซึ่งมีกระบวนการในการทำดังนี้ <br> - เเบ่งค่าข้อมูลของ value_baht_sum จากเป็นหน่วยบาท ให้มีหน่วยเป็นพันบาท <br> - ปัดเศษค่าของมูลค่าในหน่วยพันบาท \n",
    "<br> - เปลี่ยนประเภทข้อมูลจาก Float เป็น integer "
   ]
  },
  {
   "cell_type": "markdown",
   "metadata": {},
   "source": [
    "#### เเบ่งค่าข้อมูลของ value_baht_sum จากเป็นหน่วยบาท ให้มีหน่วยเป็นพันบาท "
   ]
  },
  {
   "cell_type": "code",
   "execution_count": 16,
   "metadata": {
    "scrolled": true
   },
   "outputs": [
    {
     "data": {
      "text/html": [
       "<div>\n",
       "<style scoped>\n",
       "    .dataframe tbody tr th:only-of-type {\n",
       "        vertical-align: middle;\n",
       "    }\n",
       "\n",
       "    .dataframe tbody tr th {\n",
       "        vertical-align: top;\n",
       "    }\n",
       "\n",
       "    .dataframe thead th {\n",
       "        text-align: right;\n",
       "    }\n",
       "</style>\n",
       "<table border=\"1\" class=\"dataframe\">\n",
       "  <thead>\n",
       "    <tr style=\"text-align: right;\">\n",
       "      <th></th>\n",
       "      <th>value_baht</th>\n",
       "      <th>value_thousand</th>\n",
       "    </tr>\n",
       "  </thead>\n",
       "  <tbody>\n",
       "    <tr>\n",
       "      <th>11</th>\n",
       "      <td>15131.0</td>\n",
       "      <td>15.131</td>\n",
       "    </tr>\n",
       "    <tr>\n",
       "      <th>12</th>\n",
       "      <td>16376.0</td>\n",
       "      <td>16.376</td>\n",
       "    </tr>\n",
       "    <tr>\n",
       "      <th>13</th>\n",
       "      <td>16887.0</td>\n",
       "      <td>16.887</td>\n",
       "    </tr>\n",
       "    <tr>\n",
       "      <th>14</th>\n",
       "      <td>16900.0</td>\n",
       "      <td>16.900</td>\n",
       "    </tr>\n",
       "    <tr>\n",
       "      <th>15</th>\n",
       "      <td>21199.0</td>\n",
       "      <td>21.199</td>\n",
       "    </tr>\n",
       "    <tr>\n",
       "      <th>16</th>\n",
       "      <td>25722.0</td>\n",
       "      <td>25.722</td>\n",
       "    </tr>\n",
       "    <tr>\n",
       "      <th>17</th>\n",
       "      <td>29845.0</td>\n",
       "      <td>29.845</td>\n",
       "    </tr>\n",
       "    <tr>\n",
       "      <th>18</th>\n",
       "      <td>32125.0</td>\n",
       "      <td>32.125</td>\n",
       "    </tr>\n",
       "    <tr>\n",
       "      <th>19</th>\n",
       "      <td>60203.0</td>\n",
       "      <td>60.203</td>\n",
       "    </tr>\n",
       "  </tbody>\n",
       "</table>\n",
       "</div>"
      ],
      "text/plain": [
       "    value_baht  value_thousand\n",
       "11     15131.0          15.131\n",
       "12     16376.0          16.376\n",
       "13     16887.0          16.887\n",
       "14     16900.0          16.900\n",
       "15     21199.0          21.199\n",
       "16     25722.0          25.722\n",
       "17     29845.0          29.845\n",
       "18     32125.0          32.125\n",
       "19     60203.0          60.203"
      ]
     },
     "execution_count": 16,
     "metadata": {},
     "output_type": "execute_result"
    }
   ],
   "source": [
    "# ตั้ง column ใหม่ชื่อ value_thousand โดยเก็บเป็น array โดยใช้ข้อมูลของ มูลค่าบาท / 1000 เพื่อได้ค่าในหน่อยพันบาท\n",
    "data['value_thousand'] = np.array((np.array(data['value_baht']) / 1000)) \n",
    "data[['value_baht','value_thousand']].iloc[11:20] # เลือกดู มูลค่าเงินบาท เเละ มูลค่าเงินพัน เพื่อเปรียบเทียบ"
   ]
  },
  {
   "cell_type": "markdown",
   "metadata": {},
   "source": [
    "#### ปัดเศษ value_thousand\n",
    "> เนื่องจากเมื่อเเปลงเเล้ว ข้อมูลที่ได้จะมีเศษ ทำให้อ่านข้อมูลได้ยาก ผู้จัดทำจึงทำการปัดเศษ โดยหากข้อมูลที่มีค่าหลังทศนิยม มากกว่า 5 จะปัดเศษขึ้น "
   ]
  },
  {
   "cell_type": "code",
   "execution_count": 17,
   "metadata": {},
   "outputs": [
    {
     "data": {
      "text/html": [
       "<div>\n",
       "<style scoped>\n",
       "    .dataframe tbody tr th:only-of-type {\n",
       "        vertical-align: middle;\n",
       "    }\n",
       "\n",
       "    .dataframe tbody tr th {\n",
       "        vertical-align: top;\n",
       "    }\n",
       "\n",
       "    .dataframe thead th {\n",
       "        text-align: right;\n",
       "    }\n",
       "</style>\n",
       "<table border=\"1\" class=\"dataframe\">\n",
       "  <thead>\n",
       "    <tr style=\"text-align: right;\">\n",
       "      <th></th>\n",
       "      <th>year</th>\n",
       "      <th>month</th>\n",
       "      <th>type</th>\n",
       "      <th>port_name</th>\n",
       "      <th>province_name</th>\n",
       "      <th>country_code</th>\n",
       "      <th>country_name_en</th>\n",
       "      <th>country_name_th</th>\n",
       "      <th>product_name</th>\n",
       "      <th>value_baht</th>\n",
       "      <th>value_thousand</th>\n",
       "    </tr>\n",
       "  </thead>\n",
       "  <tbody>\n",
       "    <tr>\n",
       "      <th>11</th>\n",
       "      <td>2018</td>\n",
       "      <td>1</td>\n",
       "      <td>import</td>\n",
       "      <td>ด่านศุลกากรปาดังเบซาร์  3(ศภ.4)</td>\n",
       "      <td>สงขลา</td>\n",
       "      <td>CN</td>\n",
       "      <td>CHINA</td>\n",
       "      <td>สาธารณรัฐประชาชนจีน (ตอนใต้)</td>\n",
       "      <td>กระจก แก้ว และผลิตภัณฑ์อื่น ๆ</td>\n",
       "      <td>15131.0</td>\n",
       "      <td>15.0</td>\n",
       "    </tr>\n",
       "    <tr>\n",
       "      <th>12</th>\n",
       "      <td>2018</td>\n",
       "      <td>1</td>\n",
       "      <td>import</td>\n",
       "      <td>รพท.มุกดาหารลานทอง ด่านศุลกากรมุกดาหาร</td>\n",
       "      <td>มุกดาหาร</td>\n",
       "      <td>CN</td>\n",
       "      <td>CHINA</td>\n",
       "      <td>สาธารณรัฐประชาชนจีน (ตอนใต้)</td>\n",
       "      <td>กระจก แก้ว และผลิตภัณฑ์อื่น ๆ</td>\n",
       "      <td>16376.0</td>\n",
       "      <td>16.0</td>\n",
       "    </tr>\n",
       "    <tr>\n",
       "      <th>13</th>\n",
       "      <td>2018</td>\n",
       "      <td>1</td>\n",
       "      <td>import</td>\n",
       "      <td>ด่านศุลกากรสะเดา (ศภ.4)</td>\n",
       "      <td>สงขลา</td>\n",
       "      <td>CN</td>\n",
       "      <td>CHINA</td>\n",
       "      <td>สาธารณรัฐประชาชนจีน (ตอนใต้)</td>\n",
       "      <td>กระจก แก้ว และผลิตภัณฑ์อื่น ๆ</td>\n",
       "      <td>16887.0</td>\n",
       "      <td>17.0</td>\n",
       "    </tr>\n",
       "    <tr>\n",
       "      <th>14</th>\n",
       "      <td>2018</td>\n",
       "      <td>1</td>\n",
       "      <td>import</td>\n",
       "      <td>ด่านศุลกากรปาดังเบซาร์  3(ศภ.4)</td>\n",
       "      <td>สงขลา</td>\n",
       "      <td>CN</td>\n",
       "      <td>CHINA</td>\n",
       "      <td>สาธารณรัฐประชาชนจีน (ตอนใต้)</td>\n",
       "      <td>กระจก แก้ว และผลิตภัณฑ์อื่น ๆ</td>\n",
       "      <td>16900.0</td>\n",
       "      <td>17.0</td>\n",
       "    </tr>\n",
       "    <tr>\n",
       "      <th>15</th>\n",
       "      <td>2018</td>\n",
       "      <td>1</td>\n",
       "      <td>import</td>\n",
       "      <td>ด่านศุลกากรสะเดา (ศภ.4)</td>\n",
       "      <td>สงขลา</td>\n",
       "      <td>CN</td>\n",
       "      <td>CHINA</td>\n",
       "      <td>สาธารณรัฐประชาชนจีน (ตอนใต้)</td>\n",
       "      <td>กระจก แก้ว และผลิตภัณฑ์อื่น ๆ</td>\n",
       "      <td>21199.0</td>\n",
       "      <td>21.0</td>\n",
       "    </tr>\n",
       "    <tr>\n",
       "      <th>16</th>\n",
       "      <td>2018</td>\n",
       "      <td>1</td>\n",
       "      <td>import</td>\n",
       "      <td>ด่านศุลกากรนครพนม (ศภ.2)</td>\n",
       "      <td>นครพนม</td>\n",
       "      <td>CN</td>\n",
       "      <td>CHINA</td>\n",
       "      <td>สาธารณรัฐประชาชนจีน (ตอนใต้)</td>\n",
       "      <td>กระจก แก้ว และผลิตภัณฑ์อื่น ๆ</td>\n",
       "      <td>25722.0</td>\n",
       "      <td>26.0</td>\n",
       "    </tr>\n",
       "    <tr>\n",
       "      <th>17</th>\n",
       "      <td>2018</td>\n",
       "      <td>1</td>\n",
       "      <td>import</td>\n",
       "      <td>ด่านศุลกากรนครพนม (ศภ.2)</td>\n",
       "      <td>นครพนม</td>\n",
       "      <td>CN</td>\n",
       "      <td>CHINA</td>\n",
       "      <td>สาธารณรัฐประชาชนจีน (ตอนใต้)</td>\n",
       "      <td>กระจก แก้ว และผลิตภัณฑ์อื่น ๆ</td>\n",
       "      <td>29845.0</td>\n",
       "      <td>30.0</td>\n",
       "    </tr>\n",
       "    <tr>\n",
       "      <th>18</th>\n",
       "      <td>2018</td>\n",
       "      <td>1</td>\n",
       "      <td>import</td>\n",
       "      <td>ด่านศุลกากรสะเดา (ศภ.4)</td>\n",
       "      <td>สงขลา</td>\n",
       "      <td>CN</td>\n",
       "      <td>CHINA</td>\n",
       "      <td>สาธารณรัฐประชาชนจีน (ตอนใต้)</td>\n",
       "      <td>กระจก แก้ว และผลิตภัณฑ์อื่น ๆ</td>\n",
       "      <td>32125.0</td>\n",
       "      <td>32.0</td>\n",
       "    </tr>\n",
       "    <tr>\n",
       "      <th>19</th>\n",
       "      <td>2018</td>\n",
       "      <td>1</td>\n",
       "      <td>import</td>\n",
       "      <td>ด่านศุลกากรนครพนม (ศภ.2)</td>\n",
       "      <td>นครพนม</td>\n",
       "      <td>CN</td>\n",
       "      <td>CHINA</td>\n",
       "      <td>สาธารณรัฐประชาชนจีน (ตอนใต้)</td>\n",
       "      <td>กระจก แก้ว และผลิตภัณฑ์อื่น ๆ</td>\n",
       "      <td>60203.0</td>\n",
       "      <td>60.0</td>\n",
       "    </tr>\n",
       "  </tbody>\n",
       "</table>\n",
       "</div>"
      ],
      "text/plain": [
       "    year  month    type                               port_name province_name  \\\n",
       "11  2018      1  import         ด่านศุลกากรปาดังเบซาร์  3(ศภ.4)         สงขลา   \n",
       "12  2018      1  import  รพท.มุกดาหารลานทอง ด่านศุลกากรมุกดาหาร      มุกดาหาร   \n",
       "13  2018      1  import                 ด่านศุลกากรสะเดา (ศภ.4)         สงขลา   \n",
       "14  2018      1  import         ด่านศุลกากรปาดังเบซาร์  3(ศภ.4)         สงขลา   \n",
       "15  2018      1  import                 ด่านศุลกากรสะเดา (ศภ.4)         สงขลา   \n",
       "16  2018      1  import                ด่านศุลกากรนครพนม (ศภ.2)        นครพนม   \n",
       "17  2018      1  import                ด่านศุลกากรนครพนม (ศภ.2)        นครพนม   \n",
       "18  2018      1  import                 ด่านศุลกากรสะเดา (ศภ.4)         สงขลา   \n",
       "19  2018      1  import                ด่านศุลกากรนครพนม (ศภ.2)        นครพนม   \n",
       "\n",
       "   country_code country_name_en               country_name_th  \\\n",
       "11           CN           CHINA  สาธารณรัฐประชาชนจีน (ตอนใต้)   \n",
       "12           CN           CHINA  สาธารณรัฐประชาชนจีน (ตอนใต้)   \n",
       "13           CN           CHINA  สาธารณรัฐประชาชนจีน (ตอนใต้)   \n",
       "14           CN           CHINA  สาธารณรัฐประชาชนจีน (ตอนใต้)   \n",
       "15           CN           CHINA  สาธารณรัฐประชาชนจีน (ตอนใต้)   \n",
       "16           CN           CHINA  สาธารณรัฐประชาชนจีน (ตอนใต้)   \n",
       "17           CN           CHINA  สาธารณรัฐประชาชนจีน (ตอนใต้)   \n",
       "18           CN           CHINA  สาธารณรัฐประชาชนจีน (ตอนใต้)   \n",
       "19           CN           CHINA  สาธารณรัฐประชาชนจีน (ตอนใต้)   \n",
       "\n",
       "                     product_name  value_baht  value_thousand  \n",
       "11  กระจก แก้ว และผลิตภัณฑ์อื่น ๆ     15131.0            15.0  \n",
       "12  กระจก แก้ว และผลิตภัณฑ์อื่น ๆ     16376.0            16.0  \n",
       "13  กระจก แก้ว และผลิตภัณฑ์อื่น ๆ     16887.0            17.0  \n",
       "14  กระจก แก้ว และผลิตภัณฑ์อื่น ๆ     16900.0            17.0  \n",
       "15  กระจก แก้ว และผลิตภัณฑ์อื่น ๆ     21199.0            21.0  \n",
       "16  กระจก แก้ว และผลิตภัณฑ์อื่น ๆ     25722.0            26.0  \n",
       "17  กระจก แก้ว และผลิตภัณฑ์อื่น ๆ     29845.0            30.0  \n",
       "18  กระจก แก้ว และผลิตภัณฑ์อื่น ๆ     32125.0            32.0  \n",
       "19  กระจก แก้ว และผลิตภัณฑ์อื่น ๆ     60203.0            60.0  "
      ]
     },
     "execution_count": 17,
     "metadata": {},
     "output_type": "execute_result"
    }
   ],
   "source": [
    "# นำข้อมูลหลังจากแปลงค่าให้มีหน่วยเป็น sum เเล้ว เข้า DataFrame โดยจะปัดเศษขึ้นหากค่าถัดไป >= 5\n",
    "data['value_thousand'] = data['value_thousand'].round(0) \n",
    "data.iloc[11:20]"
   ]
  },
  {
   "cell_type": "markdown",
   "metadata": {},
   "source": [
    "#### เปลี่ยนประเภทข้อมูล\n",
    "เพื่อความง่ายดายในการดูหรือวิเคราะห์ข้อมูล ผู้ทำจึงเปลี่ยนให้ชนิดของ value_thousand จาก Float เป็นชนิด Int"
   ]
  },
  {
   "cell_type": "code",
   "execution_count": 18,
   "metadata": {},
   "outputs": [
    {
     "data": {
      "text/html": [
       "<div>\n",
       "<style scoped>\n",
       "    .dataframe tbody tr th:only-of-type {\n",
       "        vertical-align: middle;\n",
       "    }\n",
       "\n",
       "    .dataframe tbody tr th {\n",
       "        vertical-align: top;\n",
       "    }\n",
       "\n",
       "    .dataframe thead th {\n",
       "        text-align: right;\n",
       "    }\n",
       "</style>\n",
       "<table border=\"1\" class=\"dataframe\">\n",
       "  <thead>\n",
       "    <tr style=\"text-align: right;\">\n",
       "      <th></th>\n",
       "      <th>value_thousand</th>\n",
       "    </tr>\n",
       "  </thead>\n",
       "  <tbody>\n",
       "    <tr>\n",
       "      <th>0</th>\n",
       "      <td>22</td>\n",
       "    </tr>\n",
       "    <tr>\n",
       "      <th>1</th>\n",
       "      <td>436</td>\n",
       "    </tr>\n",
       "    <tr>\n",
       "      <th>2</th>\n",
       "      <td>2</td>\n",
       "    </tr>\n",
       "  </tbody>\n",
       "</table>\n",
       "</div>"
      ],
      "text/plain": [
       "   value_thousand\n",
       "0              22\n",
       "1             436\n",
       "2               2"
      ]
     },
     "execution_count": 18,
     "metadata": {},
     "output_type": "execute_result"
    }
   ],
   "source": [
    "data.value_thousand = data.value_thousand.astype('int64') # เปลี่ยนชนิดข้อมูล จาก float เป็น int\n",
    "data[['value_thousand']].head(3)"
   ]
  },
  {
   "cell_type": "code",
   "execution_count": 19,
   "metadata": {
    "scrolled": true
   },
   "outputs": [
    {
     "data": {
      "text/html": [
       "<div>\n",
       "<style scoped>\n",
       "    .dataframe tbody tr th:only-of-type {\n",
       "        vertical-align: middle;\n",
       "    }\n",
       "\n",
       "    .dataframe tbody tr th {\n",
       "        vertical-align: top;\n",
       "    }\n",
       "\n",
       "    .dataframe thead th {\n",
       "        text-align: right;\n",
       "    }\n",
       "</style>\n",
       "<table border=\"1\" class=\"dataframe\">\n",
       "  <thead>\n",
       "    <tr style=\"text-align: right;\">\n",
       "      <th></th>\n",
       "      <th>year</th>\n",
       "      <th>month</th>\n",
       "      <th>type</th>\n",
       "      <th>port_name</th>\n",
       "      <th>province_name</th>\n",
       "      <th>country_code</th>\n",
       "      <th>country_name_en</th>\n",
       "      <th>country_name_th</th>\n",
       "      <th>product_name</th>\n",
       "      <th>value_baht</th>\n",
       "      <th>value_thousand</th>\n",
       "    </tr>\n",
       "  </thead>\n",
       "  <tbody>\n",
       "    <tr>\n",
       "      <th>0</th>\n",
       "      <td>2018</td>\n",
       "      <td>1</td>\n",
       "      <td>import</td>\n",
       "      <td>รพท.มุกดาหารลานทอง ด่านศุลกากรมุกดาหาร</td>\n",
       "      <td>มุกดาหาร</td>\n",
       "      <td>CN</td>\n",
       "      <td>CHINA</td>\n",
       "      <td>สาธารณรัฐประชาชนจีน (ตอนใต้)</td>\n",
       "      <td>กรอบและโครงสำหรับแว่นตา</td>\n",
       "      <td>22369.0</td>\n",
       "      <td>22</td>\n",
       "    </tr>\n",
       "    <tr>\n",
       "      <th>1</th>\n",
       "      <td>2018</td>\n",
       "      <td>1</td>\n",
       "      <td>import</td>\n",
       "      <td>รพท.มุกดาหารลานทอง ด่านศุลกากรมุกดาหาร</td>\n",
       "      <td>มุกดาหาร</td>\n",
       "      <td>CN</td>\n",
       "      <td>CHINA</td>\n",
       "      <td>สาธารณรัฐประชาชนจีน (ตอนใต้)</td>\n",
       "      <td>กรอบและโครงสำหรับแว่นตา</td>\n",
       "      <td>435714.0</td>\n",
       "      <td>436</td>\n",
       "    </tr>\n",
       "    <tr>\n",
       "      <th>2</th>\n",
       "      <td>2018</td>\n",
       "      <td>1</td>\n",
       "      <td>import</td>\n",
       "      <td>รพท.มุกดาหารลานทอง ด่านศุลกากรมุกดาหาร</td>\n",
       "      <td>มุกดาหาร</td>\n",
       "      <td>CN</td>\n",
       "      <td>CHINA</td>\n",
       "      <td>สาธารณรัฐประชาชนจีน (ตอนใต้)</td>\n",
       "      <td>กระจก แก้ว และผลิตภัณฑ์อื่น ๆ</td>\n",
       "      <td>1972.0</td>\n",
       "      <td>2</td>\n",
       "    </tr>\n",
       "    <tr>\n",
       "      <th>3</th>\n",
       "      <td>2018</td>\n",
       "      <td>1</td>\n",
       "      <td>import</td>\n",
       "      <td>ด่านศุลกากรสะเดา (ศภ.4)</td>\n",
       "      <td>สงขลา</td>\n",
       "      <td>CN</td>\n",
       "      <td>CHINA</td>\n",
       "      <td>สาธารณรัฐประชาชนจีน (ตอนใต้)</td>\n",
       "      <td>กระจก แก้ว และผลิตภัณฑ์อื่น ๆ</td>\n",
       "      <td>2014.0</td>\n",
       "      <td>2</td>\n",
       "    </tr>\n",
       "    <tr>\n",
       "      <th>4</th>\n",
       "      <td>2018</td>\n",
       "      <td>1</td>\n",
       "      <td>import</td>\n",
       "      <td>ด่านศุลกากรหนองคาย (ศภ.2)</td>\n",
       "      <td>หนองคาย</td>\n",
       "      <td>CN</td>\n",
       "      <td>CHINA</td>\n",
       "      <td>สาธารณรัฐประชาชนจีน (ตอนใต้)</td>\n",
       "      <td>กระจก แก้ว และผลิตภัณฑ์อื่น ๆ</td>\n",
       "      <td>2145.0</td>\n",
       "      <td>2</td>\n",
       "    </tr>\n",
       "  </tbody>\n",
       "</table>\n",
       "</div>"
      ],
      "text/plain": [
       "   year  month    type                               port_name province_name  \\\n",
       "0  2018      1  import  รพท.มุกดาหารลานทอง ด่านศุลกากรมุกดาหาร      มุกดาหาร   \n",
       "1  2018      1  import  รพท.มุกดาหารลานทอง ด่านศุลกากรมุกดาหาร      มุกดาหาร   \n",
       "2  2018      1  import  รพท.มุกดาหารลานทอง ด่านศุลกากรมุกดาหาร      มุกดาหาร   \n",
       "3  2018      1  import                 ด่านศุลกากรสะเดา (ศภ.4)         สงขลา   \n",
       "4  2018      1  import               ด่านศุลกากรหนองคาย (ศภ.2)       หนองคาย   \n",
       "\n",
       "  country_code country_name_en               country_name_th  \\\n",
       "0           CN           CHINA  สาธารณรัฐประชาชนจีน (ตอนใต้)   \n",
       "1           CN           CHINA  สาธารณรัฐประชาชนจีน (ตอนใต้)   \n",
       "2           CN           CHINA  สาธารณรัฐประชาชนจีน (ตอนใต้)   \n",
       "3           CN           CHINA  สาธารณรัฐประชาชนจีน (ตอนใต้)   \n",
       "4           CN           CHINA  สาธารณรัฐประชาชนจีน (ตอนใต้)   \n",
       "\n",
       "                    product_name  value_baht  value_thousand  \n",
       "0        กรอบและโครงสำหรับแว่นตา     22369.0              22  \n",
       "1        กรอบและโครงสำหรับแว่นตา    435714.0             436  \n",
       "2  กระจก แก้ว และผลิตภัณฑ์อื่น ๆ      1972.0               2  \n",
       "3  กระจก แก้ว และผลิตภัณฑ์อื่น ๆ      2014.0               2  \n",
       "4  กระจก แก้ว และผลิตภัณฑ์อื่น ๆ      2145.0               2  "
      ]
     },
     "execution_count": 19,
     "metadata": {},
     "output_type": "execute_result"
    }
   ],
   "source": [
    "# เรียกดูข้อมูล\n",
    "data.head()"
   ]
  },
  {
   "cell_type": "markdown",
   "metadata": {},
   "source": [
    "### delete some column \n",
    "> 1. ลบ column country_code เนื่องจากข้อมูลมีความหมายเดียวกันกับ column country_name_en เพราะผู้จัดทำใช้ country_code ในการดึงข้อมูลจาก API ในครั้งเเรกเท่านั้น หากจะใช้อ้างอิงถึงประเทศก็สามารถใช้ column country_name_en เเทนได้\n",
    "> 2. ลบ column value_baht ออกเพื่อประหยัดพื้นที่ได้มากขึ้น เพราะในการวิเคราะห์จะใช้ข้อมูล value_thousand เเทนได้\n",
    ">  - พร้อมตรวจสอบข้อมูลหลังจากลบเรียบร้อยเเล้ว"
   ]
  },
  {
   "cell_type": "markdown",
   "metadata": {},
   "source": [
    "#### ลบ column  country_code and  value_baht"
   ]
  },
  {
   "cell_type": "code",
   "execution_count": 20,
   "metadata": {},
   "outputs": [],
   "source": [
    "#ลบ column  country_code and  value_baht ทิ้งเเละให้เปลี่ยนแปลงตัวแปร data เลยด้วย \n",
    "data.drop(['country_code', 'value_baht'], axis='columns', inplace=True) "
   ]
  },
  {
   "cell_type": "markdown",
   "metadata": {},
   "source": [
    "#### ตรวจสอบค่าข้อมูลหลังจากลบเรียบร้อยเเล้ว"
   ]
  },
  {
   "cell_type": "code",
   "execution_count": 21,
   "metadata": {},
   "outputs": [
    {
     "data": {
      "text/html": [
       "<div>\n",
       "<style scoped>\n",
       "    .dataframe tbody tr th:only-of-type {\n",
       "        vertical-align: middle;\n",
       "    }\n",
       "\n",
       "    .dataframe tbody tr th {\n",
       "        vertical-align: top;\n",
       "    }\n",
       "\n",
       "    .dataframe thead th {\n",
       "        text-align: right;\n",
       "    }\n",
       "</style>\n",
       "<table border=\"1\" class=\"dataframe\">\n",
       "  <thead>\n",
       "    <tr style=\"text-align: right;\">\n",
       "      <th></th>\n",
       "      <th>year</th>\n",
       "      <th>month</th>\n",
       "      <th>type</th>\n",
       "      <th>port_name</th>\n",
       "      <th>province_name</th>\n",
       "      <th>country_name_en</th>\n",
       "      <th>country_name_th</th>\n",
       "      <th>product_name</th>\n",
       "      <th>value_thousand</th>\n",
       "    </tr>\n",
       "  </thead>\n",
       "  <tbody>\n",
       "    <tr>\n",
       "      <th>0</th>\n",
       "      <td>2018</td>\n",
       "      <td>1</td>\n",
       "      <td>import</td>\n",
       "      <td>รพท.มุกดาหารลานทอง ด่านศุลกากรมุกดาหาร</td>\n",
       "      <td>มุกดาหาร</td>\n",
       "      <td>CHINA</td>\n",
       "      <td>สาธารณรัฐประชาชนจีน (ตอนใต้)</td>\n",
       "      <td>กรอบและโครงสำหรับแว่นตา</td>\n",
       "      <td>22</td>\n",
       "    </tr>\n",
       "  </tbody>\n",
       "</table>\n",
       "</div>"
      ],
      "text/plain": [
       "   year  month    type                               port_name province_name  \\\n",
       "0  2018      1  import  รพท.มุกดาหารลานทอง ด่านศุลกากรมุกดาหาร      มุกดาหาร   \n",
       "\n",
       "  country_name_en               country_name_th             product_name  \\\n",
       "0           CHINA  สาธารณรัฐประชาชนจีน (ตอนใต้)  กรอบและโครงสำหรับแว่นตา   \n",
       "\n",
       "   value_thousand  \n",
       "0              22  "
      ]
     },
     "execution_count": 21,
     "metadata": {},
     "output_type": "execute_result"
    }
   ],
   "source": [
    "data.head(1) # เมื่อลองเรียกดูข้อมูลจะพบว่า column  country_code and  value_baht ไม่มีอยู่ใน dataFrame เเล้ว"
   ]
  },
  {
   "attachments": {
    "image.png": {
     "image/png": "[encoded data removed]"
    }
   },
   "cell_type": "markdown",
   "metadata": {},
   "source": [
    "### จัดการค่าความซ้ำซ้อน \n",
    ">จัดการข้อมูลที่เป็นข้อมูลซ้ำกันในทุกๆ  column รวมถึงรายการสินค้าเดียวกัน เเต่เเตกต่างกันเพียงเเค่ value_baht หรือราคาสินค้าเท่านั้น <br>\n",
    "จึงจัดการเพื่อให้ข้อมูลที่มี Feature เดียวกันมายุบรวมไว้ด้วยกัน เเละ รวมค่าของ ราคาสินค้าไว้ เพื่อลดจำนวนเเถวข้อมูลได้ เเละนำไปใช้ได้ง่ายมากยิ่งขึ้น <br> <br>\n",
    "*เเสดงภาพตัวอย่างก่อนจัดการค่าซ้ำซ้อนดังนี้* \n",
    "![image.png](attachment:image.png)\n",
    "\n",
    ">จากภาพตัวอย่างจะพบว่ามีข้อมูลซ้ำกันบางคอลัมน์ ผู้จัดทำจึงจะทำการรวมเป็นเเถวเดียวเพื่อง่ายต่อการจัดการข้อมูลมากขึ้น"
   ]
  },
  {
   "attachments": {
    "image.png": {
     "image/png": "[encoded data removed]"
    }
   },
   "cell_type": "markdown",
   "metadata": {},
   "source": [
    ">*ภาพตัวอย่างหลังจากรวมข้อมูลเเล้ว* ซึ่งจากภาพผลลัพธ์จะเป็นการรวมกันของราคาสินค้ากรอบเเละโครงเเว่นสำหรับเเว่นตา จากการนำเข้าจากแหล่งเดียวกัน ดังภาพ\n",
    "![image.png](attachment:image.png)\n",
    "\n",
    ">โดยกระบวนการในการจัดการค่าซ้ำซ้อนมี \n",
    "><ul><li>หาผลรวมมูลค่าของเเต่ละรายการเเถวข้อมูลที่ซ้ำกัน โดยหาผลรวม มูลค่านำเข้าหรือส่งออก ที่เป็นข้อมูลในปีเดียว เดือนเดียวกัน ประเภทการค้า ด่านที่ผ่านการค้า จังหวัด \n",
    "เเละประเทศของข้อมูล เพื่อหาผลรวมของเเต่ละรายการสินค้า</li><li>นำข้อมูลหลังจากรวมราคาสินค้าเข้า DataFrame</li></ul>"
   ]
  },
  {
   "cell_type": "markdown",
   "metadata": {},
   "source": [
    "#### หาผลรวมมูลค่าของเเต่ละรายการเเถวข้อมูลที่ซ้ำกัน"
   ]
  },
  {
   "cell_type": "code",
   "execution_count": 22,
   "metadata": {},
   "outputs": [
    {
     "data": {
      "text/html": [
       "<div>\n",
       "<style scoped>\n",
       "    .dataframe tbody tr th:only-of-type {\n",
       "        vertical-align: middle;\n",
       "    }\n",
       "\n",
       "    .dataframe tbody tr th {\n",
       "        vertical-align: top;\n",
       "    }\n",
       "\n",
       "    .dataframe thead tr th {\n",
       "        text-align: left;\n",
       "    }\n",
       "\n",
       "    .dataframe thead tr:last-of-type th {\n",
       "        text-align: right;\n",
       "    }\n",
       "</style>\n",
       "<table border=\"1\" class=\"dataframe\">\n",
       "  <thead>\n",
       "    <tr>\n",
       "      <th></th>\n",
       "      <th></th>\n",
       "      <th></th>\n",
       "      <th></th>\n",
       "      <th></th>\n",
       "      <th></th>\n",
       "      <th></th>\n",
       "      <th>value_thousand</th>\n",
       "    </tr>\n",
       "    <tr>\n",
       "      <th></th>\n",
       "      <th></th>\n",
       "      <th></th>\n",
       "      <th></th>\n",
       "      <th></th>\n",
       "      <th></th>\n",
       "      <th></th>\n",
       "      <th>sum</th>\n",
       "    </tr>\n",
       "    <tr>\n",
       "      <th>year</th>\n",
       "      <th>month</th>\n",
       "      <th>type</th>\n",
       "      <th>port_name</th>\n",
       "      <th>province_name</th>\n",
       "      <th>country_name_en</th>\n",
       "      <th>product_name</th>\n",
       "      <th></th>\n",
       "    </tr>\n",
       "  </thead>\n",
       "  <tbody>\n",
       "    <tr>\n",
       "      <th rowspan=\"10\" valign=\"top\">2018</th>\n",
       "      <th rowspan=\"10\" valign=\"top\">1</th>\n",
       "      <th rowspan=\"10\" valign=\"top\">export</th>\n",
       "      <th rowspan=\"7\" valign=\"top\">ด่านศุลกากรสะเดา (ศภ.4)</th>\n",
       "      <th rowspan=\"7\" valign=\"top\">สงขลา</th>\n",
       "      <th rowspan=\"7\" valign=\"top\">SINGAPORE</th>\n",
       "      <th>กระดาษชำระ กระดาษเช็ดหน้า กระดาษอนามัย</th>\n",
       "      <td>6</td>\n",
       "    </tr>\n",
       "    <tr>\n",
       "      <th>กระดาษแข็ง</th>\n",
       "      <td>12</td>\n",
       "    </tr>\n",
       "    <tr>\n",
       "      <th>กระดาษและผลิตภัณฑ์กระดาษอื่นๆ</th>\n",
       "      <td>305</td>\n",
       "    </tr>\n",
       "    <tr>\n",
       "      <th>กระเป๋าถือ</th>\n",
       "      <td>72</td>\n",
       "    </tr>\n",
       "    <tr>\n",
       "      <th>กระเป๋าเดินทาง</th>\n",
       "      <td>79</td>\n",
       "    </tr>\n",
       "    <tr>\n",
       "      <th>กระเป๋าใส่เศษสตางค์</th>\n",
       "      <td>8</td>\n",
       "    </tr>\n",
       "    <tr>\n",
       "      <th>กล่องหีบที่ทำด้วยพลาสติก</th>\n",
       "      <td>2419</td>\n",
       "    </tr>\n",
       "    <tr>\n",
       "      <th rowspan=\"3\" valign=\"top\">ด่านศุลกากรเชียงของ (ศภ.3)</th>\n",
       "      <th rowspan=\"3\" valign=\"top\">เชียงราย</th>\n",
       "      <th rowspan=\"3\" valign=\"top\">CHINA</th>\n",
       "      <th>กระดาษชำระ กระดาษเช็ดหน้า กระดาษอนามัย</th>\n",
       "      <td>1103</td>\n",
       "    </tr>\n",
       "    <tr>\n",
       "      <th>กระติกสูญญากาศและส่วนประกอบ</th>\n",
       "      <td>36</td>\n",
       "    </tr>\n",
       "    <tr>\n",
       "      <th>กล่องหีบที่ทำด้วยพลาสติก</th>\n",
       "      <td>2</td>\n",
       "    </tr>\n",
       "  </tbody>\n",
       "</table>\n",
       "</div>"
      ],
      "text/plain": [
       "                                                                                                                  value_thousand\n",
       "                                                                                                                             sum\n",
       "year month type   port_name                  province_name country_name_en product_name                                         \n",
       "2018 1     export ด่านศุลกากรสะเดา (ศภ.4)    สงขลา         SINGAPORE       กระดาษชำระ กระดาษเช็ดหน้า กระดาษอนามัย              6\n",
       "                                                                           กระดาษแข็ง                                         12\n",
       "                                                                           กระดาษและผลิตภัณฑ์กระดาษอื่นๆ                     305\n",
       "                                                                           กระเป๋าถือ                                         72\n",
       "                                                                           กระเป๋าเดินทาง                                     79\n",
       "                                                                           กระเป๋าใส่เศษสตางค์                                 8\n",
       "                                                                           กล่องหีบที่ทำด้วยพลาสติก                         2419\n",
       "                  ด่านศุลกากรเชียงของ (ศภ.3) เชียงราย      CHINA           กระดาษชำระ กระดาษเช็ดหน้า กระดาษอนามัย           1103\n",
       "                                                                           กระติกสูญญากาศและส่วนประกอบ                        36\n",
       "                                                                           กล่องหีบที่ทำด้วยพลาสติก                            2"
      ]
     },
     "execution_count": 22,
     "metadata": {},
     "output_type": "execute_result"
    }
   ],
   "source": [
    "# ใช้ Group by ในการเเบ่งรายการเเถวข้อมูล โดยใช้ aggregate 'sum' เพื่อรวมค่าของราคาสินค้านั้นๆ \n",
    "grouped_data = data.groupby(['year', 'month','type','port_name','province_name','country_name_en','product_name']).agg({'value_thousand':['sum']})\n",
    "grouped_data.iloc[10:20] # เเสดงผลลัพธ์"
   ]
  },
  {
   "cell_type": "markdown",
   "metadata": {},
   "source": [
    "#### นำข้อมูลหลังจากรวมราคาสินค้าเข้า DataFrame"
   ]
  },
  {
   "cell_type": "code",
   "execution_count": 23,
   "metadata": {
    "scrolled": false
   },
   "outputs": [
    {
     "data": {
      "text/html": [
       "<div>\n",
       "<style scoped>\n",
       "    .dataframe tbody tr th:only-of-type {\n",
       "        vertical-align: middle;\n",
       "    }\n",
       "\n",
       "    .dataframe tbody tr th {\n",
       "        vertical-align: top;\n",
       "    }\n",
       "\n",
       "    .dataframe thead th {\n",
       "        text-align: right;\n",
       "    }\n",
       "</style>\n",
       "<table border=\"1\" class=\"dataframe\">\n",
       "  <thead>\n",
       "    <tr style=\"text-align: right;\">\n",
       "      <th></th>\n",
       "      <th>year</th>\n",
       "      <th>month</th>\n",
       "      <th>type</th>\n",
       "      <th>port_name</th>\n",
       "      <th>province_name</th>\n",
       "      <th>country_name_en</th>\n",
       "      <th>product_name</th>\n",
       "      <th>value_thousand_sum</th>\n",
       "    </tr>\n",
       "  </thead>\n",
       "  <tbody>\n",
       "    <tr>\n",
       "      <th>0</th>\n",
       "      <td>2018</td>\n",
       "      <td>1</td>\n",
       "      <td>export</td>\n",
       "      <td>ด่านศุลกากรนครพนม (ศภ.2)</td>\n",
       "      <td>นครพนม</td>\n",
       "      <td>VIETNAM</td>\n",
       "      <td>กระจกนิรภัย กระจกรถยนต์</td>\n",
       "      <td>86</td>\n",
       "    </tr>\n",
       "    <tr>\n",
       "      <th>1</th>\n",
       "      <td>2018</td>\n",
       "      <td>1</td>\n",
       "      <td>export</td>\n",
       "      <td>ด่านศุลกากรนครพนม (ศภ.2)</td>\n",
       "      <td>นครพนม</td>\n",
       "      <td>VIETNAM</td>\n",
       "      <td>กล่องหีบที่ทำด้วยพลาสติก</td>\n",
       "      <td>908</td>\n",
       "    </tr>\n",
       "    <tr>\n",
       "      <th>2</th>\n",
       "      <td>2018</td>\n",
       "      <td>1</td>\n",
       "      <td>export</td>\n",
       "      <td>ด่านศุลกากรปาดังเบซาร์  3(ศภ.4)</td>\n",
       "      <td>สงขลา</td>\n",
       "      <td>SINGAPORE</td>\n",
       "      <td>กล่องหีบที่ทำด้วยพลาสติก</td>\n",
       "      <td>341</td>\n",
       "    </tr>\n",
       "    <tr>\n",
       "      <th>3</th>\n",
       "      <td>2018</td>\n",
       "      <td>1</td>\n",
       "      <td>export</td>\n",
       "      <td>ด่านศุลกากรมุกดาหาร (ศภ.2)</td>\n",
       "      <td>มุกดาหาร</td>\n",
       "      <td>VIETNAM</td>\n",
       "      <td>กระจกนิรภัย กระจกรถยนต์</td>\n",
       "      <td>45</td>\n",
       "    </tr>\n",
       "    <tr>\n",
       "      <th>4</th>\n",
       "      <td>2018</td>\n",
       "      <td>1</td>\n",
       "      <td>export</td>\n",
       "      <td>ด่านศุลกากรมุกดาหาร (ศภ.2)</td>\n",
       "      <td>มุกดาหาร</td>\n",
       "      <td>VIETNAM</td>\n",
       "      <td>กระดาษชำระ กระดาษเช็ดหน้า กระดาษอนามัย</td>\n",
       "      <td>2520</td>\n",
       "    </tr>\n",
       "    <tr>\n",
       "      <th>5</th>\n",
       "      <td>2018</td>\n",
       "      <td>1</td>\n",
       "      <td>export</td>\n",
       "      <td>ด่านศุลกากรมุกดาหาร (ศภ.2)</td>\n",
       "      <td>มุกดาหาร</td>\n",
       "      <td>VIETNAM</td>\n",
       "      <td>กระดาษและผลิตภัณฑ์กระดาษอื่นๆ</td>\n",
       "      <td>248</td>\n",
       "    </tr>\n",
       "    <tr>\n",
       "      <th>6</th>\n",
       "      <td>2018</td>\n",
       "      <td>1</td>\n",
       "      <td>export</td>\n",
       "      <td>ด่านศุลกากรมุกดาหาร (ศภ.2)</td>\n",
       "      <td>มุกดาหาร</td>\n",
       "      <td>VIETNAM</td>\n",
       "      <td>กระดาษใช้สำหรับเขียน พิมพ์ หรือวัตถุประสงค์อื่...</td>\n",
       "      <td>160</td>\n",
       "    </tr>\n",
       "    <tr>\n",
       "      <th>7</th>\n",
       "      <td>2018</td>\n",
       "      <td>1</td>\n",
       "      <td>export</td>\n",
       "      <td>ด่านศุลกากรมุกดาหาร (ศภ.2)</td>\n",
       "      <td>มุกดาหาร</td>\n",
       "      <td>VIETNAM</td>\n",
       "      <td>กล่องหีบที่ทำด้วยพลาสติก</td>\n",
       "      <td>98</td>\n",
       "    </tr>\n",
       "    <tr>\n",
       "      <th>8</th>\n",
       "      <td>2018</td>\n",
       "      <td>1</td>\n",
       "      <td>export</td>\n",
       "      <td>ด่านศุลกากรมุกดาหาร (ศภ.2)</td>\n",
       "      <td>มุกดาหาร</td>\n",
       "      <td>VIETNAM</td>\n",
       "      <td>ก๊อก วาวล์และส่วนประกอบ</td>\n",
       "      <td>538</td>\n",
       "    </tr>\n",
       "    <tr>\n",
       "      <th>9</th>\n",
       "      <td>2018</td>\n",
       "      <td>1</td>\n",
       "      <td>export</td>\n",
       "      <td>ด่านศุลกากรสะเดา (ศภ.4)</td>\n",
       "      <td>สงขลา</td>\n",
       "      <td>SINGAPORE</td>\n",
       "      <td>กระจกนิรภัย กระจกรถยนต์</td>\n",
       "      <td>130</td>\n",
       "    </tr>\n",
       "  </tbody>\n",
       "</table>\n",
       "</div>"
      ],
      "text/plain": [
       "   year  month    type                        port_name province_name  \\\n",
       "0  2018      1  export         ด่านศุลกากรนครพนม (ศภ.2)        นครพนม   \n",
       "1  2018      1  export         ด่านศุลกากรนครพนม (ศภ.2)        นครพนม   \n",
       "2  2018      1  export  ด่านศุลกากรปาดังเบซาร์  3(ศภ.4)         สงขลา   \n",
       "3  2018      1  export       ด่านศุลกากรมุกดาหาร (ศภ.2)      มุกดาหาร   \n",
       "4  2018      1  export       ด่านศุลกากรมุกดาหาร (ศภ.2)      มุกดาหาร   \n",
       "5  2018      1  export       ด่านศุลกากรมุกดาหาร (ศภ.2)      มุกดาหาร   \n",
       "6  2018      1  export       ด่านศุลกากรมุกดาหาร (ศภ.2)      มุกดาหาร   \n",
       "7  2018      1  export       ด่านศุลกากรมุกดาหาร (ศภ.2)      มุกดาหาร   \n",
       "8  2018      1  export       ด่านศุลกากรมุกดาหาร (ศภ.2)      มุกดาหาร   \n",
       "9  2018      1  export          ด่านศุลกากรสะเดา (ศภ.4)         สงขลา   \n",
       "\n",
       "  country_name_en                                       product_name  \\\n",
       "0         VIETNAM                            กระจกนิรภัย กระจกรถยนต์   \n",
       "1         VIETNAM                           กล่องหีบที่ทำด้วยพลาสติก   \n",
       "2       SINGAPORE                           กล่องหีบที่ทำด้วยพลาสติก   \n",
       "3         VIETNAM                            กระจกนิรภัย กระจกรถยนต์   \n",
       "4         VIETNAM             กระดาษชำระ กระดาษเช็ดหน้า กระดาษอนามัย   \n",
       "5         VIETNAM                      กระดาษและผลิตภัณฑ์กระดาษอื่นๆ   \n",
       "6         VIETNAM  กระดาษใช้สำหรับเขียน พิมพ์ หรือวัตถุประสงค์อื่...   \n",
       "7         VIETNAM                           กล่องหีบที่ทำด้วยพลาสติก   \n",
       "8         VIETNAM                            ก๊อก วาวล์และส่วนประกอบ   \n",
       "9       SINGAPORE                            กระจกนิรภัย กระจกรถยนต์   \n",
       "\n",
       "   value_thousand_sum  \n",
       "0                  86  \n",
       "1                 908  \n",
       "2                 341  \n",
       "3                  45  \n",
       "4                2520  \n",
       "5                 248  \n",
       "6                 160  \n",
       "7                  98  \n",
       "8                 538  \n",
       "9                 130  "
      ]
     },
     "execution_count": 23,
     "metadata": {},
     "output_type": "execute_result"
    }
   ],
   "source": [
    "grouped_data.columns = ['value_thousand_sum'] # ตั้งชื่อ column value_thousand ใหม่ เป็น value_thousand_sum เป็น column ที่หมายถึงมูลค่ารวมของสินค้านั้นๆที่มีคอลัมน์อื่นๆ เหมือนกัน\n",
    "grouped_data = grouped_data.reset_index() #reset index เพื่อเริ่มต้นนับ index หลังจากการแปลงข้อมูลเก่า เป็นข้อมูลใหม่\n",
    "data_use = pd.DataFrame(grouped_data) # นำข้อมูลที่เกิดจากการรวมมูลค่าสินค้าเป็น DataFrameเเละเก็บใน DataFrame ชื่อตัวแปร data_use\n",
    "data_use.head(10)  # เเสดงผลลัพธ์\n",
    "\n",
    "#เมื่อเเสดงผลลัพธ์จะพบว่า จำนวนเเถวของข้อมูลจะลดลงเหลือ 1970 เเถวข้อมูลเนื่องจาก มีการรวบรวมข้อมูลที่เหมือนกันในทุกๆ คอลัมน์ \n",
    "#ยกเว้น คอลัมน์ product_name เเละ value_baht เพื่อทราบผลว่าสินค้าที่มาจากประเทศเดียวกันในเดือนเดียวกันนั้นมีมูลค่าเป็นเท่าใด"
   ]
  },
  {
   "cell_type": "markdown",
   "metadata": {},
   "source": [
    "### รวม Column ระหว่าง month and year \n",
    ">จากผลลัพธ์ สามารถรวม year เเละ month เก็บไว้อีกหนึ่งคอลัมน์ ชื่อว่า date โดยการ map column year เเละ month สำหรับ dataframe ชื่อ Date_use <br> เข้าด้วยกัน เพื่อการวิเคราะห์เเละเเสดงผลได้ง่ายขึ้น"
   ]
  },
  {
   "cell_type": "code",
   "execution_count": 24,
   "metadata": {
    "scrolled": true
   },
   "outputs": [
    {
     "data": {
      "text/html": [
       "<div>\n",
       "<style scoped>\n",
       "    .dataframe tbody tr th:only-of-type {\n",
       "        vertical-align: middle;\n",
       "    }\n",
       "\n",
       "    .dataframe tbody tr th {\n",
       "        vertical-align: top;\n",
       "    }\n",
       "\n",
       "    .dataframe thead th {\n",
       "        text-align: right;\n",
       "    }\n",
       "</style>\n",
       "<table border=\"1\" class=\"dataframe\">\n",
       "  <thead>\n",
       "    <tr style=\"text-align: right;\">\n",
       "      <th></th>\n",
       "      <th>year</th>\n",
       "      <th>month</th>\n",
       "      <th>type</th>\n",
       "      <th>port_name</th>\n",
       "      <th>province_name</th>\n",
       "      <th>country_name_en</th>\n",
       "      <th>product_name</th>\n",
       "      <th>value_thousand_sum</th>\n",
       "      <th>date</th>\n",
       "    </tr>\n",
       "  </thead>\n",
       "  <tbody>\n",
       "    <tr>\n",
       "      <th>0</th>\n",
       "      <td>2018</td>\n",
       "      <td>1</td>\n",
       "      <td>export</td>\n",
       "      <td>ด่านศุลกากรนครพนม (ศภ.2)</td>\n",
       "      <td>นครพนม</td>\n",
       "      <td>VIETNAM</td>\n",
       "      <td>กระจกนิรภัย กระจกรถยนต์</td>\n",
       "      <td>86</td>\n",
       "      <td>2018-01</td>\n",
       "    </tr>\n",
       "    <tr>\n",
       "      <th>1</th>\n",
       "      <td>2018</td>\n",
       "      <td>1</td>\n",
       "      <td>export</td>\n",
       "      <td>ด่านศุลกากรนครพนม (ศภ.2)</td>\n",
       "      <td>นครพนม</td>\n",
       "      <td>VIETNAM</td>\n",
       "      <td>กล่องหีบที่ทำด้วยพลาสติก</td>\n",
       "      <td>908</td>\n",
       "      <td>2018-01</td>\n",
       "    </tr>\n",
       "    <tr>\n",
       "      <th>2</th>\n",
       "      <td>2018</td>\n",
       "      <td>1</td>\n",
       "      <td>export</td>\n",
       "      <td>ด่านศุลกากรปาดังเบซาร์  3(ศภ.4)</td>\n",
       "      <td>สงขลา</td>\n",
       "      <td>SINGAPORE</td>\n",
       "      <td>กล่องหีบที่ทำด้วยพลาสติก</td>\n",
       "      <td>341</td>\n",
       "      <td>2018-01</td>\n",
       "    </tr>\n",
       "    <tr>\n",
       "      <th>3</th>\n",
       "      <td>2018</td>\n",
       "      <td>1</td>\n",
       "      <td>export</td>\n",
       "      <td>ด่านศุลกากรมุกดาหาร (ศภ.2)</td>\n",
       "      <td>มุกดาหาร</td>\n",
       "      <td>VIETNAM</td>\n",
       "      <td>กระจกนิรภัย กระจกรถยนต์</td>\n",
       "      <td>45</td>\n",
       "      <td>2018-01</td>\n",
       "    </tr>\n",
       "    <tr>\n",
       "      <th>4</th>\n",
       "      <td>2018</td>\n",
       "      <td>1</td>\n",
       "      <td>export</td>\n",
       "      <td>ด่านศุลกากรมุกดาหาร (ศภ.2)</td>\n",
       "      <td>มุกดาหาร</td>\n",
       "      <td>VIETNAM</td>\n",
       "      <td>กระดาษชำระ กระดาษเช็ดหน้า กระดาษอนามัย</td>\n",
       "      <td>2520</td>\n",
       "      <td>2018-01</td>\n",
       "    </tr>\n",
       "  </tbody>\n",
       "</table>\n",
       "</div>"
      ],
      "text/plain": [
       "   year  month    type                        port_name province_name  \\\n",
       "0  2018      1  export         ด่านศุลกากรนครพนม (ศภ.2)        นครพนม   \n",
       "1  2018      1  export         ด่านศุลกากรนครพนม (ศภ.2)        นครพนม   \n",
       "2  2018      1  export  ด่านศุลกากรปาดังเบซาร์  3(ศภ.4)         สงขลา   \n",
       "3  2018      1  export       ด่านศุลกากรมุกดาหาร (ศภ.2)      มุกดาหาร   \n",
       "4  2018      1  export       ด่านศุลกากรมุกดาหาร (ศภ.2)      มุกดาหาร   \n",
       "\n",
       "  country_name_en                            product_name  value_thousand_sum  \\\n",
       "0         VIETNAM                 กระจกนิรภัย กระจกรถยนต์                  86   \n",
       "1         VIETNAM                กล่องหีบที่ทำด้วยพลาสติก                 908   \n",
       "2       SINGAPORE                กล่องหีบที่ทำด้วยพลาสติก                 341   \n",
       "3         VIETNAM                 กระจกนิรภัย กระจกรถยนต์                  45   \n",
       "4         VIETNAM  กระดาษชำระ กระดาษเช็ดหน้า กระดาษอนามัย                2520   \n",
       "\n",
       "      date  \n",
       "0  2018-01  \n",
       "1  2018-01  \n",
       "2  2018-01  \n",
       "3  2018-01  \n",
       "4  2018-01  "
      ]
     },
     "execution_count": 24,
     "metadata": {},
     "output_type": "execute_result"
    }
   ],
   "source": [
    "data_use['date'] = data_use['year'].map(str)+ '-' +data_use['month'].map(str) # ตั้งคอลัมน์เพื่อรวมข้อมูลปีเเละเดือนไว้ด้วยกันโดยมี - ขั้นกลาง\n",
    "data_use['date'] = pd.to_datetime(data_use['date'], format='%Y-%m').dt.strftime('%Y-%m') # นำคอลัมน์ใหม่เข้าสู่ dataFrame ในรูปแบบวันที่ที่มี format เป็น ปีเเละเดือน \n",
    "data_use.head() #เเสดงผลข้อมูลโดยคอลัมน๋ date ข้อมูลเเรกเป็นปี-เดือน ตามลำดับ"
   ]
  },
  {
   "cell_type": "markdown",
   "metadata": {},
   "source": [
    "## savefile หลังจากทำความสะอาดข้อมูลเเล้ว \n",
    ">เพื่อเก็บเป็นข้อมูลสำหรับไปใช้เฉพาะในการวิเคราะห์ในโอกาศหน้า หรือไว้ใช้ในกรณีอื่นๆ "
   ]
  },
  {
   "cell_type": "code",
   "execution_count": 25,
   "metadata": {},
   "outputs": [],
   "source": [
    "#save file_clean to folder data\n",
    "data_after_clean = data_use.to_csv('Data\\data_after_cleann.csv',index=False, encoding=\"utf-8\")# โดยตั้งชื่อไฟล์หลังจากทำความสะอาดข้อมูลเเล้วเป็น file data_after_clean"
   ]
  },
  {
   "cell_type": "markdown",
   "metadata": {},
   "source": [
    "### เเสดงข้อมูลที่จะใช้ในการวิเคราะห์ต่อไป"
   ]
  },
  {
   "cell_type": "code",
   "execution_count": 26,
   "metadata": {},
   "outputs": [
    {
     "data": {
      "text/html": [
       "<div>\n",
       "<style scoped>\n",
       "    .dataframe tbody tr th:only-of-type {\n",
       "        vertical-align: middle;\n",
       "    }\n",
       "\n",
       "    .dataframe tbody tr th {\n",
       "        vertical-align: top;\n",
       "    }\n",
       "\n",
       "    .dataframe thead th {\n",
       "        text-align: right;\n",
       "    }\n",
       "</style>\n",
       "<table border=\"1\" class=\"dataframe\">\n",
       "  <thead>\n",
       "    <tr style=\"text-align: right;\">\n",
       "      <th></th>\n",
       "      <th>year</th>\n",
       "      <th>month</th>\n",
       "      <th>type</th>\n",
       "      <th>port_name</th>\n",
       "      <th>province_name</th>\n",
       "      <th>country_name_en</th>\n",
       "      <th>product_name</th>\n",
       "      <th>value_thousand_sum</th>\n",
       "      <th>date</th>\n",
       "    </tr>\n",
       "  </thead>\n",
       "  <tbody>\n",
       "    <tr>\n",
       "      <th>0</th>\n",
       "      <td>2018</td>\n",
       "      <td>1</td>\n",
       "      <td>export</td>\n",
       "      <td>ด่านศุลกากรนครพนม (ศภ.2)</td>\n",
       "      <td>นครพนม</td>\n",
       "      <td>VIETNAM</td>\n",
       "      <td>กระจกนิรภัย กระจกรถยนต์</td>\n",
       "      <td>86</td>\n",
       "      <td>2018-01</td>\n",
       "    </tr>\n",
       "    <tr>\n",
       "      <th>1</th>\n",
       "      <td>2018</td>\n",
       "      <td>1</td>\n",
       "      <td>export</td>\n",
       "      <td>ด่านศุลกากรนครพนม (ศภ.2)</td>\n",
       "      <td>นครพนม</td>\n",
       "      <td>VIETNAM</td>\n",
       "      <td>กล่องหีบที่ทำด้วยพลาสติก</td>\n",
       "      <td>908</td>\n",
       "      <td>2018-01</td>\n",
       "    </tr>\n",
       "    <tr>\n",
       "      <th>2</th>\n",
       "      <td>2018</td>\n",
       "      <td>1</td>\n",
       "      <td>export</td>\n",
       "      <td>ด่านศุลกากรปาดังเบซาร์  3(ศภ.4)</td>\n",
       "      <td>สงขลา</td>\n",
       "      <td>SINGAPORE</td>\n",
       "      <td>กล่องหีบที่ทำด้วยพลาสติก</td>\n",
       "      <td>341</td>\n",
       "      <td>2018-01</td>\n",
       "    </tr>\n",
       "    <tr>\n",
       "      <th>3</th>\n",
       "      <td>2018</td>\n",
       "      <td>1</td>\n",
       "      <td>export</td>\n",
       "      <td>ด่านศุลกากรมุกดาหาร (ศภ.2)</td>\n",
       "      <td>มุกดาหาร</td>\n",
       "      <td>VIETNAM</td>\n",
       "      <td>กระจกนิรภัย กระจกรถยนต์</td>\n",
       "      <td>45</td>\n",
       "      <td>2018-01</td>\n",
       "    </tr>\n",
       "    <tr>\n",
       "      <th>4</th>\n",
       "      <td>2018</td>\n",
       "      <td>1</td>\n",
       "      <td>export</td>\n",
       "      <td>ด่านศุลกากรมุกดาหาร (ศภ.2)</td>\n",
       "      <td>มุกดาหาร</td>\n",
       "      <td>VIETNAM</td>\n",
       "      <td>กระดาษชำระ กระดาษเช็ดหน้า กระดาษอนามัย</td>\n",
       "      <td>2520</td>\n",
       "      <td>2018-01</td>\n",
       "    </tr>\n",
       "    <tr>\n",
       "      <th>...</th>\n",
       "      <td>...</td>\n",
       "      <td>...</td>\n",
       "      <td>...</td>\n",
       "      <td>...</td>\n",
       "      <td>...</td>\n",
       "      <td>...</td>\n",
       "      <td>...</td>\n",
       "      <td>...</td>\n",
       "      <td>...</td>\n",
       "    </tr>\n",
       "    <tr>\n",
       "      <th>2024</th>\n",
       "      <td>2020</td>\n",
       "      <td>8</td>\n",
       "      <td>import</td>\n",
       "      <td>ด่านศุลกากรสะเดา (ศภ.4)</td>\n",
       "      <td>สงขลา</td>\n",
       "      <td>VIETNAM</td>\n",
       "      <td>เครื่องคอมพิวเตอร์และอุปกรณ์</td>\n",
       "      <td>475</td>\n",
       "      <td>2020-08</td>\n",
       "    </tr>\n",
       "    <tr>\n",
       "      <th>2025</th>\n",
       "      <td>2020</td>\n",
       "      <td>8</td>\n",
       "      <td>import</td>\n",
       "      <td>ด่านศุลกากรหนองคาย (ศภ.2)</td>\n",
       "      <td>หนองคาย</td>\n",
       "      <td>CHINA</td>\n",
       "      <td>กระจก แก้ว และผลิตภัณฑ์อื่น ๆ</td>\n",
       "      <td>17</td>\n",
       "      <td>2020-08</td>\n",
       "    </tr>\n",
       "    <tr>\n",
       "      <th>2026</th>\n",
       "      <td>2020</td>\n",
       "      <td>8</td>\n",
       "      <td>import</td>\n",
       "      <td>ด่านศุลกากรอรัญประเทศ (ศภ.1)</td>\n",
       "      <td>สระแก้ว</td>\n",
       "      <td>VIETNAM</td>\n",
       "      <td>คอนแทกเลนซ์และเลนส์</td>\n",
       "      <td>82504</td>\n",
       "      <td>2020-08</td>\n",
       "    </tr>\n",
       "    <tr>\n",
       "      <th>2027</th>\n",
       "      <td>2020</td>\n",
       "      <td>8</td>\n",
       "      <td>import</td>\n",
       "      <td>รพท.มุกดาหารลานทอง ด่านศุลกากรมุกดาหาร</td>\n",
       "      <td>มุกดาหาร</td>\n",
       "      <td>CHINA</td>\n",
       "      <td>กรอบและโครงสำหรับแว่นตา</td>\n",
       "      <td>1355</td>\n",
       "      <td>2020-08</td>\n",
       "    </tr>\n",
       "    <tr>\n",
       "      <th>2028</th>\n",
       "      <td>2020</td>\n",
       "      <td>8</td>\n",
       "      <td>import</td>\n",
       "      <td>รพท.มุกดาหารลานทอง ด่านศุลกากรมุกดาหาร</td>\n",
       "      <td>มุกดาหาร</td>\n",
       "      <td>CHINA</td>\n",
       "      <td>กระจก แก้ว และผลิตภัณฑ์อื่น ๆ</td>\n",
       "      <td>157</td>\n",
       "      <td>2020-08</td>\n",
       "    </tr>\n",
       "  </tbody>\n",
       "</table>\n",
       "<p>2029 rows × 9 columns</p>\n",
       "</div>"
      ],
      "text/plain": [
       "      year  month    type                               port_name  \\\n",
       "0     2018      1  export                ด่านศุลกากรนครพนม (ศภ.2)   \n",
       "1     2018      1  export                ด่านศุลกากรนครพนม (ศภ.2)   \n",
       "2     2018      1  export         ด่านศุลกากรปาดังเบซาร์  3(ศภ.4)   \n",
       "3     2018      1  export              ด่านศุลกากรมุกดาหาร (ศภ.2)   \n",
       "4     2018      1  export              ด่านศุลกากรมุกดาหาร (ศภ.2)   \n",
       "...    ...    ...     ...                                     ...   \n",
       "2024  2020      8  import                 ด่านศุลกากรสะเดา (ศภ.4)   \n",
       "2025  2020      8  import               ด่านศุลกากรหนองคาย (ศภ.2)   \n",
       "2026  2020      8  import            ด่านศุลกากรอรัญประเทศ (ศภ.1)   \n",
       "2027  2020      8  import  รพท.มุกดาหารลานทอง ด่านศุลกากรมุกดาหาร   \n",
       "2028  2020      8  import  รพท.มุกดาหารลานทอง ด่านศุลกากรมุกดาหาร   \n",
       "\n",
       "     province_name country_name_en                            product_name  \\\n",
       "0           นครพนม         VIETNAM                 กระจกนิรภัย กระจกรถยนต์   \n",
       "1           นครพนม         VIETNAM                กล่องหีบที่ทำด้วยพลาสติก   \n",
       "2            สงขลา       SINGAPORE                กล่องหีบที่ทำด้วยพลาสติก   \n",
       "3         มุกดาหาร         VIETNAM                 กระจกนิรภัย กระจกรถยนต์   \n",
       "4         มุกดาหาร         VIETNAM  กระดาษชำระ กระดาษเช็ดหน้า กระดาษอนามัย   \n",
       "...            ...             ...                                     ...   \n",
       "2024         สงขลา         VIETNAM            เครื่องคอมพิวเตอร์และอุปกรณ์   \n",
       "2025       หนองคาย           CHINA           กระจก แก้ว และผลิตภัณฑ์อื่น ๆ   \n",
       "2026       สระแก้ว         VIETNAM                     คอนแทกเลนซ์และเลนส์   \n",
       "2027      มุกดาหาร           CHINA                 กรอบและโครงสำหรับแว่นตา   \n",
       "2028      มุกดาหาร           CHINA           กระจก แก้ว และผลิตภัณฑ์อื่น ๆ   \n",
       "\n",
       "      value_thousand_sum     date  \n",
       "0                     86  2018-01  \n",
       "1                    908  2018-01  \n",
       "2                    341  2018-01  \n",
       "3                     45  2018-01  \n",
       "4                   2520  2018-01  \n",
       "...                  ...      ...  \n",
       "2024                 475  2020-08  \n",
       "2025                  17  2020-08  \n",
       "2026               82504  2020-08  \n",
       "2027                1355  2020-08  \n",
       "2028                 157  2020-08  \n",
       "\n",
       "[2029 rows x 9 columns]"
      ]
     },
     "execution_count": 26,
     "metadata": {},
     "output_type": "execute_result"
    }
   ],
   "source": [
    "# เเสดงข้อมูลใน data_use เนื่องจากข้อมูลนี้จะเป็นข้อมูลในการนำมาวิเคราะห์เเละเเสดงผลต่อไป\n",
    "data_use \n",
    "# จากผลลัพธ์มีจำนวนข้อมูลล่าสุดที่ 2029 เเถวข้อมูล"
   ]
  },
  {
   "cell_type": "markdown",
   "metadata": {},
   "source": [
    "## วิเคราะห์เเละเเสดงผลข้อมูล โดย การ plot Graph หรือเเสดงผลลัพธ์ตารางข้อมูล\n",
    ">โดยชื่อตัวแปรที่ใช้ในการเเสดงผลข้อมูลนั้นคือ data_use เป็นข้อมูลล่าสุดหลังจากทำความสะอาดข้อมูลเเล้ว"
   ]
  },
  {
   "cell_type": "markdown",
   "metadata": {},
   "source": [
    "### 1. ตรวจสอบปริมาณการนำเข้า เเละ ส่งออกสินค้า \n",
    "\n",
    "> โดยมีรูปแบบต่างๆ ในการเเสดงผลดังนี้  \n",
    "><ul><li>เเสดงสินค้าส่งออกของไทยส่งออกไปประเทศใดมากกว่ากันเเละสินค้านำเข้า นำเข้าจากประเทศใดมากที่สุด</li><li>เปรียบเทียบจำนวนข้อมูล หรือปริมาณการนำเข้า เเละ ส่งออกในเเต่ละปี</li><li>เเสดงมูลค่าของการส่งออก เเละนำเข้า ในเเต่ละปี โดยมีหน่วยเป็นพันบาท</li><li> เเสดงมูลค่าสินค้าตามช่วงต่างๆ ในการนำเข้าเเละส่งออก</li><li> เเสดงมูลค่าการนำเข้าในเเต่ละเดือน</li><li>  เเสดงมูลค่าการส่งออกในเเต่ละเดือน</li><li> เเสดง Timeline ในการนำเข้าเเละส่งออกสินค้า</li></ul>\n"
   ]
  },
  {
   "cell_type": "markdown",
   "metadata": {},
   "source": [
    "#### 1.1 เเสดงสินค้าส่งออกของไทยเพื่อดูว่าส่งออกไปประเทศใดมากกว่ากันเเละสินค้านำเข้า นำเข้าจากประเทศใดมากที่สุด"
   ]
  },
  {
   "cell_type": "code",
   "execution_count": 27,
   "metadata": {
    "scrolled": false
   },
   "outputs": [
    {
     "data": {
      "text/plain": [
       "Text(0, 0.5, 'Percentage')"
      ]
     },
     "execution_count": 27,
     "metadata": {},
     "output_type": "execute_result"
    },
    {
     "data": {
      "image/png": "[encoded data removed]",
      "text/plain": [
       "<Figure size 1080x252 with 2 Axes>"
      ]
     },
     "metadata": {
      "needs_background": "light"
     },
     "output_type": "display_data"
    }
   ],
   "source": [
    "# ตรวจสอบว่าสินค้าส่งออกของไทยส่งออกไปไหนมากกว่ากันเเละสินค้านำเข้า นำเข้าจากประเทศใดมากที่สุด\n",
    "\n",
    "fig = plt.figure(figsize=(15,3.5)) # กำหนดหน้าต่างเเสดงผลลัพธ์ในการ plot graph \n",
    "plt.subplot(1,2,1) # เเสดงในกราฟที่ 1 \n",
    "'''เลือกเฉพาะข้อมูลสินค้าส่งออก โดยนับว่ามีจำนวนข้อมูลเท่าใดของเเต่ละประเทศมา plot graph ชนิด Bar Graph\n",
    "พร้อมกำหนดสีเเละเส้นขอบของกราฟด้วย โดยใช้ normalize เพื่อเเสดงเป็น %'''\n",
    "data_use[data_use['type'] == 'export'].country_name_en.value_counts(normalize=True).plot(kind='bar', \n",
    "                                                                                         color = 'r',edgecolor='black') \n",
    "plt.title(\"Show the number of exports to other countries\",weight='bold', fontsize=16, \n",
    "          color=\"blue\",backgroundcolor='pink'); #ตั้งชื่อกราฟ\n",
    "plt.xlabel(\"Country_name\") # กำหนดชื่อเเกน x ของกราฟ\n",
    "plt.ylabel(\"Percentage\") # กำหนดชื่อเเกน y ของกราฟ\n",
    "\n",
    "\n",
    "plt.subplot(1,2,2) # เเสดงในกราฟที่ 2 \n",
    "'''เลือกเฉพาะข้อมูลสินค้านำเข้า โดยนับว่ามีจำนวนข้อมูลเท่าใดของเเต่ละประเทศ มาplot graph ชนิด Bar Graph\n",
    "พร้อมกำหนดสีเเละเส้นขอบของกราฟด้วย โดยใช้ normalize เพื่อเเสดงเป็น %'''\n",
    "data_use[data_use['type'] == 'import'].country_name_en.value_counts(normalize=True).plot(kind='bar', \n",
    "                                                                                         color = '#26428b',edgecolor='black') \n",
    "plt.title(\"Show the number of import from other countries\", weight='bold',fontsize=16, \n",
    "          color=\"blue\",backgroundcolor='pink') #ตั้งชื่อกราฟ\n",
    "plt.xlabel(\"Country_name\") # กำหนดชื่อเเกน x ของกราฟ\n",
    "plt.ylabel(\"Percentage\") # กำหนดชื่อเเกน y ของกราฟ\n"
   ]
  },
  {
   "cell_type": "markdown",
   "metadata": {},
   "source": [
    "**อธิบายผลลัพธ์** <br>\n",
    "จากผลลัพธ์จะพบว่าสินค้าที่ไทยส่งออกไปมากที่สุดคือประเทศ จีน อยู่ที่ 43% เวียดนาม 32% เเละ สิงค์โปร์ 25% ตามลำดับ <br>\n",
    "เเละสินค้าจากประเทศที่ไทยนำเข้าไปมากที่สุดคือประเทศ เวียดนาม อยู่ที่ 45%  singapore 33% เเละ จีน 22% ตามลำดับ\n",
    "<br> <li> ดังนั้นทำให้ผู้จัดทำรู้ได้ว่า จีนมีบทบาทอย่างมากในการส่งออกสินค้าของไทย หรือเป็นประเทศที่มีผลต่อเศรษฐกิจของไทยมากกว่าประเทศอื่นๆอีก 2 ประเทศ  </li>\n",
    "____________________________________________________________________________________________________"
   ]
  },
  {
   "cell_type": "markdown",
   "metadata": {},
   "source": [
    "#### 1.2 เปรียบเทียบจำนวนข้อมูล หรือปริมาณการนำเข้า เเละ ส่งออกในเเต่ละปี \n",
    "*ซึ่งจากผลลัพธ์จะทำให้ผู้จัดทำทราบได้ว่า ใน 3 ปีที่ผ่านมาประเทศไทยมีการนำเข้าหรือส่งออกเป็นปริมาณเท่าใด ส่งออกหรือนำเข้ามากกว่ากัน*"
   ]
  },
  {
   "cell_type": "code",
   "execution_count": 28,
   "metadata": {
    "scrolled": true
   },
   "outputs": [
    {
     "data": {
      "text/plain": [
       "Text(0, 0.5, 'Number of imports and exports')"
      ]
     },
     "execution_count": 28,
     "metadata": {},
     "output_type": "execute_result"
    },
    {
     "data": {
      "image/png": "[encoded data removed]",
      "text/plain": [
       "<Figure size 432x288 with 1 Axes>"
      ]
     },
     "metadata": {
      "needs_background": "light"
     },
     "output_type": "display_data"
    }
   ],
   "source": [
    "# ตรวจสอบว่าเเต่ละปีมีการส่งออกสินค้ามากน้อยเพียงใด\n",
    "Product_import = data_use[data_use.type == 'import'].year.value_counts() #นับจำนวนข้อมูลสินค้านำเข้าทั้งหมดในเเต่ละปี\n",
    "Product_export = data_use[data_use.type == 'export'].year.value_counts() #นับจำนวนข้อมูลสินค้าส่งออกทั้งหมดในเเต่ละปี\n",
    "index = [2018,2019,2020] # ตั้ง index ในเเนวเเกน x เป็นในเเต่ละปีของข้อมูล\n",
    "\n",
    "#นำค่าของจำนวนสินค้านำเข้าเเละส่งออกเข้า dataframe\n",
    "df = pd.DataFrame({'Product_import': Product_import,'Product_export': Product_export}, index=index) \n",
    "df.plot.bar(rot=0,edgecolor='black') # plot graph เพื่อเเสดงผลลัพธ์ \n",
    "plt.title(\"Show the number of imports and exports each year\",weight='bold', fontsize=15, \n",
    "          color=\"blue\",backgroundcolor='pink') #เเสดงชื่อกราฟ\n",
    "plt.xlabel(\"Year\") # ชื่อค่าของเเกน x ในที่นี้คือ year\n",
    "plt.ylabel('Number of imports and exports')  # ค่าของเเกน y ในที่นี้คือจำนวนสินค้านำเข้าเเละส่งออก"
   ]
  },
  {
   "cell_type": "markdown",
   "metadata": {},
   "source": [
    "**อธิบายผลลัพธ์** <br>\n",
    "จะพบว่าเมื่อเปรียบเทียบการนำเข้าเเละส่งออกสินค้าเเล้วปรากฏว่า ประเทศไทยนั้น ส่งออกสินค้ามากกว่าการนำเข้าสินค้า ในทุกๆปีเป็นส่วนใหญ่<br> \n",
    "หรือบอกได้ว่าประเทศไทยนั้น มีอัตราการส่งออกมากกว่าการนำเข้าสินค้าเข้ามาทั้ง 3 ปี [2018 2019 2020] บ่งบอกถึงว่าประเทศเรามีสินค้าที่หลากหลาย <br> เเละต่างประเทศต้องการอยู่เป็นจำนวนมากอีกทั้งการส่งออกสินค้าก็เป็นตัวขับเคลื่อนเศรษฐกิจของไทยได้ \n",
    "____________________________________________________________________________________________________________________________"
   ]
  },
  {
   "cell_type": "markdown",
   "metadata": {},
   "source": [
    "#### 1.3 เเสดงมูลค่าของการส่งออก เเละนำเข้า ในเเต่ละปี โดยมีหน่วยเป็นพันบาท\n",
    "ซึ่งมีกระบวนการในการวิเคราะห์ดังนี้\n",
    "<ul>\n",
    "<li>เเสดงตารางผลลัพธ์มูลค่ารวมของรายการสินค้านำเข้า เเละ สินค้าส่งออก \n",
    "</li>\n",
    "<li>แปลงตารางผลลัพธ์ข้อมูลโดยเเบ่งเเยกตามรายการสินค้านำเข้า เเละ ส่งออก</li>\n",
    "<li>นำผลลัพธ์จากตาราง มา plot Pie Graph  </li>\n",
    "</ul>"
   ]
  },
  {
   "cell_type": "markdown",
   "metadata": {},
   "source": [
    "#### <ul><li>เเสดงตารางผลลัพธ์มูลค่ารวมของรายการสินค้านำเข้า เเละ สินค้าส่งออก</li></ul>\n",
    "> โดยการนับผลรวมมูลค่าสินค้าในหน่วยพันบาทของเเต่ละปี หรือ (value_thousand_baht) ในการส่งออกหรือนำเข้าสินค้า เพื่อดูมูลค่าทั้งหมด ในเเต่ละปี <br> เช่น จากผลลัพธ์ในปี 2018 ไทยส่งออกสินค้าได้เงินมูลค่าประมาณ 3,509,882,000 บาท  "
   ]
  },
  {
   "cell_type": "code",
   "execution_count": 29,
   "metadata": {},
   "outputs": [
    {
     "data": {
      "text/html": [
       "<div>\n",
       "<style scoped>\n",
       "    .dataframe tbody tr th:only-of-type {\n",
       "        vertical-align: middle;\n",
       "    }\n",
       "\n",
       "    .dataframe tbody tr th {\n",
       "        vertical-align: top;\n",
       "    }\n",
       "\n",
       "    .dataframe thead th {\n",
       "        text-align: right;\n",
       "    }\n",
       "</style>\n",
       "<table border=\"1\" class=\"dataframe\">\n",
       "  <thead>\n",
       "    <tr style=\"text-align: right;\">\n",
       "      <th></th>\n",
       "      <th></th>\n",
       "      <th>value_thousand_sum</th>\n",
       "    </tr>\n",
       "    <tr>\n",
       "      <th>type</th>\n",
       "      <th>year</th>\n",
       "      <th></th>\n",
       "    </tr>\n",
       "  </thead>\n",
       "  <tbody>\n",
       "    <tr>\n",
       "      <th rowspan=\"3\" valign=\"top\">export</th>\n",
       "      <th>2018</th>\n",
       "      <td>3509882</td>\n",
       "    </tr>\n",
       "    <tr>\n",
       "      <th>2019</th>\n",
       "      <td>9507396</td>\n",
       "    </tr>\n",
       "    <tr>\n",
       "      <th>2020</th>\n",
       "      <td>19329047</td>\n",
       "    </tr>\n",
       "    <tr>\n",
       "      <th rowspan=\"3\" valign=\"top\">import</th>\n",
       "      <th>2018</th>\n",
       "      <td>1140875</td>\n",
       "    </tr>\n",
       "    <tr>\n",
       "      <th>2019</th>\n",
       "      <td>1647848</td>\n",
       "    </tr>\n",
       "    <tr>\n",
       "      <th>2020</th>\n",
       "      <td>2024939</td>\n",
       "    </tr>\n",
       "  </tbody>\n",
       "</table>\n",
       "</div>"
      ],
      "text/plain": [
       "             value_thousand_sum\n",
       "type   year                    \n",
       "export 2018             3509882\n",
       "       2019             9507396\n",
       "       2020            19329047\n",
       "import 2018             1140875\n",
       "       2019             1647848\n",
       "       2020             2024939"
      ]
     },
     "execution_count": 29,
     "metadata": {},
     "output_type": "execute_result"
    }
   ],
   "source": [
    "# เก็บข้อมูลจากการนับผลรวมมูลค่าสินค้าโดยเเบ่งตาม type เเละ year ไว้ใน DataFrame\n",
    "data_sum_imex = pd.DataFrame(data_use.groupby(['type', 'year']).value_thousand_sum.sum()) \n",
    "data_sum_imex # เเสดงตารางข้อมูลรวมของมูลค่าสินค้าในเเต่ละปี เเต่ละประเภท"
   ]
  },
  {
   "cell_type": "markdown",
   "metadata": {},
   "source": [
    "#### <ul><li>แปลงตารางผลลัพธ์ข้อมูลโดยเเบ่งเเยกตามรายการสินค้านำเข้า เเละ ส่งออก</li></ul>\n",
    "   >โดยทำการเเยกข้อมูลระหว่าง มูลค่าทั้งหมดของสินค้านำเข้า เเละ ส่งออก เพื่อใช้ในการ plot graph ได้ง่ายขึ้น <br>\n",
    "    โดยเริ่มจากการเก็บข้อมูลเเยกระหว่างสินค้านำเข้า เเละ สินค้าส่งออก จากนั้นจะนำทั้งสองตัวมาต่อเชื่อมกันด้วย concat เเละเเสดงผลโดยมี index คือ year"
   ]
  },
  {
   "cell_type": "code",
   "execution_count": 30,
   "metadata": {},
   "outputs": [
    {
     "data": {
      "text/html": [
       "<div>\n",
       "<style scoped>\n",
       "    .dataframe tbody tr th:only-of-type {\n",
       "        vertical-align: middle;\n",
       "    }\n",
       "\n",
       "    .dataframe tbody tr th {\n",
       "        vertical-align: top;\n",
       "    }\n",
       "\n",
       "    .dataframe thead th {\n",
       "        text-align: right;\n",
       "    }\n",
       "</style>\n",
       "<table border=\"1\" class=\"dataframe\">\n",
       "  <thead>\n",
       "    <tr style=\"text-align: right;\">\n",
       "      <th></th>\n",
       "      <th>value_thousand_sum</th>\n",
       "      <th>value_thousand_sum</th>\n",
       "    </tr>\n",
       "    <tr>\n",
       "      <th>year</th>\n",
       "      <th></th>\n",
       "      <th></th>\n",
       "    </tr>\n",
       "  </thead>\n",
       "  <tbody>\n",
       "    <tr>\n",
       "      <th>2018</th>\n",
       "      <td>1140875</td>\n",
       "      <td>3509882</td>\n",
       "    </tr>\n",
       "    <tr>\n",
       "      <th>2019</th>\n",
       "      <td>1647848</td>\n",
       "      <td>9507396</td>\n",
       "    </tr>\n",
       "    <tr>\n",
       "      <th>2020</th>\n",
       "      <td>2024939</td>\n",
       "      <td>19329047</td>\n",
       "    </tr>\n",
       "  </tbody>\n",
       "</table>\n",
       "</div>"
      ],
      "text/plain": [
       "      value_thousand_sum  value_thousand_sum\n",
       "year                                        \n",
       "2018             1140875             3509882\n",
       "2019             1647848             9507396\n",
       "2020             2024939            19329047"
      ]
     },
     "execution_count": 30,
     "metadata": {},
     "output_type": "execute_result"
    }
   ],
   "source": [
    "#เก็บผลรวมมูลค่าของสินค้านำเข้าเเละส่งออกในเเต่ละปี\n",
    "data_sum_im = pd.DataFrame(data_use[data_use['type'] == 'import'].groupby('year').value_thousand_sum.sum()) # นำเข้า\n",
    "data_sum_ex = pd.DataFrame(data_use[data_use['type'] == 'export'].groupby('year').value_thousand_sum.sum()) # ส่งออก\n",
    "# นำผลรวมมูลค่าสินค้านำเข้าเเละส่งออกมาต่อกัน เพื่อ plot graph ได้ในคราวเดียว โดยข้อมูลเเรก จะเป็นของนำเข้า เเละ ส่งออก ตามลำดับ\n",
    "data_sum = pd.concat([data_sum_im, data_sum_ex],axis=1) \n",
    "data_sum # เเสดงผล"
   ]
  },
  {
   "cell_type": "code",
   "execution_count": 31,
   "metadata": {},
   "outputs": [
    {
     "data": {
      "text/html": [
       "<div>\n",
       "<style scoped>\n",
       "    .dataframe tbody tr th:only-of-type {\n",
       "        vertical-align: middle;\n",
       "    }\n",
       "\n",
       "    .dataframe tbody tr th {\n",
       "        vertical-align: top;\n",
       "    }\n",
       "\n",
       "    .dataframe thead th {\n",
       "        text-align: right;\n",
       "    }\n",
       "</style>\n",
       "<table border=\"1\" class=\"dataframe\">\n",
       "  <thead>\n",
       "    <tr style=\"text-align: right;\">\n",
       "      <th></th>\n",
       "      <th>value_import</th>\n",
       "      <th>value_export</th>\n",
       "    </tr>\n",
       "    <tr>\n",
       "      <th>year</th>\n",
       "      <th></th>\n",
       "      <th></th>\n",
       "    </tr>\n",
       "  </thead>\n",
       "  <tbody>\n",
       "    <tr>\n",
       "      <th>2018</th>\n",
       "      <td>1140875</td>\n",
       "      <td>3509882</td>\n",
       "    </tr>\n",
       "    <tr>\n",
       "      <th>2019</th>\n",
       "      <td>1647848</td>\n",
       "      <td>9507396</td>\n",
       "    </tr>\n",
       "    <tr>\n",
       "      <th>2020</th>\n",
       "      <td>2024939</td>\n",
       "      <td>19329047</td>\n",
       "    </tr>\n",
       "  </tbody>\n",
       "</table>\n",
       "</div>"
      ],
      "text/plain": [
       "      value_import  value_export\n",
       "year                            \n",
       "2018       1140875       3509882\n",
       "2019       1647848       9507396\n",
       "2020       2024939      19329047"
      ]
     },
     "execution_count": 31,
     "metadata": {},
     "output_type": "execute_result"
    }
   ],
   "source": [
    "#เปลี่ยนชื่อ column เพื่อความเข้าใจมากขึ้น \n",
    "value_imex = ['value_import', 'value_export']  # ตั้งตัวแปรที่จะเปลี่ยนชื่อ column\n",
    "data_sum.columns = value_imex # เปลี่ยนชื่อ column จาก value_thousand_sum เป็น มูลค่าของ import เเละ export เพื่อกันความสับสน\n",
    "data_sum # เเสดงผลข้อมูล "
   ]
  },
  {
   "cell_type": "markdown",
   "metadata": {},
   "source": [
    "#### <ul><li>นำผลลัพธ์จากตาราง มา plot Pie Graph</li></ul>\n",
    "-plot pie graph เพื่อเเสดงถึงสัดส่วนของมูลค่าเงินในการนำเข้าเเละส่งออกสินค้าเเต่ละปี เพื่อใช้ในการเปรียบเทียบมูลค่าสินค้าในเเต่ละปีได้ชัดเจนมากยิ่งขึ้น <br> รวมถึงเเสดง % ที่ได้ในเเต่ละปีด้วย "
   ]
  },
  {
   "cell_type": "code",
   "execution_count": 32,
   "metadata": {
    "scrolled": true
   },
   "outputs": [
    {
     "data": {
      "text/plain": [
       "<matplotlib.legend.Legend at 0x244a25da7f0>"
      ]
     },
     "execution_count": 32,
     "metadata": {},
     "output_type": "execute_result"
    },
    {
     "data": {
      "image/png": "[encoded data removed]",
      "text/plain": [
       "<Figure size 720x576 with 2 Axes>"
      ]
     },
     "metadata": {},
     "output_type": "display_data"
    }
   ],
   "source": [
    "# นำข้อมูลที่ได้ concat ไว้ มา plot pie โดยกำหนด ให้มี % ข้อมูลด้วย\n",
    "data_sum.plot.pie(subplots=True,autopct='%.0f%%', figsize=(10, 8),fontsize=18)  \n",
    "plt.legend(loc='upper right') # ตั้ง legend ของกราฟให้อยู่ทางด้านบนขวาของกราฟ\n"
   ]
  },
  {
   "cell_type": "markdown",
   "metadata": {},
   "source": [
    "**อธิบายผลลัพธ์** <br>\n",
    "จากกราฟจะเเสดงมูลค่าโดยรวมในเเต่ละปี ตั้งเเต่ปี 2018 - 2020 เพื่อดูว่าปีใดมีมูลค่าการส่งออก นำเข้า มากที่สุด <br>\n",
    "- พบว่ามูลค่าในการนำเข้าสินค้า ปี 2020 มีสัดส่วนมากที่สุด 42% ตามด้วยปี 2019 34% เเละ 2018 24% ตามลำดับ ซึ่งอาจวิเคราะห์ได้ว่า ในปีหน้า ไทยอาจมีมูลค่า<br>ในการนำเข้าสินค้าเพิ่มมากขึ้นเรื่อยๆ <br>\n",
    "- เเละสำหรับสินค้าส่งออกของไทยพบว่า มูลค่าในปี 2020 มีสัดส่วนที่มากที่สุด 60% ตามด้วยปี 2019 29% เเละปี 2018 11% ตามลำดับ กล่าวคือ มูลค่าการส่งออก<br>ของไทยเพิ่มขึ้นเรื่อยๆ ในเเต่ละปี โดยในปี 2020 จะมีมูลค่าเพิ่มขึ้นอย่างเห็นได้ชัด อาจจะมาจากรายการสินค้ากลุ่มเทคโนโลยี เนื่องจากถึงเเม้ว่าปีนี้จะพบเจอกับ<br>สถานการณ์โควิด เเต่สินค้าที่ยังคงขายได้ดี ก็จะเป็นกลุ่มสินค้าทางด้านเทคโนโลยี เป็นต้น ซึ่งถือเป็นข้อสมมติฐานเบื้องต้นในการวิเคราะห์ครั้งนี้ "
   ]
  },
  {
   "cell_type": "markdown",
   "metadata": {},
   "source": [
    "#### 1.4 เเสดงมูลค่าสินค้าตามช่วงต่างๆ ในการนำเข้าเเละส่งออก\n",
    "> เพื่อเเสดงว่ามูลค่าส่วนใหญ่จะอยู่ที่เท่าใดในเเต่ละรายการสินค้า หรือในเเต่ละปี มีจำนวนมูลค่าสินค้าเท่าใดบ้าง ช่วยเป็นเเนวทางในการเปรียบเทียบสถานการณ์ก่อนเกิดโควิดเเละหลังเกิด"
   ]
  },
  {
   "cell_type": "code",
   "execution_count": 33,
   "metadata": {
    "scrolled": true
   },
   "outputs": [
    {
     "data": {
      "text/plain": [
       "<seaborn.axisgrid.FacetGrid at 0x244a22f0d00>"
      ]
     },
     "execution_count": 33,
     "metadata": {},
     "output_type": "execute_result"
    },
    {
     "data": {
      "image/png": "[encoded data removed]",
      "text/plain": [
       "<Figure size 428.75x360 with 1 Axes>"
      ]
     },
     "metadata": {
      "needs_background": "light"
     },
     "output_type": "display_data"
    }
   ],
   "source": [
    "# ใช้ fn catplot ของ sns ในการ plot Graph โดยกำหนดให้เเกน x เป็นปีเเต่ละปี เเกน y เป็นมูลค่าสินค้า โดยมี type เป็นตัวชี้วัด\n",
    "sns.catplot(x=\"year\", y=\"value_thousand_sum\", hue=\"type\" , data=data_use)\n",
    "# โดยที่ในเเน y 1e6 = หน่วย 1,000,000 "
   ]
  },
  {
   "cell_type": "markdown",
   "metadata": {},
   "source": [
    "**อธิบายผลลัพธ์**\n",
    "- จากผลลัพธ์ด้านบนจะทำให้เห็นภาพได้ชัดเจนมากขึ้นในเรื่องของมูลค่าเงิน ในการส่งออกสินค้าของไทย ซึ่งจำนวนมูลค่าเงินในการส่งออกสินค้าของไทยไปยังประเทศต่างๆ \n",
    "มีจำนวนส่วนใหญ่ที่มากกว่าการนำเข้าสินค้าจากประเทศอื่นๆเข้ามา เมื่อเปรียบเทียบในเเต่ละปี จะพบว่าปี 2020 จะมีมูลค่าสูงกว่าปีอื่นๆทั้งๆที่ช่วงต้นเดือนของปีนั้นประสบกับปัญหา\n",
    "โควิด หรืออาจกล่าวได้ว่า สินค้าจำพวกที่ให้มูลค่าสูงส่วนมีเเนวโน้มจะมาจากสินค้าเกษตรหรืออาหาร เนื่องจากไทยเป็นประเทศที่มีชื่อเสียงเเละเป็นที่ยอมรับด้านนี้ รวมถึงสินค้าจำพวกกลุ่มเทคโนโลยี คอมพิวเตอร์ต่างๆ ที่เป็นที่ต้องการมากขึ้นเพื่อรองรับสำหรับ Social Distancing เป็นต้น เพราะหากดูจากกราฟจะเห็นว่าปี 2020 จะมีมูลค่าการส่งออกที่โดดขึ้นมาจากปีก่อนๆ อย่างชัดเจน "
   ]
  },
  {
   "cell_type": "markdown",
   "metadata": {},
   "source": [
    "#### 1.5 เเสดงมูลค่าการนำเข้าสินค้าในเเต่ละเดือน\n",
    ">เเสดงจำนวนมูลค่าตามช่วงเวลาในเเต่ละปีโดยจะเเสดงเป็นรายเดือนเพื่อวิเคราะห์ว่าใน 1 ปี เดือนใดมีมูลค่าการนำเข้าสินค้าเข้ามามากที่สุด <br> ซึ่งหากทราบเเล้วอาจจะนำข้อมูลเหล่านี้มาเป็นตัวตัดสินใจให้กับการวางเเผนขายสินค้ากับผู้ประกอบการต่างๆ เนื่องจากข้อมูลอาจสรุปคร่าวๆ ได้ว่า ช่วงเวลาที่มีมูลค่าของการนำเข้าสินค้ามากอาจเป็นช่วงเวลาที่ผู้คนสนใจในสินค้านั้นๆ หรือ ซื้อของออนไลน์กันมากขึ้น ซึ่งจากตรงนี้หากเราดูว่าสินค้าที่ให้มูลค่ามากสุดในเดือนดังกล่าวคืออะไร ก็จะเป็นเเนวทางที่ดีในการทำธุรกิจต่อไปได้ เป็นต้น"
   ]
  },
  {
   "cell_type": "code",
   "execution_count": 34,
   "metadata": {
    "scrolled": true
   },
   "outputs": [
    {
     "data": {
      "image/png": "[encoded data removed]",
      "text/plain": [
       "<Figure size 1459.44x396 with 1 Axes>"
      ]
     },
     "metadata": {
      "needs_background": "light"
     },
     "output_type": "display_data"
    }
   ],
   "source": [
    "# เเสดงมูลค่าการนำเข้าสินค้าของปี 2018 2019 2020 ในเเต่ละเดือน\n",
    "data_impot = data_use['type'] =='import' #ตั้งเงื่อนไขสำหรับเลือกข้อมูลเฉพาะ type เป็นสินค้าที่นำเข้ามา\n",
    "data_im = data_use[(data_impot)] # เก็บข้อมูลที่ตรงกับเงื่อนไขด้านบน เข้าตัวแปร data_im\n",
    "#plot Graph โดยใช้ sns แบบ bar graphโดยกำหนด x = เดือน y = มูลค่าสินค้า โดยเเยกสีตามเเต่ละปี \n",
    "snsplot = sns.catplot(x=\"month\", y=\"value_thousand_sum\", hue=\"year\",kind='bar', data=data_im)\n",
    "plt.title('Show importing products each month of each year', fontsize=20) # ตั้งชื่อกราฟ \n",
    "plt.xlabel('Month', fontsize=16) # เเสดง label ในเเกน x คือ Month \n",
    "plt.ylabel('Value_thousand', fontsize=16)  # เเสดง label ในเเกน y คือ value_thousand \n",
    "# กำหนดขนาดหน้าต่างกราฟ ด้วยความกว้างเเละความสูง\n",
    "snsplot.fig.set_figwidth(20.27) \n",
    "snsplot.fig.set_figheight(5.5)"
   ]
  },
  {
   "cell_type": "markdown",
   "metadata": {},
   "source": [
    "**อธิบายผลลัพธ์**\n",
    "- จากผลลัพธ์ จะเเสดงถึงมูลค่าสินค้าในเเต่ละเดือนโดยมูลค่าสินค้าส่วนใหญ่จะอยู่ตามสีของ bar กราฟ เเละขีดที่ยาวขึ้นไปจะเเสดงค่ามากที่สุดที่มีอยู่ในปีนั้นๆ <br>ซึ่งเมื่อพิจารณาดูเเล้วจะพบว่าในเดือนที่ 4\n",
    "หรือเดือนเมษายน การนำเข้าสินค้าในปี 2018 เเละ 2019 จะอยู่ในระดับที่คงที่หรือไล่เลี่ยกัน ซึ่งต่างจากปี 2020 ที่มีมูลค่าในการนำเข้า ลดลงอย่างเห็นได้ชัด<br> นั่นอาจเป็นผลจากสถานการณ์โควิด ที่มีการเเพร่ระบาดอย่างรุนเเรงในช่วงเดือนมีนาคม เมษายน เเละ พฤษภาคม ไทยจึงชะงักในเรื่องของสินค้านำเข้าลง ดังกราฟ เพื่อลดโอกาสเสี่ยงในการนำเชื้อเข้าสู่ประเทศ อีกทั้งยังประเทศเพื่อนบ้านก็อาจเกิดวิกฤตกับการส่งออกสินค้าด้วยเช่นกัน เเต่เมื่อสถานการณ์เริ่มฟื้นตัว การนำเข้าสินค้าในปีนี้ก็มีมูลค่าเพิ่มขึ้นเรื่อยๆ สาเหตุอาจมาจากในช่วงที่เกิดการเเพร่ระบาดนั้น ไม่มีการขับเคลื่อนเศรษฐกิจ หรือผลิตสินค้าต่างๆได้ จึงทำให้ไทยนำเข้าสินค้าในช่วงเวลานี้เป็นมูลค่าจำนวนมาก  "
   ]
  },
  {
   "cell_type": "markdown",
   "metadata": {},
   "source": [
    "#### 1.6 เเสดงมูลค่าการส่งออกสินค้าในเเต่ละเดือน\n",
    ">เเสดงจำนวนมูลค่าตามช่วงเวลาในเเต่ละปีโดยจะเเสดงเป็นรายเดือนเพื่อวิเคราะห์ว่าใน 1 ปี การส่งออกของไทยในช่วงใดบ้างที่โดดเด่น เเละมีมูลค่ามากกว่าเดือนอื่นๆ เป็นต้น "
   ]
  },
  {
   "cell_type": "code",
   "execution_count": 35,
   "metadata": {
    "scrolled": false
   },
   "outputs": [
    {
     "data": {
      "image/png": "[encoded data removed]",
      "text/plain": [
       "<Figure size 1080x720 with 1 Axes>"
      ]
     },
     "metadata": {
      "needs_background": "light"
     },
     "output_type": "display_data"
    },
    {
     "data": {
      "image/png": "[encoded data removed]",
      "text/plain": [
       "<Figure size 1080x720 with 1 Axes>"
      ]
     },
     "metadata": {
      "needs_background": "light"
     },
     "output_type": "display_data"
    },
    {
     "data": {
      "image/png": "[encoded data removed]",
      "text/plain": [
       "<Figure size 1080x720 with 1 Axes>"
      ]
     },
     "metadata": {
      "needs_background": "light"
     },
     "output_type": "display_data"
    }
   ],
   "source": [
    "# มูลค่าการส่งออกสินค้าในปี 2018\n",
    "fig= plt.figure(figsize=(15,10))  # กำหนดหน้าต่างเเสดงผลลัพธ์ในการ plot graph \n",
    "plt.subplot(3,1,1) # กำหนดตำแหน่งให้เเสดงในเเถวที่ 1 จากจำนวน 3 เเถว 1 คอลัมน์ \n",
    "red_patch = mpatches.Patch(color='red', label='export') # ตั้ง legend เพื่อความเข้าใจในการอ่านกราฟ\n",
    "plt.legend(handles=[red_patch]) #เเสดง legend ของกราฟที่ 1 คือ export\n",
    "\n",
    "# กำหนดเงื่อนไขโดยเลือกเฉพาะข้อมูลสินค้าส่งออกเฉพาะในปี 2018 \n",
    "condition_1 = data_use['year'] == 2018\n",
    "condition_2 = data_use['type'] =='export'\n",
    "data_month18 = data_use[ (condition_1) & (condition_2)] # เรียกใช้ข้อมูล data_use ที่มีเฉพาะสินค้าส่งออกในปี 2018\n",
    "\n",
    "# plot Graph เเสดงมูลค่าสินค้าในเเต่ละเดือนของปี 2018 โดยใช้ข้อมูลที่ได้ตั้งเงื่อนไขไว้ \n",
    "plt.plot_date(data_month18['date'], data_month18['value_thousand_sum'] ,color='r',label='export') \n",
    "plt.show() ## เเสดงมูลค่ารายการส่งออกในปี 2018 \n",
    "# --------------------------------------------------------------------------------------------------------------\n",
    "# มูลค่าการส่งออกสินค้าในปี 2019\n",
    "fig= plt.figure(figsize=(15,10)) # กำหนดหน้าต่างเเสดงผลลัพธ์ในการ plot graph \n",
    "plt.subplot(3,1,2) # กำหนดตำแหน่งให้เเสดงในเเถวที่ 2 จากจำนวน 3 เเถว 1 คอลัมน์ \n",
    "blue_patch = mpatches.Patch(color='blue', label='export') # ตั้ง legend เพื่อควาวมเข้าใจในการอ่านกราฟ\n",
    "plt.legend(handles=[blue_patch]) #เเสดง legend ของกราฟที่ 2 \n",
    "# กำหนดเงื่อนไขโดยเลือกเฉพาะข้อมูลสินค้าส่งออกเฉพาะในปี 2019\n",
    "condition_1 = data_use['year'] == 2019\n",
    "condition_2 = data_use['type'] =='export'\n",
    "data_month19 = data_use[ (condition_1) & (condition_2)]\n",
    "\n",
    "# plot Graph เเสดงมูลค่าสินค้าในเเต่ละเดือนของปี 2019 โดยใช้ข้อมูลที่ได้ตั้งเงื่อนไขไว้ \n",
    "plt.plot_date(data_month19['date'], data_month19['value_thousand_sum'],color='b',label='export')\n",
    "plt.show() ## เเสดงมูลค่ารายการส่งออกในปี 2019\n",
    "# -----------------------------------------------------------------------------------------------------------------\n",
    "# มูลค่าการส่งออกสินค้าในปี 2020\n",
    "fig= plt.figure(figsize=(15,10)) # กำหนดหน้าต่างเเสดงผลลัพธ์ในการ plot graph \n",
    "plt.subplot(3,1,3) # กำหนดตำแหน่งให้เเสดงในเเถวที่ 3 จากจำนวน 3 เเถว 1 คอลัมน์ \n",
    "green_patch = mpatches.Patch(color='green', label='export') # ตั้ง legend เพื่อควาวมเข้าใจในการอ่านกราฟ\n",
    "plt.legend(handles=[green_patch]) #เเสดง legend ของกราฟที่ 3 \n",
    "# กำหนดเงื่อนไขโดยเลือกเฉพาะข้อมูลสินค้าส่งออกเฉพาะในปี 2020\n",
    "condition_1 = data_use['year'] == 2020\n",
    "condition_2 = data_use['type'] =='export'\n",
    "data_month20 = data_use[ (condition_1) & (condition_2)]\n",
    "\n",
    "# plot Graph เเสดงมูลค่าสินค้าในเเต่ละเดือนของปี 2020 โดยใช้ข้อมูลที่ได้ตั้งเงื่อนไขไว้ \n",
    "plt.plot_date(data_month20['date'], data_month20['value_thousand_sum'],color='g',label='export')\n",
    "plt.show() ## เเสดงมูลค่ารายการส่งออกในปี 2020"
   ]
  },
  {
   "cell_type": "markdown",
   "metadata": {},
   "source": [
    "**อธิบายผลลัพธ์** <br>\n",
    "- จากกราฟจะช่วยให้ผู้จัดทำมองภาพมูลค่าข้อมูลส่วนใหญ่ในเเต่ละเดือนได้ง่ายขึ้น เช่น เมื่อเทียบในปี 2018 2019 เเละ 2020 จะพบว่าทั้งสามปีมูลค่าสินค้าส่วนใหญ่จะไม่เกิน 500,000 (หน่วยพันบาท) เเต่ที่เเตกต่างคือจะมีสินค้าบางกลุ่มที่โดดเด่นกว่าสินค้าอื่นๆ คือมีมูลค่าสินค้าในการส่งออกมากที่สุด โดยเริ่มจากปี 2018 อยู่ในระดับ 1ล้าน (หน่วยพันบาท) ปี 2019 มูลค่าไปถึง 1.5 ล้าน (หน่วยพันบาท) เเละปี 2020 มูลค่าสินค้าได้ถึง 3 ล้านกว่า (หน่วยพันบาท) โดยเพิ่มขึ้นเรื่อยๆ ในเเต่ละปี"
   ]
  },
  {
   "cell_type": "markdown",
   "metadata": {},
   "source": [
    "#### 1.7 Show timeline for importing and exporting products\n",
    "โดยกระทำดังนี้  <ul><li>ใช้เครื่องมือ pivot_table เพื่อสรุปข้อมูล</li><li>นำผลลัพธ์ที่ได้มาเเสดงกราฟเพื่อมองได้ง่ายมากขึ้น</li></li></ul>\n",
    ">โดยกราฟด้านล่างนี้จะ เเสดง timeline ในการนำเข้าเเละส่งออกสินค้า ในระยะเวลาเกือบสามปีที่ผ่านมา คือประกอบไปด้วยปี 2018 2019 เเละ ครึ่งปีของ 2020 เพื่อวิเคราะห์เเละตรวจสอบดูว่าประเทศไทยมีการส่งออก หรือนำเข้าสินค้าที่เพิ่มมากขึ้นหรือไม่ เเละปริมาณการเพิ่มขึ้นนั้นเป็นจำนวนเท่าใดในเเต่ละช่วงเวลา <br> "
   ]
  },
  {
   "cell_type": "markdown",
   "metadata": {},
   "source": [
    "##### <ul><li>ใช้เครื่องมือ pivot_table เพื่อสรุปข้อมูล</li></ul>\n",
    ">ทำ pivot_table เพื่อดูข้อมูลสรุปในมุมมองของ date เเละมูลค่าสินค้า(value_thousand_sum) เพื่อทราบผลรวมมูลค่าสินค้าในเเต่ละเดือน ในเเต่ละปี โดยเเยกตามประเภทคือการนำเข้า เเละ ส่งออกสินค้า "
   ]
  },
  {
   "cell_type": "code",
   "execution_count": 36,
   "metadata": {},
   "outputs": [
    {
     "data": {
      "text/html": [
       "<div>\n",
       "<style scoped>\n",
       "    .dataframe tbody tr th:only-of-type {\n",
       "        vertical-align: middle;\n",
       "    }\n",
       "\n",
       "    .dataframe tbody tr th {\n",
       "        vertical-align: top;\n",
       "    }\n",
       "\n",
       "    .dataframe thead tr th {\n",
       "        text-align: left;\n",
       "    }\n",
       "\n",
       "    .dataframe thead tr:last-of-type th {\n",
       "        text-align: right;\n",
       "    }\n",
       "</style>\n",
       "<table border=\"1\" class=\"dataframe\">\n",
       "  <thead>\n",
       "    <tr>\n",
       "      <th></th>\n",
       "      <th colspan=\"2\" halign=\"left\">value_thousand_sum</th>\n",
       "    </tr>\n",
       "    <tr>\n",
       "      <th>type</th>\n",
       "      <th>export</th>\n",
       "      <th>import</th>\n",
       "    </tr>\n",
       "    <tr>\n",
       "      <th>date</th>\n",
       "      <th></th>\n",
       "      <th></th>\n",
       "    </tr>\n",
       "  </thead>\n",
       "  <tbody>\n",
       "    <tr>\n",
       "      <th>2018-11</th>\n",
       "      <td>1411269</td>\n",
       "      <td>76391</td>\n",
       "    </tr>\n",
       "    <tr>\n",
       "      <th>2018-12</th>\n",
       "      <td>181348</td>\n",
       "      <td>57232</td>\n",
       "    </tr>\n",
       "    <tr>\n",
       "      <th>2019-01</th>\n",
       "      <td>1225861</td>\n",
       "      <td>63403</td>\n",
       "    </tr>\n",
       "    <tr>\n",
       "      <th>2019-02</th>\n",
       "      <td>1072112</td>\n",
       "      <td>171326</td>\n",
       "    </tr>\n",
       "    <tr>\n",
       "      <th>2019-03</th>\n",
       "      <td>83372</td>\n",
       "      <td>231708</td>\n",
       "    </tr>\n",
       "    <tr>\n",
       "      <th>2019-04</th>\n",
       "      <td>772937</td>\n",
       "      <td>236791</td>\n",
       "    </tr>\n",
       "    <tr>\n",
       "      <th>2019-05</th>\n",
       "      <td>78038</td>\n",
       "      <td>132590</td>\n",
       "    </tr>\n",
       "    <tr>\n",
       "      <th>2019-06</th>\n",
       "      <td>44124</td>\n",
       "      <td>141844</td>\n",
       "    </tr>\n",
       "    <tr>\n",
       "      <th>2019-07</th>\n",
       "      <td>1734176</td>\n",
       "      <td>76137</td>\n",
       "    </tr>\n",
       "    <tr>\n",
       "      <th>2019-08</th>\n",
       "      <td>108171</td>\n",
       "      <td>78312</td>\n",
       "    </tr>\n",
       "  </tbody>\n",
       "</table>\n",
       "</div>"
      ],
      "text/plain": [
       "        value_thousand_sum        \n",
       "type                export  import\n",
       "date                              \n",
       "2018-11            1411269   76391\n",
       "2018-12             181348   57232\n",
       "2019-01            1225861   63403\n",
       "2019-02            1072112  171326\n",
       "2019-03              83372  231708\n",
       "2019-04             772937  236791\n",
       "2019-05              78038  132590\n",
       "2019-06              44124  141844\n",
       "2019-07            1734176   76137\n",
       "2019-08             108171   78312"
      ]
     },
     "execution_count": 36,
     "metadata": {},
     "output_type": "execute_result"
    }
   ],
   "source": [
    "'''ใช้ข้อมูล data_use[['date','value_thousand_sum']] เข้า pivot_table โดยกำหนดให้ index เป็น date เเละเเบ่ง column ตาม type \n",
    "ได้แก่ [import , export] โดยเเสดงผลลัพธ์เป็นผลรวมของข้อมูลในเเต่ละเดือน ซึ่งใช้ aggregate fn คือ sum โดยเก็บข้อมูลไว้ที่ตัวแปร pv'''\n",
    "\n",
    "pv = pd.pivot_table(data_use[['date','value_thousand_sum']], index=data_use['date'], columns=data_use.type, aggfunc='sum')\n",
    "pv.iloc[10:20] # เเสดงผลบางส่วน "
   ]
  },
  {
   "cell_type": "markdown",
   "metadata": {},
   "source": [
    " ##### <ul><li>นำผลลัพธ์ที่ได้มาเเสดงกราฟเพื่อมองได้ง่ายมากขึ้น</li></ul>\n"
   ]
  },
  {
   "cell_type": "code",
   "execution_count": 37,
   "metadata": {
    "scrolled": true
   },
   "outputs": [
    {
     "data": {
      "text/plain": [
       "Text(0, 0.5, 'value_thousand_sum')"
      ]
     },
     "execution_count": 37,
     "metadata": {},
     "output_type": "execute_result"
    },
    {
     "data": {
      "image/png": "[encoded data removed]",
      "text/plain": [
       "<Figure size 1296x360 with 1 Axes>"
      ]
     },
     "metadata": {
      "needs_background": "light"
     },
     "output_type": "display_data"
    }
   ],
   "source": [
    "pv.plot(figsize=(18,5)); # นำข้อมูลหลังจากแปลงเป็นข้อมูลสรุปเเล้วที่เก็บไว้ในตัวแปร pv มา plot graph \n",
    "plt.legend(loc='upper center') #กำหนด legend ให้อยู่ในตำเเหน่งที่ไม่ปิดบังเส้นกราฟ \n",
    "plt.title(\"Show timeline for importing and exporting products\",weight='bold', \n",
    "          fontsize=25, color=\"black\",backgroundcolor='pink') #เเสดงชื่อกราฟพร้อมตกเเต่งสี \n",
    "plt.ylabel('value_thousand_sum') #ชื่อค่าของเเกน y ในที่นี้คือมูลค่าสินค้าในหน่วย พันบาท"
   ]
  },
  {
   "cell_type": "markdown",
   "metadata": {},
   "source": [
    "**อธิบายผลลัพธ์**\n",
    "- จากกราฟทำให้ทราบว่ามูลค่าการส่งออกของไทยนั้นมากกว่าการนำเข้าเป็นจำนวนมาก ซึ่งเป็นสัญญาณที่ดี เนื่องจากยิ่งมีการส่งออกไปมากเท่าใดยิ่งมีผลทำให้<br>เศรษฐกิจไทยดีขึ้นตามไปด้วย หมายความว่าการส่งออกสินค้าของไทยนั้นถือเป็นปัจจัยสำคัญในการเติบโตทางเศรษฐกิจของไทย ซี่งบอกให้ทราบว่าหากในกรณี<br>ที่เกิดเหตุกาณ์ที่ผิดปกติ เช่น การกีดกันทางการค้าเกิดขึ้น หรือสงครามการค้า ทำให้ประเทศคู่ค้าหยุดซื้อสินค้าส่งออกของไทย ไทยก็จะได้รับผลกระทบเป็นอย่างมาก <br>\n",
    "เเละเมื่อมองจากเเนวโน้มเส้นกราฟจะพบว่าอัตราการส่งออกจะเพิ่มขึ้นเรื่อยๆ เเละเป็นไปได้ว่าในปีหน้ามูลค่าการส่งออกของไทยก็จะเพิ่มขึ้นตามไปด้วย<br>\n",
    "เต่มูลค่าสินค้านำเข้าของไทยอยู่ในเกณฑ์ที่ไม่เพิ่มเเละไม่ลดมากนัก หรืออยู่ในระดับที่คงที่ตลอดระยะเวลา ทั้ง ปี 2018 2019 เเละ 2020 \n",
    "______________________________________________________________________________________________________________________________"
   ]
  },
  {
   "cell_type": "markdown",
   "metadata": {},
   "source": [
    "### 2. ตรวจสอบเเละวิเคราะห์รายการสินค้า\n",
    "*โดยมีกระบวนการดังนี้*\n",
    "> - ตรวจสอบว่าสินค้าในการนำเข้า หรือส่งออกนั้นมีรายการสินค้าใดบ้าง <br>\n",
    "- เเสดงจำนวนรายการสินค้าที่มีการนำเข้า เเละ ส่งออกมากที่สุด 5 ลำดับเเรก หลังจากนั้นผู้จัดทำจะทำการตรวจสอบด้วยว่าสินค้าที่มีลำดับการนำเข้าหรือส่งออกมากที่สุด มาจากประเทศใดมากที่สุด (จะเเสดงถึงจำนวน)  <br> \n",
    "- แสดงมูลค่ารวมของสินค้าที่ให้มูลค่ามากที่สุด 10 ลำดับแรก (เเสดงถึงมูลค่าเงิน)  <br> \n",
    "- เเสดงรายการสินค้าที่ไทยนำเข้าเเละไทยส่งออกไปมากที่สุดของเเต่ละประเทศ\n",
    "- เลือกดูรายการสินค้าประเภท ข้าว ซึ่งเป็นสินค้า หรือ อาหารหลักของคนไทย"
   ]
  },
  {
   "cell_type": "markdown",
   "metadata": {},
   "source": [
    "#### 2.1 ตรวจสอบว่าสินค้าในการนำเข้า หรือส่งออกนั้นมีรายการสินค้าใดบ้าง "
   ]
  },
  {
   "cell_type": "code",
   "execution_count": 38,
   "metadata": {
    "scrolled": true
   },
   "outputs": [
    {
     "name": "stdout",
     "output_type": "stream",
     "text": [
      "['กรอบและโครงสำหรับแว่นตา', 'กระจก แก้ว และผลิตภัณฑ์อื่น ๆ', 'กระดาษ และผลิตภัณฑ์กระดาษอื่น ๆ', 'กระดาษชำระ', 'กระดาษและกระดาษแข็ง', 'กระเบื้องปูพื้นและปิดผนัง', 'กระเป๋าถือและกระเป๋าอื่น ๆ', 'เคมีภัณฑ์อนินทรีย์', 'กระดาษคราฟท์', 'เคมีภัณฑ์อินทรีย์', 'เคมีภัณฑ์อื่น ๆ', 'ไขมันและน้ำมันจากสัตว์', 'เคมีปรุงแต่งใช้ในการถ่ายรูป', 'กระเป๋า', 'กาแฟ ชา เครื่องเทศ', 'ก๊าซธรรมชาติ', 'กระดาษพิมพ์เขียน', 'กระเปาะแก้วสำหรับหลอดไฟฟ้า หลอดแคโทดเรย์', 'กล้องถ่ายภาพยนต์และส่วนประกอบ', 'กล้องถ่ายรูปและส่วนประกอบ', 'กล้องถ่ายรูป', 'เครื่องคอมพิวเตอร์และอุปกรณ์', 'เครื่องจักรกลอื่น ๆ และส่วนประกอบ', 'คอนแทกเลนซ์และเลนส์', 'เครื่องจักรใช้ในการแปรรูปไม้  และส่วนประกอบ', 'เครื่องจักรใช้ในอุตสาหกรรมและส่วนประกอบ', 'ของเล่น', 'ข้าว', 'เครื่องจักรไฟฟ้าใช้ในการโทรคมนาคมและการสื่อสาร', 'เครื่องจักรไฟฟ้าอื่นๆและส่วนประกอบ', 'กระดาษชำระ กระดาษเช็ดหน้า กระดาษอนามัย', 'กระติกสูญญากาศและส่วนประกอบ', 'กระเป๋าถือ', 'กระเป๋าใส่เศษสตางค์', 'กล้วยไม้', 'กล่องหีบที่ทำด้วยพลาสติก', 'ขนมปังกรอบ', 'ของชำร่วยและเครื่องประดับ', 'ข้าวโพด', 'ไขมันและน้ำมันจากพืชและสัตว์อื่น ๆ', 'ครั่ง', 'ครื่องแต่งกายและเข็มขัด', 'เคมีภัณฑ์เบ็ดเตล็ด', 'เครื่องกีฬาและเครื่องเล่นเกมสำหรับเล่นในห้อง (บิลเลียด วิดีโอเกม ไพ่ ฯลฯ)', 'กระเป๋าเดินทาง', 'โกโก้และของปรุงแต่ง', 'ข้าวโพดหวาน', 'เครื่องคอมพิวเตอร์ อุปกรณ์และส่วนประกอบ', 'เครื่องใช้ทำด้วยไม้', 'เครื่องดื่มที่มีแอลกอฮอส์', 'เครื่องดื่มที่ไม่มีแอลกอฮอส์', 'กรอบรูปไม้', 'กระดาษและผลิตภัณฑ์กระดาษอื่นๆ', 'ไก่', 'เครื่องกีฬาสำหรับเล่นกลางแจ้ง (สกี แบดมินตัน กอล์ฟ  เทนนิส ฯลฯ)', 'กระดาษแข็ง', 'ข้าวโพดอ่อน', 'เครื่องแกงสำเร็จรูป', 'กระจกนิรภัย กระจกรถยนต์', 'ครื่องจักรกลและส่วนประกอบ อื่น ๆ', 'เครื่องกังหันไอพ่นและกังหันอื่น ๆ', 'ของอื่นๆที่ทำด้วยอลูมิเนียม', 'แก้วและกระจกอื่นๆ', 'เครื่องคอมเพรสเซอร์ของเครื่องทำความเย็น', 'กระดาษใช้สำหรับเขียน พิมพ์ หรือวัตถุประสงค์อื่นทางกราฟิก', 'ก๊อก วาวล์และส่วนประกอบ', 'กุ้ง', 'ของเบ็ดเตล็ดอื่น ๆ ทำด้วยโลหะสามัญ', 'เครื่องใช้บนโต๊ะอาหาร เครื่องครัว ทำด้วยอลูมิเนียม', 'เครื่องแก้วใช้บนโต๊ะอาหาร ในครัว', 'เครื่องจักรใช้ในอุตสาหกรรมการพิมพ์', 'ของเล่นที่มีล้อ', 'กระเบื้องปูพื้น ปิดผนังและโมเสก', 'กุญแจสายยู', 'เครื่องจักรที่ใช้ในการก่อสร้างและส่วนประกอบ', 'ของเล่นอื่น ๆ', 'เครื่องดนตรีและส่วนประกอบ', 'เครื่องจักรใช้ในการแปรรูปยางหรือพลาสติก', 'เครื่องเทศและสมุนไพร', 'เครื่องใช้บนโต๊ะอาหาร เครื่องครัว ทำด้วยเหล็ก เหล็กกล้า', 'เครื่องใช้ไฟฟ้าและส่วนประกอบอื่น ๆ', 'เครื่องนุ่งห่ม', 'เครื่องสำอาง เครื่องหอมและสบู่', 'เครื่องยนต์สันดาปภายในแบบลูกสูบและส่วนประกอบ', 'เครื่องใช้บนโต๊ะอาหาร เครื่องครัว ทำด้วยโลหะมีค่า', 'เคหะสิ่งทอ', 'กระสอบ', 'กาแฟ', 'ของใช้ในเทศกาลอี่น ๆ']"
     ]
    }
   ],
   "source": [
    "#ตรวจสอบว่าสินค้าในการนำเข้า หรือส่งออกนั้นมีรายการสินค้าใดบ้าง\n",
    "product = [] # สร้างลิสต์สำหรับเก็บรายการสินค้า\n",
    "for i in data[\"product_name\"]: # วนลูปเข้าข้อมูลรายกา่รสินค้า \n",
    "    if str(i) not in product: # ตั้งเงื่อนไขว่า ถ้ารายการสินค้าที่พบยังไม่ได้มีอยู่ในลิสต์ที่ตั้งไว้ ให้เพิ่มเข้าไปใน list ของ Product \n",
    "        product.append(i)\n",
    "    else: # เเต่ถ้ามีอยู่เเล้วก็ให้ดูตัวถัดไปเลย\n",
    "        continue\n",
    "print(product,end='') #เเสดงรายการสินค้าทั้งหมด "
   ]
  },
  {
   "cell_type": "code",
   "execution_count": 39,
   "metadata": {
    "scrolled": true
   },
   "outputs": [
    {
     "name": "stdout",
     "output_type": "stream",
     "text": [
      "89\n"
     ]
    }
   ],
   "source": [
    "# ตรวจสอบจำนวนรายการสินค้าทั้งหมด \n",
    "print(len(product)) "
   ]
  },
  {
   "cell_type": "markdown",
   "metadata": {},
   "source": [
    "*จากผลลลัพธ์จะพบว่ามีรายการสินค้าทั้งหมด 89 รายการสินค้า ซึ่งหากนำมาคิดทุกรายการนั้น ผู้จัดทำคิดว่าอาจมีจำนวนมากจนเกินไป <br>\n",
    "จึงจะขอเเสดงถึงกลุ่มสินค้าที่มีจำนวนรายการส่งออก เเละนำเข้า เป็นอันดับต้นๆ ของรายการสินค้าทั้งหมด*"
   ]
  },
  {
   "cell_type": "markdown",
   "metadata": {},
   "source": [
    "#### 2.2 เเสดงจำนวนรายการสินค้าที่มีการนำเข้า เเละ ส่งออกมากที่สุด 5 ลำดับเเรก \n",
    "เมื่อ plot graph เเสดงสินค้าที่ส่งออกมากที่สุด 5 ลำดับเเรกเเล้ว\n",
    " - ผู้จัดทำจะมีการตรวจสอบด้วยว่าสินค้าที่มีลำดับมากที่สุด ส่งออกหรือนำเข้าจากประเทศใดมากที่สุด"
   ]
  },
  {
   "cell_type": "code",
   "execution_count": 40,
   "metadata": {
    "scrolled": true
   },
   "outputs": [
    {
     "data": {
      "text/plain": [
       "Text(0, 0.5, 'product_name')"
      ]
     },
     "execution_count": 40,
     "metadata": {},
     "output_type": "execute_result"
    },
    {
     "data": {
      "image/png": "[encoded data removed]",
      "text/plain": [
       "<Figure size 360x648 with 2 Axes>"
      ]
     },
     "metadata": {
      "needs_background": "light"
     },
     "output_type": "display_data"
    }
   ],
   "source": [
    "colors = ['b', '#00FFCC', '#00FF99', '#00FF66','#00FF33'] # เก็บข้อมูลสีเพื่อใช้ในการเเสดงกราฟสินค้า\n",
    "plt.rcParams['font.family']= 'Tahoma' # กำหนด font ให้สามารถ plot ข้อมูลสินค้าเป็นภาษาไทยได้ \n",
    "plt.rcParams['font.size']= 14 # กำหนดขนาดตัวอักษรของรายการสินค้า\n",
    "\n",
    "#สำหรับเเสดงกราฟสินค้านำเข้า 5 ลำดับเเรก\n",
    "fig = plt.figure(figsize=(5,9)) # กำหนดขนาดของกราฟ \n",
    "dat_im = data_use[data_use.type == 'import'] # ตั้งข้อมูลสำหรับสินค้านำเข้า โดยเก็บไว้ในตัวแปร dat_im\n",
    "plt.subplot(2,1,1)  # เเสดงกราฟที่ 1\n",
    "# ใช้ข้อมูลสินค้านำเข้ามานับจำนวนเเละดึง 5 ลำดับเเรกมา plot graph \n",
    "dat_im['product_name'].value_counts()[:5].plot(kind='barh',color = colors, legend=False) \n",
    "plt.title(\"Show the first 5 items that are imported the most\", fontsize=13, color=\"k\",backgroundcolor='y'); #ตั้งชื่อกราฟเเละตกเเต่งสี\n",
    "plt.xlabel(\"amount\") #กำหนด label ในเเกน xให้เป็นจำนวนรายการสินค้าทั้งหมด\n",
    "plt.ylabel(\"product_name\") #กำหนด label ในเเกน y เป็นชื่อรายการสินค้า 5 ลำดับเเรก\n",
    "\n",
    "#สำหรับเเสดงกราฟสินค้าส่งออก 5 ลำดับเเรก\n",
    "dat_ex = data_use[data_use.type == 'export'] # ตั้งข้อมูลสำหรับเป็นสินค้าส่งออก โดยเก็บไว้ในตัวแปร dat_ex\n",
    "plt.subplot(2,1,2)  # เเสดงกราฟที่ 2\n",
    "# ใช้ข้อมูลสินค้าส่งออกมานับจำนวนเเละดึง 5 ลำดับเเรกมา plot graph \n",
    "dat_ex['product_name'].value_counts()[:5].plot(kind='barh',color = colors, legend=False) \n",
    "plt.title(\"Show the first 5 items that are exported the most\",fontsize=13, color=\"r\",backgroundcolor='pink'); # ตั้งชื่อกราฟ\n",
    "plt.xlabel(\"amount\")  #กำหนด label ในเเกน x ให้เป็นจำนวนรายการสินค้าทั้งหมด\n",
    "plt.ylabel(\"product_name\")  #กำหนด label ในเเกน y เป็นชื่อรายการสินค้า  5 ลำดับเเรก"
   ]
  },
  {
   "cell_type": "markdown",
   "metadata": {},
   "source": [
    "**อธิบายผลลัพธ์** <br>\n",
    "- จากผลลัพธ์ จะเเสดงรายการสินค้าที่มีจำนวนมากสุดในการส่งออก หรือ นำเข้าสินค้า <br> \n",
    "จากกราฟสินค้านำเข้าพบว่า สินค้าจำพวก กระจกเเก้วนั้นไทยนำเข้ามาจำนวนมาก ตามด้วย กระดาษต่างๆ เครื่องคอมพิวเตอร์ เคมีภัณฑ์ เเละกระเป๋า ตามลำดับ <br>\n",
    "เเละสินค้าที่ไทยส่งออกไปมากที่สุดคือ สินค้าจำพวกพลาสติก กระดาษ รวมถึงข้าวด้วย เเละยังมีกระจกนิรภัยกระจกรถยนต์ เเละกระดาษชำระ เป็นลำดับตามมา\n",
    "<br> โดยผู้จัดทำต้องการทราบต่อว่า สินค้าที่มีจำนวนรายการนำเข้า เเละ ส่งออกมากที่สุด จะมาจากประเทศใด หรือส่งไปประเทศใดมากที่สุด ดังนี้"
   ]
  },
  {
   "cell_type": "markdown",
   "metadata": {},
   "source": [
    "##### ตรวจว่าสินค้าที่มีลำดับการนำเข้ามากที่สุด มาจากประเทศใดมากที่สุด"
   ]
  },
  {
   "cell_type": "code",
   "execution_count": 41,
   "metadata": {},
   "outputs": [
    {
     "data": {
      "text/plain": [
       "CHINA        158\n",
       "SINGAPORE     27\n",
       "VIETNAM        9\n",
       "Name: country_name_en, dtype: int64"
      ]
     },
     "execution_count": 41,
     "metadata": {},
     "output_type": "execute_result"
    }
   ],
   "source": [
    "#สินค้านำเข้าที่มากที่สุด กระจก แก้ว และผลิตภัณฑ์อื่น ๆ\n",
    "\n",
    "# เเสดงรายการจำนวนสินค้ากระจกที่มีการนำเข้าตามประเทศ่เทศต่างๆ \n",
    "dat_im[dat_im['product_name'] == 'กระจก แก้ว และผลิตภัณฑ์อื่น ๆ'].country_name_en.value_counts() "
   ]
  },
  {
   "cell_type": "markdown",
   "metadata": {},
   "source": [
    "##### ตรวจว่ารายการสินค้าที่ส่งออกไปมากที่สุด ไปที่ประเทศใดมากสุด"
   ]
  },
  {
   "cell_type": "code",
   "execution_count": 42,
   "metadata": {},
   "outputs": [
    {
     "data": {
      "text/plain": [
       "VIETNAM      51\n",
       "SINGAPORE    36\n",
       "CHINA         1\n",
       "Name: country_name_en, dtype: int64"
      ]
     },
     "execution_count": 42,
     "metadata": {},
     "output_type": "execute_result"
    }
   ],
   "source": [
    "#ตรวจสอบสินค้าส่งออก โดยจะเลือก 'กล่องหีบที่ทำด้วยพลาสติก' จากปริมาณในการส่งออกไปมากที่สุด\n",
    "\n",
    "# เเสดงรายการจำนวนสินค้าประเภท 'กล่องหีบที่ทำด้วยพลาสติก' ที่ส่งออกไปยังประเทศ่เทศต่างๆ\n",
    "dat_ex[dat_ex['product_name'] == 'กล่องหีบที่ทำด้วยพลาสติก'].country_name_en.value_counts() "
   ]
  },
  {
   "cell_type": "markdown",
   "metadata": {},
   "source": [
    "**อธิบายผลลัพธ์** <br> \n",
    "- จากผลลัพธ์พบว่า ไทยนำเข้าสินค้าจำพวกกระจกจากจีนมากที่สุด ตามด้วยสิงค์โปร์เเละเวียดนาม ตามลำดับ  <br>\n",
    "เเละมีการส่งออกสินค้ากล่องหีบที่ทำด้วยพลาสติกไปยัง เวียดนาม มากที่สุด ต่อด้วย สิงค์โปร์ เเละ จีน ตามลำดับ <br>\n",
    "ดังนั้นเมื่อทราบว่าจีนเเละเวียดนามมีผลมากสุดต่อการส่งออกเเละนำเข้าสินค้าทั้งสองชนิดนี้ ก็จะช่วยให้ไทยมีเเนวทางในการปฎิสัมพันธ์กับประเทศเพื่อนบ้าน <br>ในกรณีที่ต้องการรักษาอัตราการนำเข้าหรือส่งออกของสินค้าทั้งสองชนิดให้คงอยู่ เป็นต้น "
   ]
  },
  {
   "cell_type": "markdown",
   "metadata": {},
   "source": [
    "#### 2.3 แสดงมูลค่ารวมของสินค้าที่ให้มูลค่ามากที่สุด 10 ลำดับแรก\n",
    "โดยในที่นี้ไม่ได้สนใจว่าสินค้าจะมาจากการนำเข้า หรือส่งออก เพื่อสำรวจรายการสินค้าโดยรวมสำหรับการค้าผ่านเเดนของทั้ง 3 ประเทศนี้ "
   ]
  },
  {
   "cell_type": "code",
   "execution_count": 43,
   "metadata": {
    "scrolled": true
   },
   "outputs": [
    {
     "data": {
      "text/html": [
       "<div>\n",
       "<style scoped>\n",
       "    .dataframe tbody tr th:only-of-type {\n",
       "        vertical-align: middle;\n",
       "    }\n",
       "\n",
       "    .dataframe tbody tr th {\n",
       "        vertical-align: top;\n",
       "    }\n",
       "\n",
       "    .dataframe thead th {\n",
       "        text-align: right;\n",
       "    }\n",
       "</style>\n",
       "<table border=\"1\" class=\"dataframe\">\n",
       "  <thead>\n",
       "    <tr style=\"text-align: right;\">\n",
       "      <th></th>\n",
       "      <th>mean</th>\n",
       "      <th>min</th>\n",
       "      <th>max</th>\n",
       "    </tr>\n",
       "    <tr>\n",
       "      <th>product_name</th>\n",
       "      <th></th>\n",
       "      <th></th>\n",
       "      <th></th>\n",
       "    </tr>\n",
       "  </thead>\n",
       "  <tbody>\n",
       "    <tr>\n",
       "      <th>กรอบรูปไม้</th>\n",
       "      <td>36.583333</td>\n",
       "      <td>0</td>\n",
       "      <td>307</td>\n",
       "    </tr>\n",
       "    <tr>\n",
       "      <th>กรอบและโครงสำหรับแว่นตา</th>\n",
       "      <td>642.891892</td>\n",
       "      <td>1</td>\n",
       "      <td>3053</td>\n",
       "    </tr>\n",
       "    <tr>\n",
       "      <th>กระจก แก้ว และผลิตภัณฑ์อื่น ๆ</th>\n",
       "      <td>452.371134</td>\n",
       "      <td>0</td>\n",
       "      <td>14770</td>\n",
       "    </tr>\n",
       "    <tr>\n",
       "      <th>กระจกนิรภัย กระจกรถยนต์</th>\n",
       "      <td>105.393939</td>\n",
       "      <td>1</td>\n",
       "      <td>1005</td>\n",
       "    </tr>\n",
       "    <tr>\n",
       "      <th>กระดาษ และผลิตภัณฑ์กระดาษอื่น ๆ</th>\n",
       "      <td>1873.782609</td>\n",
       "      <td>0</td>\n",
       "      <td>11950</td>\n",
       "    </tr>\n",
       "    <tr>\n",
       "      <th>...</th>\n",
       "      <td>...</td>\n",
       "      <td>...</td>\n",
       "      <td>...</td>\n",
       "    </tr>\n",
       "    <tr>\n",
       "      <th>แก้วและกระจกอื่นๆ</th>\n",
       "      <td>12.000000</td>\n",
       "      <td>4</td>\n",
       "      <td>20</td>\n",
       "    </tr>\n",
       "    <tr>\n",
       "      <th>โกโก้และของปรุงแต่ง</th>\n",
       "      <td>284.392857</td>\n",
       "      <td>2</td>\n",
       "      <td>1116</td>\n",
       "    </tr>\n",
       "    <tr>\n",
       "      <th>ไก่</th>\n",
       "      <td>20817.350000</td>\n",
       "      <td>2141</td>\n",
       "      <td>65611</td>\n",
       "    </tr>\n",
       "    <tr>\n",
       "      <th>ไขมันและน้ำมันจากพืชและสัตว์อื่น ๆ</th>\n",
       "      <td>6038.900000</td>\n",
       "      <td>2</td>\n",
       "      <td>14455</td>\n",
       "    </tr>\n",
       "    <tr>\n",
       "      <th>ไขมันและน้ำมันจากสัตว์</th>\n",
       "      <td>168.000000</td>\n",
       "      <td>168</td>\n",
       "      <td>168</td>\n",
       "    </tr>\n",
       "  </tbody>\n",
       "</table>\n",
       "<p>89 rows × 3 columns</p>\n",
       "</div>"
      ],
      "text/plain": [
       "                                            mean   min    max\n",
       "product_name                                                 \n",
       "กรอบรูปไม้                             36.583333     0    307\n",
       "กรอบและโครงสำหรับแว่นตา               642.891892     1   3053\n",
       "กระจก แก้ว และผลิตภัณฑ์อื่น ๆ         452.371134     0  14770\n",
       "กระจกนิรภัย กระจกรถยนต์               105.393939     1   1005\n",
       "กระดาษ และผลิตภัณฑ์กระดาษอื่น ๆ      1873.782609     0  11950\n",
       "...                                          ...   ...    ...\n",
       "แก้วและกระจกอื่นๆ                      12.000000     4     20\n",
       "โกโก้และของปรุงแต่ง                   284.392857     2   1116\n",
       "ไก่                                 20817.350000  2141  65611\n",
       "ไขมันและน้ำมันจากพืชและสัตว์อื่น ๆ   6038.900000     2  14455\n",
       "ไขมันและน้ำมันจากสัตว์                168.000000   168    168\n",
       "\n",
       "[89 rows x 3 columns]"
      ]
     },
     "execution_count": 43,
     "metadata": {},
     "output_type": "execute_result"
    }
   ],
   "source": [
    "# เก็บข้อมูลมูลค่ามากสุด มูลค่ากลาง เเละมูลค่าน้อยที่สุด ของเเต่ละรายการสินค้า  ซึ่งผลลัพธ์จะเเสดงมูลค่า 'mean', 'min' เเละ 'max'ของรายการสินค้านั้นๆ \n",
    "\n",
    "data_aggre = data_use.groupby('product_name').value_thousand_sum.agg(['mean', 'min', 'max'])\n",
    "data_aggre"
   ]
  },
  {
   "cell_type": "code",
   "execution_count": 44,
   "metadata": {},
   "outputs": [
    {
     "data": {
      "text/plain": [
       "<matplotlib.axes._subplots.AxesSubplot at 0x244a2a634c0>"
      ]
     },
     "execution_count": 44,
     "metadata": {},
     "output_type": "execute_result"
    },
    {
     "data": {
      "image/png": "[encoded data removed]",
      "text/plain": [
       "<Figure size 1080x504 with 1 Axes>"
      ]
     },
     "metadata": {
      "needs_background": "light"
     },
     "output_type": "display_data"
    }
   ],
   "source": [
    " #ตั้งตัวแปรเก็บรายการสินค้าโดยเลือกจากสินค้าที่ให้มูลค่ามากที่สุด 10 ลำดับเเรก\n",
    "    \n",
    "data_tenagg = data_aggre.sort_values(by=['max'],ascending=False).iloc[0:10]\n",
    "# data_tenagg\n",
    "# plot graph เเสดงรายการสินค้าที่ให้มูลค่ามากที่สุด 10 ลำดับเเรก โดยเเสดงค่า mean min เเละ max โดยกำหนดขนาดเเละหัวเรื่องกราฟด้วย\n",
    "data_tenagg.plot(kind='barh',figsize=(15,7), fontsize=18,\n",
    "                title='Showing the total value of the products that give the most value \\n 10 first order')"
   ]
  },
  {
   "cell_type": "markdown",
   "metadata": {},
   "source": [
    "**อธิบายผลลัพธ์** <br>\n",
    " - จากผลลัพธ์จะพบว่าในการค้าผ่านเเดนของไทยนั้น สินค้าที่มีมูลค่ามากที่สุดคือ เครื่องคอมพิวเตอร์ อุปกรณ์เเละส่วนประกอบ เนื่องจากว่าสินค้าจำพวกนี้มีราคาที่ค่อนข้างสูง\n",
    "ซึ่งสร้างมูลค่าได้มากสุดถึง 3,000,000 กว่าพันบาท หรือ 3,000,000,000 สามพันกว่าล้านบาท เเละยังมีสินค้าอื่นๆ ที่มียอดมูลค่าสินค้าในระดับที่สูงสุด ได้แก่ เคมีภัณฑ์อื่นๆ ข้าว คอนเเทกส์เลนส์ กระดาษ เครื่องคอมพิวเตอร์ ไก่ เครื่องจักรกล เคมีภัณฑ์เบ็ดเตล็ด กล้วยไม้ ตามลำดับ <br> \n",
    "ดังนั้นผู้จัดทำต้องการทราบต่อว่าประเทศใดที่เป็นประเทศที่ส่งออกสินค้า คอมพิวเตอร์ มากที่สุด ดังนี้ "
   ]
  },
  {
   "cell_type": "markdown",
   "metadata": {},
   "source": [
    "##### ตรวจสอบว่าสินค้าที่มีมูลค่ามากสุด เป็นสินค้านำเข้า หรือส่งออก เเละจากประเทศไทย \n",
    ">โดยจะเรียกดูข้อมูลเฉพาะสินค้านำเข้า จากตัวแปล dat_im เเละสินค้าส่งออกจากตัวแปร dat_ex เพื่อใช้ในการวิเคราะห์"
   ]
  },
  {
   "cell_type": "code",
   "execution_count": 45,
   "metadata": {
    "scrolled": true
   },
   "outputs": [
    {
     "data": {
      "text/html": [
       "<div>\n",
       "<style scoped>\n",
       "    .dataframe tbody tr th:only-of-type {\n",
       "        vertical-align: middle;\n",
       "    }\n",
       "\n",
       "    .dataframe tbody tr th {\n",
       "        vertical-align: top;\n",
       "    }\n",
       "\n",
       "    .dataframe thead th {\n",
       "        text-align: right;\n",
       "    }\n",
       "</style>\n",
       "<table border=\"1\" class=\"dataframe\">\n",
       "  <thead>\n",
       "    <tr style=\"text-align: right;\">\n",
       "      <th></th>\n",
       "      <th>year</th>\n",
       "      <th>month</th>\n",
       "      <th>type</th>\n",
       "      <th>port_name</th>\n",
       "      <th>province_name</th>\n",
       "      <th>country_name_en</th>\n",
       "      <th>product_name</th>\n",
       "      <th>value_thousand_sum</th>\n",
       "      <th>date</th>\n",
       "    </tr>\n",
       "  </thead>\n",
       "  <tbody>\n",
       "    <tr>\n",
       "      <th>246</th>\n",
       "      <td>2018</td>\n",
       "      <td>4</td>\n",
       "      <td>import</td>\n",
       "      <td>ด่านศุลกากรสะเดา (ศภ.4)</td>\n",
       "      <td>สงขลา</td>\n",
       "      <td>SINGAPORE</td>\n",
       "      <td>กระดาษและกระดาษแข็ง</td>\n",
       "      <td>30669</td>\n",
       "      <td>2018-04</td>\n",
       "    </tr>\n",
       "    <tr>\n",
       "      <th>247</th>\n",
       "      <td>2018</td>\n",
       "      <td>4</td>\n",
       "      <td>import</td>\n",
       "      <td>ด่านศุลกากรสะเดา (ศภ.4)</td>\n",
       "      <td>สงขลา</td>\n",
       "      <td>SINGAPORE</td>\n",
       "      <td>กระเบื้องปูพื้นและปิดผนัง</td>\n",
       "      <td>60</td>\n",
       "      <td>2018-04</td>\n",
       "    </tr>\n",
       "    <tr>\n",
       "      <th>248</th>\n",
       "      <td>2018</td>\n",
       "      <td>4</td>\n",
       "      <td>import</td>\n",
       "      <td>ด่านศุลกากรสะเดา (ศภ.4)</td>\n",
       "      <td>สงขลา</td>\n",
       "      <td>SINGAPORE</td>\n",
       "      <td>กระเป๋าถือและกระเป๋าอื่น ๆ</td>\n",
       "      <td>148</td>\n",
       "      <td>2018-04</td>\n",
       "    </tr>\n",
       "  </tbody>\n",
       "</table>\n",
       "</div>"
      ],
      "text/plain": [
       "     year  month    type                port_name province_name  \\\n",
       "246  2018      4  import  ด่านศุลกากรสะเดา (ศภ.4)         สงขลา   \n",
       "247  2018      4  import  ด่านศุลกากรสะเดา (ศภ.4)         สงขลา   \n",
       "248  2018      4  import  ด่านศุลกากรสะเดา (ศภ.4)         สงขลา   \n",
       "\n",
       "    country_name_en                product_name  value_thousand_sum     date  \n",
       "246       SINGAPORE         กระดาษและกระดาษแข็ง               30669  2018-04  \n",
       "247       SINGAPORE   กระเบื้องปูพื้นและปิดผนัง                  60  2018-04  \n",
       "248       SINGAPORE  กระเป๋าถือและกระเป๋าอื่น ๆ                 148  2018-04  "
      ]
     },
     "execution_count": 45,
     "metadata": {},
     "output_type": "execute_result"
    }
   ],
   "source": [
    "dat_im.iloc[100:103] # เรียกดูเฉพาะสินค้านำเข้า"
   ]
  },
  {
   "cell_type": "code",
   "execution_count": 46,
   "metadata": {},
   "outputs": [
    {
     "data": {
      "text/html": [
       "<div>\n",
       "<style scoped>\n",
       "    .dataframe tbody tr th:only-of-type {\n",
       "        vertical-align: middle;\n",
       "    }\n",
       "\n",
       "    .dataframe tbody tr th {\n",
       "        vertical-align: top;\n",
       "    }\n",
       "\n",
       "    .dataframe thead th {\n",
       "        text-align: right;\n",
       "    }\n",
       "</style>\n",
       "<table border=\"1\" class=\"dataframe\">\n",
       "  <thead>\n",
       "    <tr style=\"text-align: right;\">\n",
       "      <th></th>\n",
       "      <th>year</th>\n",
       "      <th>month</th>\n",
       "      <th>type</th>\n",
       "      <th>port_name</th>\n",
       "      <th>province_name</th>\n",
       "      <th>country_name_en</th>\n",
       "      <th>product_name</th>\n",
       "      <th>value_thousand_sum</th>\n",
       "      <th>date</th>\n",
       "    </tr>\n",
       "  </thead>\n",
       "  <tbody>\n",
       "    <tr>\n",
       "      <th>160</th>\n",
       "      <td>2018</td>\n",
       "      <td>3</td>\n",
       "      <td>export</td>\n",
       "      <td>ด่านศุลกากรเชียงของ (ศภ.3)</td>\n",
       "      <td>เชียงราย</td>\n",
       "      <td>CHINA</td>\n",
       "      <td>โกโก้และของปรุงแต่ง</td>\n",
       "      <td>559</td>\n",
       "      <td>2018-03</td>\n",
       "    </tr>\n",
       "    <tr>\n",
       "      <th>161</th>\n",
       "      <td>2018</td>\n",
       "      <td>3</td>\n",
       "      <td>export</td>\n",
       "      <td>ด่านศุลกากรเชียงของ (ศภ.3)</td>\n",
       "      <td>เชียงราย</td>\n",
       "      <td>CHINA</td>\n",
       "      <td>ไขมันและน้ำมันจากพืชและสัตว์อื่น ๆ</td>\n",
       "      <td>4</td>\n",
       "      <td>2018-03</td>\n",
       "    </tr>\n",
       "    <tr>\n",
       "      <th>162</th>\n",
       "      <td>2018</td>\n",
       "      <td>3</td>\n",
       "      <td>export</td>\n",
       "      <td>ด่านศุลกากรเชียงแสน (ศภ.3)</td>\n",
       "      <td>เชียงราย</td>\n",
       "      <td>CHINA</td>\n",
       "      <td>กรอบรูปไม้</td>\n",
       "      <td>2</td>\n",
       "      <td>2018-03</td>\n",
       "    </tr>\n",
       "  </tbody>\n",
       "</table>\n",
       "</div>"
      ],
      "text/plain": [
       "     year  month    type                   port_name province_name  \\\n",
       "160  2018      3  export  ด่านศุลกากรเชียงของ (ศภ.3)      เชียงราย   \n",
       "161  2018      3  export  ด่านศุลกากรเชียงของ (ศภ.3)      เชียงราย   \n",
       "162  2018      3  export  ด่านศุลกากรเชียงแสน (ศภ.3)      เชียงราย   \n",
       "\n",
       "    country_name_en                        product_name  value_thousand_sum  \\\n",
       "160           CHINA                 โกโก้และของปรุงแต่ง                 559   \n",
       "161           CHINA  ไขมันและน้ำมันจากพืชและสัตว์อื่น ๆ                   4   \n",
       "162           CHINA                          กรอบรูปไม้                   2   \n",
       "\n",
       "        date  \n",
       "160  2018-03  \n",
       "161  2018-03  \n",
       "162  2018-03  "
      ]
     },
     "execution_count": 46,
     "metadata": {},
     "output_type": "execute_result"
    }
   ],
   "source": [
    "dat_ex.iloc[100:103] # เรียกดูเฉพาะสินค้าส่งออก"
   ]
  },
  {
   "cell_type": "markdown",
   "metadata": {},
   "source": [
    "##### ดูว่าสินค้านำเข้าของไทยมี เครื่องคอมพิวเตอร์ อุปกรณ์เเละส่วนประกอบ จากประเทศอื่นหรือไม่ "
   ]
  },
  {
   "cell_type": "code",
   "execution_count": 47,
   "metadata": {},
   "outputs": [
    {
     "data": {
      "text/plain": [
       "Series([], Name: country_name_en, dtype: int64)"
      ]
     },
     "execution_count": 47,
     "metadata": {},
     "output_type": "execute_result"
    }
   ],
   "source": [
    "#สินค้าที่มีมูลค่ามากที่สุด -> เครื่องคอมพิวเตอร์ อุปกรณ์เเละส่วนประกอบ  จากรายการสินค้านำเข้า \n",
    "dat_im[dat_im['product_name'] == 'เครื่องคอมพิวเตอร์ อุปกรณ์และส่วนประกอบ'].country_name_en.value_counts()\n",
    "# จากผลลัพธ์ สินค้าเครื่องคอมพิวเตอร์ อุปกรณ์เเละส่วนประกอบ ไทยไม่มีการนำเข้าจากประเทศเพื่อนบ้าน"
   ]
  },
  {
   "cell_type": "code",
   "execution_count": 48,
   "metadata": {},
   "outputs": [
    {
     "data": {
      "text/plain": [
       "CHINA    21\n",
       "Name: country_name_en, dtype: int64"
      ]
     },
     "execution_count": 48,
     "metadata": {},
     "output_type": "execute_result"
    }
   ],
   "source": [
    "#สินค้าที่มีมูลค่ามากที่สุด -> เครื่องคอมพิวเตอร์ อุปกรณ์เเละส่วนประกอบ  จากรายการสินค้าส่งออก\n",
    "dat_ex[dat_ex['product_name'] == 'เครื่องคอมพิวเตอร์ อุปกรณ์และส่วนประกอบ'].country_name_en.value_counts() "
   ]
  },
  {
   "cell_type": "markdown",
   "metadata": {},
   "source": [
    "**จากผลลัพธ์**\n",
    "- ทำให้เราทราบได้ว่าไทยมีการส่งออกสินค้าเกี่ยวกับเครื่องคอมพิวเตอร์ หรือกลุ่มสินค้าทางด้านเทคโนโลยีออกไปได้มูลค่าจำนวนมากที่สุด เพราะได้มากสุด <br>มากกว่า 3 ล้าน (หน่วยพันบาท) โดยประเทศที่นำเข้าสินค้านี้จากไทยก็คือประเทศจีน ดังนั้นจีนจีงเป็นคู่ค้าหนึ่งที่สำคัญของไทยในการเพิ่มเงินเข้าสู่ประเทสไทยได้  <br>"
   ]
  },
  {
   "cell_type": "markdown",
   "metadata": {},
   "source": [
    "#### 2.4 เเสดงรายการสินค้าที่ไทยนำเข้าเเละไทยส่งออกไปมากที่สุดของเเต่ละประเทศ \n",
    ">ทำให้รู้ได้ว่า เเต่ละประเทศมีสินค้าอะไรโดดเด่น หรือสินค้าอะไรที่ขาดเเคลน เป็นต้น \n",
    "โดยจะเริ่มจาก <br>\n",
    "1. การตั้ง dataframe ขึ้นมาใหม่เพื่อดูว่าสินค้าที่มีการส่งออกหรือนำเข้าไปยังประเทศต่างๆ มีจำนวนเท่าใด <br>\n",
    "2. นำข้อมูลเหล่านั้นมาหาว่าจำนวนสินค้าที่มากที่สุดของเเต่ละประเทศคืออะไร เเยกตามสินค้านำเข้า เเละส่งออก"
   ]
  },
  {
   "cell_type": "code",
   "execution_count": 49,
   "metadata": {},
   "outputs": [
    {
     "data": {
      "text/html": [
       "<div>\n",
       "<style scoped>\n",
       "    .dataframe tbody tr th:only-of-type {\n",
       "        vertical-align: middle;\n",
       "    }\n",
       "\n",
       "    .dataframe tbody tr th {\n",
       "        vertical-align: top;\n",
       "    }\n",
       "\n",
       "    .dataframe thead th {\n",
       "        text-align: right;\n",
       "    }\n",
       "</style>\n",
       "<table border=\"1\" class=\"dataframe\">\n",
       "  <thead>\n",
       "    <tr style=\"text-align: right;\">\n",
       "      <th></th>\n",
       "      <th>type</th>\n",
       "      <th>product_name</th>\n",
       "      <th>country_name_en</th>\n",
       "      <th>Size</th>\n",
       "    </tr>\n",
       "  </thead>\n",
       "  <tbody>\n",
       "    <tr>\n",
       "      <th>100</th>\n",
       "      <td>import</td>\n",
       "      <td>กระจก แก้ว และผลิตภัณฑ์อื่น ๆ</td>\n",
       "      <td>CHINA</td>\n",
       "      <td>158</td>\n",
       "    </tr>\n",
       "    <tr>\n",
       "      <th>136</th>\n",
       "      <td>import</td>\n",
       "      <td>เครื่องคอมพิวเตอร์และอุปกรณ์</td>\n",
       "      <td>VIETNAM</td>\n",
       "      <td>86</td>\n",
       "    </tr>\n",
       "    <tr>\n",
       "      <th>104</th>\n",
       "      <td>import</td>\n",
       "      <td>กระดาษ และผลิตภัณฑ์กระดาษอื่น ๆ</td>\n",
       "      <td>SINGAPORE</td>\n",
       "      <td>60</td>\n",
       "    </tr>\n",
       "    <tr>\n",
       "      <th>105</th>\n",
       "      <td>import</td>\n",
       "      <td>กระดาษ และผลิตภัณฑ์กระดาษอื่น ๆ</td>\n",
       "      <td>VIETNAM</td>\n",
       "      <td>53</td>\n",
       "    </tr>\n",
       "    <tr>\n",
       "      <th>34</th>\n",
       "      <td>export</td>\n",
       "      <td>กล่องหีบที่ทำด้วยพลาสติก</td>\n",
       "      <td>VIETNAM</td>\n",
       "      <td>51</td>\n",
       "    </tr>\n",
       "    <tr>\n",
       "      <th>111</th>\n",
       "      <td>import</td>\n",
       "      <td>กระดาษและกระดาษแข็ง</td>\n",
       "      <td>SINGAPORE</td>\n",
       "      <td>48</td>\n",
       "    </tr>\n",
       "    <tr>\n",
       "      <th>131</th>\n",
       "      <td>import</td>\n",
       "      <td>เคมีภัณฑ์อนินทรีย์</td>\n",
       "      <td>VIETNAM</td>\n",
       "      <td>45</td>\n",
       "    </tr>\n",
       "  </tbody>\n",
       "</table>\n",
       "</div>"
      ],
      "text/plain": [
       "       type                     product_name country_name_en  Size\n",
       "100  import    กระจก แก้ว และผลิตภัณฑ์อื่น ๆ           CHINA   158\n",
       "136  import     เครื่องคอมพิวเตอร์และอุปกรณ์         VIETNAM    86\n",
       "104  import  กระดาษ และผลิตภัณฑ์กระดาษอื่น ๆ       SINGAPORE    60\n",
       "105  import  กระดาษ และผลิตภัณฑ์กระดาษอื่น ๆ         VIETNAM    53\n",
       "34   export         กล่องหีบที่ทำด้วยพลาสติก         VIETNAM    51\n",
       "111  import              กระดาษและกระดาษแข็ง       SINGAPORE    48\n",
       "131  import               เคมีภัณฑ์อนินทรีย์         VIETNAM    45"
      ]
     },
     "execution_count": 49,
     "metadata": {},
     "output_type": "execute_result"
    }
   ],
   "source": [
    "# ตั้ง DataFrame จากการนับจำนวนเเถวทั้งหมดของเเต่ละรายการสินค้า เพื่อทราบว่าสินค้าที่มีการนำเข้า หรือ ส่งออกในเเต่ละประเทศมีจำนวนเท่าใด\n",
    "size_product = data_use.groupby(['type','product_name','country_name_en']).size().reset_index(name='Size')\n",
    "\n",
    "size_product.sort_values(by=['Size'],ascending=False).head(7) # เรียงลำดับข้อมูลจากที่มีรายการสินค้าจำนวนมากสุดไปน้อยสุด \n",
    "#เเสดงรายการสินค้าเเต่ละรายการว่ามีสินค้าทั้งหมดรายการละกี่เเถว เพื่อเป็นข้อมูลเบื้องต้นในการดูว่าจะใช้รายการสินค้าใดมาวิเคราะห์ต่อไป"
   ]
  },
  {
   "cell_type": "code",
   "execution_count": 50,
   "metadata": {
    "scrolled": false
   },
   "outputs": [
    {
     "data": {
      "text/html": [
       "<div>\n",
       "<style scoped>\n",
       "    .dataframe tbody tr th:only-of-type {\n",
       "        vertical-align: middle;\n",
       "    }\n",
       "\n",
       "    .dataframe tbody tr th {\n",
       "        vertical-align: top;\n",
       "    }\n",
       "\n",
       "    .dataframe thead th {\n",
       "        text-align: right;\n",
       "    }\n",
       "</style>\n",
       "<table border=\"1\" class=\"dataframe\">\n",
       "  <thead>\n",
       "    <tr style=\"text-align: right;\">\n",
       "      <th></th>\n",
       "      <th>type</th>\n",
       "      <th>product_name</th>\n",
       "      <th>Size</th>\n",
       "    </tr>\n",
       "    <tr>\n",
       "      <th>country_name_en</th>\n",
       "      <th></th>\n",
       "      <th></th>\n",
       "      <th></th>\n",
       "    </tr>\n",
       "  </thead>\n",
       "  <tbody>\n",
       "    <tr>\n",
       "      <th>CHINA</th>\n",
       "      <td>import</td>\n",
       "      <td>กระดาษ และผลิตภัณฑ์กระดาษอื่น ๆ</td>\n",
       "      <td>158</td>\n",
       "    </tr>\n",
       "    <tr>\n",
       "      <th>SINGAPORE</th>\n",
       "      <td>import</td>\n",
       "      <td>ไขมันและน้ำมันจากสัตว์</td>\n",
       "      <td>60</td>\n",
       "    </tr>\n",
       "    <tr>\n",
       "      <th>VIETNAM</th>\n",
       "      <td>import</td>\n",
       "      <td>เครื่องจักรไฟฟ้าใช้ในการโทรคมนาคมและการสื่อสาร</td>\n",
       "      <td>86</td>\n",
       "    </tr>\n",
       "  </tbody>\n",
       "</table>\n",
       "</div>"
      ],
      "text/plain": [
       "                   type                                    product_name  Size\n",
       "country_name_en                                                              \n",
       "CHINA            import                 กระดาษ และผลิตภัณฑ์กระดาษอื่น ๆ   158\n",
       "SINGAPORE        import                          ไขมันและน้ำมันจากสัตว์    60\n",
       "VIETNAM          import  เครื่องจักรไฟฟ้าใช้ในการโทรคมนาคมและการสื่อสาร    86"
      ]
     },
     "execution_count": 50,
     "metadata": {},
     "output_type": "execute_result"
    }
   ],
   "source": [
    "# สินค้าที่นำเข้ามากจากประเทศต่างๆ มากที่สุด\n",
    "size_productim = size_product[size_product['type'] == 'import'] # ตั้งตัวแปรในการเก็บข้อมูลจำนวนของสินค้าโดยเเยกเฉพาะสินค้านำเข้า\n",
    "country_im=size_productim.groupby(['country_name_en']).max() # เลือกรายการสินค้านำเข้าจากเเต่ละประเทศที่มีรายการสินค้ามากที่สุด \n",
    "country_im # เเสดงรายการสินค้าของเเต่ละประเทศที่ไทยนำเข้ามามากที่สุด"
   ]
  },
  {
   "cell_type": "code",
   "execution_count": 51,
   "metadata": {
    "scrolled": true
   },
   "outputs": [
    {
     "data": {
      "text/html": [
       "<div>\n",
       "<style scoped>\n",
       "    .dataframe tbody tr th:only-of-type {\n",
       "        vertical-align: middle;\n",
       "    }\n",
       "\n",
       "    .dataframe tbody tr th {\n",
       "        vertical-align: top;\n",
       "    }\n",
       "\n",
       "    .dataframe thead th {\n",
       "        text-align: right;\n",
       "    }\n",
       "</style>\n",
       "<table border=\"1\" class=\"dataframe\">\n",
       "  <thead>\n",
       "    <tr style=\"text-align: right;\">\n",
       "      <th></th>\n",
       "      <th>type</th>\n",
       "      <th>product_name</th>\n",
       "      <th>Size</th>\n",
       "    </tr>\n",
       "    <tr>\n",
       "      <th>country_name_en</th>\n",
       "      <th></th>\n",
       "      <th></th>\n",
       "      <th></th>\n",
       "    </tr>\n",
       "  </thead>\n",
       "  <tbody>\n",
       "    <tr>\n",
       "      <th>CHINA</th>\n",
       "      <td>export</td>\n",
       "      <td>ไขมันและน้ำมันจากพืชและสัตว์อื่น ๆ</td>\n",
       "      <td>44</td>\n",
       "    </tr>\n",
       "    <tr>\n",
       "      <th>SINGAPORE</th>\n",
       "      <td>export</td>\n",
       "      <td>ก๊อก วาวล์และส่วนประกอบ</td>\n",
       "      <td>36</td>\n",
       "    </tr>\n",
       "    <tr>\n",
       "      <th>VIETNAM</th>\n",
       "      <td>export</td>\n",
       "      <td>โกโก้และของปรุงแต่ง</td>\n",
       "      <td>51</td>\n",
       "    </tr>\n",
       "  </tbody>\n",
       "</table>\n",
       "</div>"
      ],
      "text/plain": [
       "                   type                        product_name  Size\n",
       "country_name_en                                                  \n",
       "CHINA            export  ไขมันและน้ำมันจากพืชและสัตว์อื่น ๆ    44\n",
       "SINGAPORE        export             ก๊อก วาวล์และส่วนประกอบ    36\n",
       "VIETNAM          export                 โกโก้และของปรุงแต่ง    51"
      ]
     },
     "execution_count": 51,
     "metadata": {},
     "output_type": "execute_result"
    }
   ],
   "source": [
    "# สินค้าที่ส่งออกไปยังประเทศต่างๆ มากที่สุด\n",
    "size_productex = size_product[size_product['type'] == 'export'] # ตั้งตัวแปรในการเก็บข้อมูลจำนวนของสินค้าโดยเเยกเฉพาะสินค้าส่งออก\n",
    "country_ex=size_productex.groupby(['country_name_en']).max() # เลือกรายการสินค้าส่งออกที่มากที่สุดไปยังเเต่ละประเทศ \n",
    "country_ex # เเสดงรายการสินค้าส่งออกไปมากที่สุดในเเต่ละประเทศ"
   ]
  },
  {
   "cell_type": "markdown",
   "metadata": {},
   "source": [
    "**อธิบายผลลัพธ์**<br>จากผลลัพธ์ในการเเสดงว่าเเต่ละประเทศมีสินค้าส่งออกจากไทยไป หรือ สินค้าที่ไทยนำเข้ามา มากที่สุดคืออะไร<br>\n",
    "- ซึ่งผลลัพธ์เเสดงผลได้ดังนี้ สินค้าที่ไทยนำเข้ามากมากสุดจากประเทศ จีน คือ กระดาษ และผลิตภัณฑ์กระดาษอื่น ๆ สิงคโปร์ คือ ไขมันเเละน้ำมันจากสัตว์ เเละสุดท้ายคือ เวียดนาม ได้แก่สินค้า เครื่องจักรไฟฟ้าใช้ในการโทรคมนาคมเเละการสื่อสาร <br>\n",
    "- เเละสินค้าที่ไทยส่งออกไปมากที่ในเเต่ละประเทศได้แก่ จีน สิงคโปร์ เวียดนาม คือสินค้า ไขมันและน้ำมันจากพืชและสัตว์อื่น ๆ ,ก๊อก วาวล์และส่วนประกอบ,โกโก้และของปรุงแต่ง ตามลำดับ\n"
   ]
  },
  {
   "cell_type": "markdown",
   "metadata": {},
   "source": [
    "#### 2.5  เลือกดูรายการสินค้าประเภท ข้าว ซึ่งเป็นสินค้าที่ไทยมีชื่อเสียง เเละ เป็นอาหารหลักของคนไทย"
   ]
  },
  {
   "cell_type": "markdown",
   "metadata": {},
   "source": [
    "- เรียกดูข้อมูลสินค้า ประเภทข้าว  เพื่อเป็นเเนวทางในการจัดการเรื่องเกษตรกรไทย เเละการส่งออกข้าวของไทยให้มีมูลค่าต่อเศรษฐกิจไทยให้มากที่สุด"
   ]
  },
  {
   "cell_type": "code",
   "execution_count": 52,
   "metadata": {
    "scrolled": false
   },
   "outputs": [
    {
     "data": {
      "text/html": [
       "<div>\n",
       "<style scoped>\n",
       "    .dataframe tbody tr th:only-of-type {\n",
       "        vertical-align: middle;\n",
       "    }\n",
       "\n",
       "    .dataframe tbody tr th {\n",
       "        vertical-align: top;\n",
       "    }\n",
       "\n",
       "    .dataframe thead th {\n",
       "        text-align: right;\n",
       "    }\n",
       "</style>\n",
       "<table border=\"1\" class=\"dataframe\">\n",
       "  <thead>\n",
       "    <tr style=\"text-align: right;\">\n",
       "      <th></th>\n",
       "      <th>year</th>\n",
       "      <th>month</th>\n",
       "      <th>type</th>\n",
       "      <th>port_name</th>\n",
       "      <th>province_name</th>\n",
       "      <th>country_name_en</th>\n",
       "      <th>product_name</th>\n",
       "      <th>value_thousand_sum</th>\n",
       "      <th>date</th>\n",
       "    </tr>\n",
       "  </thead>\n",
       "  <tbody>\n",
       "    <tr>\n",
       "      <th>381</th>\n",
       "      <td>2018</td>\n",
       "      <td>7</td>\n",
       "      <td>export</td>\n",
       "      <td>ด่านศุลกากรนครพนม (ศภ.2)</td>\n",
       "      <td>นครพนม</td>\n",
       "      <td>VIETNAM</td>\n",
       "      <td>ข้าว</td>\n",
       "      <td>218</td>\n",
       "      <td>2018-07</td>\n",
       "    </tr>\n",
       "    <tr>\n",
       "      <th>393</th>\n",
       "      <td>2018</td>\n",
       "      <td>7</td>\n",
       "      <td>export</td>\n",
       "      <td>ด่านศุลกากรมุกดาหาร (ศภ.2)</td>\n",
       "      <td>มุกดาหาร</td>\n",
       "      <td>VIETNAM</td>\n",
       "      <td>ข้าว</td>\n",
       "      <td>250</td>\n",
       "      <td>2018-07</td>\n",
       "    </tr>\n",
       "    <tr>\n",
       "      <th>406</th>\n",
       "      <td>2018</td>\n",
       "      <td>7</td>\n",
       "      <td>export</td>\n",
       "      <td>ด่านศุลกากรเชียงของ (ศภ.3)</td>\n",
       "      <td>เชียงราย</td>\n",
       "      <td>CHINA</td>\n",
       "      <td>ข้าว</td>\n",
       "      <td>23116</td>\n",
       "      <td>2018-07</td>\n",
       "    </tr>\n",
       "    <tr>\n",
       "      <th>465</th>\n",
       "      <td>2018</td>\n",
       "      <td>8</td>\n",
       "      <td>export</td>\n",
       "      <td>ด่านศุลกากรเชียงของ (ศภ.3)</td>\n",
       "      <td>เชียงราย</td>\n",
       "      <td>CHINA</td>\n",
       "      <td>ข้าว</td>\n",
       "      <td>54930</td>\n",
       "      <td>2018-08</td>\n",
       "    </tr>\n",
       "    <tr>\n",
       "      <th>520</th>\n",
       "      <td>2018</td>\n",
       "      <td>9</td>\n",
       "      <td>export</td>\n",
       "      <td>ด่านศุลกากรเชียงของ (ศภ.3)</td>\n",
       "      <td>เชียงราย</td>\n",
       "      <td>CHINA</td>\n",
       "      <td>ข้าว</td>\n",
       "      <td>118679</td>\n",
       "      <td>2018-09</td>\n",
       "    </tr>\n",
       "    <tr>\n",
       "      <th>525</th>\n",
       "      <td>2018</td>\n",
       "      <td>9</td>\n",
       "      <td>export</td>\n",
       "      <td>ทำเนียบท่าเรือห้าเชียง</td>\n",
       "      <td>เชียงราย</td>\n",
       "      <td>CHINA</td>\n",
       "      <td>ข้าว</td>\n",
       "      <td>473</td>\n",
       "      <td>2018-09</td>\n",
       "    </tr>\n",
       "  </tbody>\n",
       "</table>\n",
       "</div>"
      ],
      "text/plain": [
       "     year  month    type                   port_name province_name  \\\n",
       "381  2018      7  export    ด่านศุลกากรนครพนม (ศภ.2)        นครพนม   \n",
       "393  2018      7  export  ด่านศุลกากรมุกดาหาร (ศภ.2)      มุกดาหาร   \n",
       "406  2018      7  export  ด่านศุลกากรเชียงของ (ศภ.3)      เชียงราย   \n",
       "465  2018      8  export  ด่านศุลกากรเชียงของ (ศภ.3)      เชียงราย   \n",
       "520  2018      9  export  ด่านศุลกากรเชียงของ (ศภ.3)      เชียงราย   \n",
       "525  2018      9  export      ทำเนียบท่าเรือห้าเชียง      เชียงราย   \n",
       "\n",
       "    country_name_en product_name  value_thousand_sum     date  \n",
       "381         VIETNAM         ข้าว                 218  2018-07  \n",
       "393         VIETNAM         ข้าว                 250  2018-07  \n",
       "406           CHINA         ข้าว               23116  2018-07  \n",
       "465           CHINA         ข้าว               54930  2018-08  \n",
       "520           CHINA         ข้าว              118679  2018-09  \n",
       "525           CHINA         ข้าว                 473  2018-09  "
      ]
     },
     "execution_count": 52,
     "metadata": {},
     "output_type": "execute_result"
    }
   ],
   "source": [
    "rice_data = data_use.query(\"product_name == 'ข้าว'\") # เลือกดูข้อมูลเฉพาะสินค้าเป็น ข้าว \n",
    "rice_data.iloc[10:16]"
   ]
  },
  {
   "cell_type": "markdown",
   "metadata": {},
   "source": [
    "- เเสดงว่าข้าวในเเต่ละปี ส่งออกไปยังประเทศใดเป็นมูลค่าเท่าใด"
   ]
  },
  {
   "cell_type": "code",
   "execution_count": 53,
   "metadata": {},
   "outputs": [
    {
     "data": {
      "text/html": [
       "<div>\n",
       "<style scoped>\n",
       "    .dataframe tbody tr th:only-of-type {\n",
       "        vertical-align: middle;\n",
       "    }\n",
       "\n",
       "    .dataframe tbody tr th {\n",
       "        vertical-align: top;\n",
       "    }\n",
       "\n",
       "    .dataframe thead th {\n",
       "        text-align: right;\n",
       "    }\n",
       "</style>\n",
       "<table border=\"1\" class=\"dataframe\">\n",
       "  <thead>\n",
       "    <tr style=\"text-align: right;\">\n",
       "      <th></th>\n",
       "      <th></th>\n",
       "      <th></th>\n",
       "      <th>value_thousand_sum</th>\n",
       "    </tr>\n",
       "    <tr>\n",
       "      <th>type</th>\n",
       "      <th>country_name_en</th>\n",
       "      <th>year</th>\n",
       "      <th></th>\n",
       "    </tr>\n",
       "  </thead>\n",
       "  <tbody>\n",
       "    <tr>\n",
       "      <th rowspan=\"6\" valign=\"top\">export</th>\n",
       "      <th rowspan=\"3\" valign=\"top\">CHINA</th>\n",
       "      <th>2018</th>\n",
       "      <td>777674</td>\n",
       "    </tr>\n",
       "    <tr>\n",
       "      <th>2019</th>\n",
       "      <td>669395</td>\n",
       "    </tr>\n",
       "    <tr>\n",
       "      <th>2020</th>\n",
       "      <td>3680</td>\n",
       "    </tr>\n",
       "    <tr>\n",
       "      <th rowspan=\"3\" valign=\"top\">VIETNAM</th>\n",
       "      <th>2018</th>\n",
       "      <td>13638</td>\n",
       "    </tr>\n",
       "    <tr>\n",
       "      <th>2019</th>\n",
       "      <td>11562</td>\n",
       "    </tr>\n",
       "    <tr>\n",
       "      <th>2020</th>\n",
       "      <td>22664</td>\n",
       "    </tr>\n",
       "    <tr>\n",
       "      <th>import</th>\n",
       "      <th>VIETNAM</th>\n",
       "      <th>2020</th>\n",
       "      <td>825</td>\n",
       "    </tr>\n",
       "  </tbody>\n",
       "</table>\n",
       "</div>"
      ],
      "text/plain": [
       "                             value_thousand_sum\n",
       "type   country_name_en year                    \n",
       "export CHINA           2018              777674\n",
       "                       2019              669395\n",
       "                       2020                3680\n",
       "       VIETNAM         2018               13638\n",
       "                       2019               11562\n",
       "                       2020               22664\n",
       "import VIETNAM         2020                 825"
      ]
     },
     "execution_count": 53,
     "metadata": {},
     "output_type": "execute_result"
    }
   ],
   "source": [
    "# โดยการรวมกลุ่มในคอลัมน์ของ type country_name_en เเละ year เเละนับผลรวมมูลค่าสินค้าตามกลุ่มที่จัดไว้โดยใช้ sum\n",
    "rice_data = rice_data.groupby(['type','country_name_en', 'year',])[[\"value_thousand_sum\"]].sum() \n",
    "rice_data #เเสดงผล"
   ]
  },
  {
   "cell_type": "markdown",
   "metadata": {},
   "source": [
    "**จากผลลัพธ์จะพบว่า ในการส่งออกข้าวของไทยนั้นจะส่งออกไปยังประเทศหลักๆ อยู่ 2 ประเทศ คือ จีน เเละ เวียดนาม** <br>\n",
    "- ซึ่งเมื่อพิจารณาข้าวที่ส่งออกไปยังประเทศจีน จะมีจำนวนที่ลดลงอย่างเห็นได้ชัดในเเต่ละปี เหตุผลอาจมาจากสถานการณ์บ้านเมืองของไทย หรือ ปัญหาเเห้งเเล้งที่ไทยพบเจอ เป็นต้น จึงมีส่วนทำให้การส่งออกสินค้าไปยังประเทศจีนมีปัญหา \n",
    "ถ้าลองพิจารณาตัวเลขก็จะพบว่า ในปี 2020 ไทยส่งออกข้าวไปยังจีนน้อยมากๆ เมื่อเทียบกับ สองปีก่อน เหตุผลนี้อาจจะเกี่ยวเนื่องกับสถานการณ์โควิดที่เกิดขึ้น ที่เกษตรกรชาวไทยปลูกข้าวได้ไม่พอกับจำนวน เพราะพบว่าในปี 2020 ไทยก็ได้มีการนำเข้าสินค้าประเภท ข้าว จากเวียดนามเข้ามาด้วย ทั้งๆที่ ปกติ จะไม่นำเข้า ข้าว จากประเทศอื่นๆ \n",
    "_______________________________________________________________________________________________________________________________"
   ]
  },
  {
   "cell_type": "markdown",
   "metadata": {},
   "source": [
    "### 3 เเสดงรายการวิเคราะห์ในการตรวจสอบสินค้าตามพื้นที่ หรือด่านศุลกากรในเเต่ละจังหวัด\n",
    "- เเสดงกราฟดูว่าจังหวัดใดมีการส่งออก หรือ นำเข้า มากสุด โดยดูดูความถี่ในเเต่ละจังหวัด\n",
    "- เเสดงจำนวนสินค้าในการส่งออก หรือนำเข้าในเเต่ละประเทศ โดยผ่านด่านตามจังหวัดต่างๆ\n",
    "- วิเคราะห์ว่าสินค้าที่เป็น Top 3 ของรายการสินค้าทั้งหมด จะมีเส้นทางขนส่งอย่างไรบ้าง\n"
   ]
  },
  {
   "cell_type": "markdown",
   "metadata": {},
   "source": [
    "#### 3.1 เเสดงกราฟดูว่าจังหวัดใดมีการส่งออก หรือ นำเข้า มากสุด โดยดูดูความถี่ในเเต่ละจังหวัด"
   ]
  },
  {
   "cell_type": "code",
   "execution_count": 54,
   "metadata": {},
   "outputs": [
    {
     "data": {
      "text/plain": [
       "<matplotlib.axes._subplots.AxesSubplot at 0x244a3edbeb0>"
      ]
     },
     "execution_count": 54,
     "metadata": {},
     "output_type": "execute_result"
    },
    {
     "data": {
      "image/png": "[encoded data removed]",
      "text/plain": [
       "<Figure size 1080x252 with 2 Axes>"
      ]
     },
     "metadata": {
      "needs_background": "light"
     },
     "output_type": "display_data"
    }
   ],
   "source": [
    "datex = data_use[data_use['type'] == 'export'].province_name.value_counts() # เลือกข้อมูลสินค้าส่งออกโดยนับความถี่ตามเเต่ละจังหวัด\n",
    "datim = data_use[data_use['type'] == 'import'].province_name.value_counts() # เลือกข้อมูลนำเข้าสินค้าโดยนับความถี่ตามเเต่ละจังหวัด \n",
    "fig = plt.figure(figsize=(15,3.5)) # กำหนดขนาดของกราฟ\n",
    "plt.subplot(1,2,1) # เเสดงในกราฟที่ 1 \n",
    "datex.plot(kind='bar',title='export',color='#007f66') # plot graph ของสินค้าส่งออก พร้อมกำหนดหัวข้อ เเละใส่สี \n",
    "plt.subplot(1,2,2) # เเสดงในกราฟที่ 2\n",
    "datim.plot(kind='bar',title='import',color='#7d4e2d') #  plot graph ของสินค้านำเข้า พร้อมกำหนดหัวข้อ เเละใส่สี "
   ]
  },
  {
   "attachments": {
    "111111.JPG": {
     "image/jpeg": "[encoded data removed]"
    }
   },
   "cell_type": "markdown",
   "metadata": {},
   "source": [
    "**อธิบายผลลัพธ์**  จากผลลัพธ์พบว่า\n",
    "-  ในการส่งออกจะผ่านจากจังหวัดเชียงรายมากที่สุด ซึ่งก็มีความสอดคล้องกับ ประเทศที่มีการส่งออกไปมากที่สุด คือประเทศจีน หมายความว่าเส้นทางที่ไทยส่งออกสินค้าไปให้จีนน่าจะเป็นจังหวัดเชียงรายมากที่สุด ดังกราฟที่ได้กล่าวมาเเล้ว คือ ![111111.JPG](attachment:111111.JPG)กราฟนี้บอกว่า ประเทศจีนเป็นประเทศที่ไทยส่งออกสินค้าไปมากที่สุด เนื่องจากจีนเป็นประเทศที่อยู่บนทิศเหนือของไทยด้วย ดังนั้นจังหวัดของไทยที่อยู่ใกล้ชิดกับจีนในการลำเลียงสินค้าผ่านด่านศุลกากรก็คือ จังหวัดเชียงราย \n",
    "\n",
    "- เเละจังหวัดที่มีการนำเข้าสินค้าจากประเทศอื่นๆ มากที่สุด คือจังหวัดสงขลา เมื่อนำมาเทียบกับกราฟด้านบนเเล้ว พบว่าการนำเข้าสินค้าของไทยระหว่างสามประเทศนี้ จะนำเข้าจากประเทศเวียดนามมากที่สุด นั่นหมายความว่าสินค้านำเข้าของไทยส่วนใหญ่จะมาจากทางตอนใต้ หรือมาจากทางทิศใต้ของเวียดนาม เนื่องจากเวียดนามมีพื้นที่ยาวตั้งเเต่ทางทิศเหนือของไทยมายังทิศใต้ ทำให้ผู้จัดทำคาดการ์ได้ว่า สินค้าที่นำเข้าจากเวียดนามนั้น ส่วนใหญ่จะผ่านด่านศุลกากรในจังหวัดสงขลา หรือเป็นสินค้าที่ขนส่งโดยเรือผ่านทะเลจีนใต้เข้ามาทางตอนใต้ของไทย"
   ]
  },
  {
   "cell_type": "markdown",
   "metadata": {},
   "source": [
    "#### 3.2  เเสดงจำนวนในการนำเข้าเเละส่งออกสินค้า ในเเต่ละประเทศ โดยผ่านด่านตามจังหวัดต่างๆ ดังนี้"
   ]
  },
  {
   "cell_type": "code",
   "execution_count": 55,
   "metadata": {
    "scrolled": true
   },
   "outputs": [
    {
     "data": {
      "text/plain": [
       "Text(0.5, 1.0, 'Show amount of Exporting in each country \\n By passing the checkpoints')"
      ]
     },
     "execution_count": 55,
     "metadata": {},
     "output_type": "execute_result"
    },
    {
     "data": {
      "image/png": "[encoded data removed]",
      "text/plain": [
       "<Figure size 1080x360 with 2 Axes>"
      ]
     },
     "metadata": {
      "needs_background": "light"
     },
     "output_type": "display_data"
    }
   ],
   "source": [
    "# จากตัวแปรที่เคยตั้งไว้สำหรับสินค้านำเข้าเเละส่งออก \n",
    "# dat_im = เฉพาะรายการสินค้านำเข้า\n",
    "# dat_ex = เฉพาะรายการสินค้า่งออก\n",
    "\n",
    "figure, axes = plt.subplots(1, 2) # กำหนดหน้าต่างในการเเสดงกราฟให้มีจำนวน 2 column\n",
    "\n",
    "'''plot กราฟข้อมูล จากการนับจำนวน(Size)การนำเข้าสินค้าผ่านจังหวัดต่างๆโดยเเยกเเต่ละจังหวัดว่ามีประเทศใดบ้าง \n",
    "โดยใช้ unstack เพื่อเเปลงมาเป็น dataframe ให้ plot graph ได้ง่ายมากขึ้น  รวมถึงเเสดงกราฟของจังหวัดที่มีการส่งออกไปยังประเทศต่างๆด้วย'''\n",
    "dat_im.groupby(['province_name','country_name_en']).size().unstack().plot(kind='bar',\n",
    "                                                                          stacked=True,figsize=(15,5), ax=axes[0])\n",
    "dat_ex.groupby(['province_name','country_name_en']).size().unstack().plot(kind='bar',\n",
    "                                                                          stacked=True,figsize=(15,5),sharey = True, ax=axes[1])\n",
    "\n",
    "# กำหนดหัวข้อกราฟการเเสดงผลในเเต่ละกราฟ \n",
    "axes[0].set_title('Show amount of Importing in each country \\n By passing the checkpoints', color='k') \n",
    "axes[1].set_title('Show amount of Exporting in each country \\n By passing the checkpoints',color='k')\n"
   ]
  },
  {
   "cell_type": "markdown",
   "metadata": {},
   "source": [
    "**อธิบายผลลัพธ์**\n",
    "- จากกราฟจะเเสดงว่าในเเต่ละจังหวัดมีปริมาณในการนำเข้าหรือส่งออกสินค้าเป็นจำนวนเท่าใด หากดูจากความยาวเเต่ละสี จะพบว่า ในการนำเข้าสินค้า สงขลาเป็นจังหวัด<br>ที่มีรายการสินค้าจากทั้งสามประเทศมากที่สุด เเสดงว่ามีบางสินค้าที่มาจากจีนเเละผ่านด่านในจังหวัดของสงขลาด้วย อาจจะมาทางเรือขนส่งสินค้า เป็นต้น <br><br>\n",
    "เเละเมื่อมองกราฟทั้งนำเข้าเเละส่งออกควบคู่กัน จะพบว่า \n",
    "- จีนมีเส้นทางการนำเข้าเเละส่งออกอยู่หลายจังหวัด อาทิเช่น นครพนม ตาก มุกดาหาร เเละเชียงรายที่เป็นเส้นทางในการขนส่งสินค้ามากสุด <br>\n",
    "- สิงคโปร์ จะมีเส้นทางในการขนส่งสินค้าจังหวัด ระนอง สงขลา เเละ หนองคาย โดยสงขลาจะเป็นจังหวัดที่มีการขนส่งมากที่สุดของสิงคโปร์ <br>\n",
    "- เวียดนามมีเส้นทางการขนส่งสินค้าที่หลากหลายจังหวัด ไม่ว่าจะเป็น ตาก นครพนม มุกดาหาร สงขลา สระเเก้ว บึงกาฬ โดยจังหวัดที่มีโอกาสผ่านบ่อยที่สุด จะเป็น มุกดาหาร"
   ]
  },
  {
   "cell_type": "markdown",
   "metadata": {},
   "source": [
    "#### 3.3 วิเคราะห์ว่าสินค้าที่เป็น Top 3 ของรายการสินค้าทั้งหมด จะมีเส้นทางขนส่งอย่างไรบ้าง"
   ]
  },
  {
   "cell_type": "code",
   "execution_count": 56,
   "metadata": {
    "scrolled": true
   },
   "outputs": [
    {
     "data": {
      "text/html": [
       "<div>\n",
       "<style scoped>\n",
       "    .dataframe tbody tr th:only-of-type {\n",
       "        vertical-align: middle;\n",
       "    }\n",
       "\n",
       "    .dataframe tbody tr th {\n",
       "        vertical-align: top;\n",
       "    }\n",
       "\n",
       "    .dataframe thead th {\n",
       "        text-align: right;\n",
       "    }\n",
       "</style>\n",
       "<table border=\"1\" class=\"dataframe\">\n",
       "  <thead>\n",
       "    <tr style=\"text-align: right;\">\n",
       "      <th></th>\n",
       "      <th>product_name</th>\n",
       "      <th>Size</th>\n",
       "    </tr>\n",
       "  </thead>\n",
       "  <tbody>\n",
       "    <tr>\n",
       "      <th>0</th>\n",
       "      <td>กรอบรูปไม้</td>\n",
       "      <td>24</td>\n",
       "    </tr>\n",
       "    <tr>\n",
       "      <th>1</th>\n",
       "      <td>กรอบและโครงสำหรับแว่นตา</td>\n",
       "      <td>37</td>\n",
       "    </tr>\n",
       "    <tr>\n",
       "      <th>2</th>\n",
       "      <td>กระจก แก้ว และผลิตภัณฑ์อื่น ๆ</td>\n",
       "      <td>194</td>\n",
       "    </tr>\n",
       "    <tr>\n",
       "      <th>3</th>\n",
       "      <td>กระจกนิรภัย กระจกรถยนต์</td>\n",
       "      <td>66</td>\n",
       "    </tr>\n",
       "    <tr>\n",
       "      <th>4</th>\n",
       "      <td>กระดาษ และผลิตภัณฑ์กระดาษอื่น ๆ</td>\n",
       "      <td>115</td>\n",
       "    </tr>\n",
       "  </tbody>\n",
       "</table>\n",
       "</div>"
      ],
      "text/plain": [
       "                      product_name  Size\n",
       "0                       กรอบรูปไม้    24\n",
       "1          กรอบและโครงสำหรับแว่นตา    37\n",
       "2    กระจก แก้ว และผลิตภัณฑ์อื่น ๆ   194\n",
       "3          กระจกนิรภัย กระจกรถยนต์    66\n",
       "4  กระดาษ และผลิตภัณฑ์กระดาษอื่น ๆ   115"
      ]
     },
     "execution_count": 56,
     "metadata": {},
     "output_type": "execute_result"
    }
   ],
   "source": [
    "# ค้นหาสินค้าที่มีจำนวนการนำเข้า หรือ ส่งออกมากที่สุด \n",
    "data_agg = data_use.groupby('product_name').size().reset_index(name='Size') # เเสดงรายการสินค้าเเละจำนวนการขนส่งสินค้าของรายการสินค้านั้นๆ \n",
    "data_agg.head()"
   ]
  },
  {
   "cell_type": "code",
   "execution_count": 57,
   "metadata": {},
   "outputs": [
    {
     "data": {
      "text/html": [
       "<div>\n",
       "<style scoped>\n",
       "    .dataframe tbody tr th:only-of-type {\n",
       "        vertical-align: middle;\n",
       "    }\n",
       "\n",
       "    .dataframe tbody tr th {\n",
       "        vertical-align: top;\n",
       "    }\n",
       "\n",
       "    .dataframe thead th {\n",
       "        text-align: right;\n",
       "    }\n",
       "</style>\n",
       "<table border=\"1\" class=\"dataframe\">\n",
       "  <thead>\n",
       "    <tr style=\"text-align: right;\">\n",
       "      <th></th>\n",
       "      <th>product_name</th>\n",
       "      <th>Size</th>\n",
       "    </tr>\n",
       "  </thead>\n",
       "  <tbody>\n",
       "    <tr>\n",
       "      <th>2</th>\n",
       "      <td>กระจก แก้ว และผลิตภัณฑ์อื่น ๆ</td>\n",
       "      <td>194</td>\n",
       "    </tr>\n",
       "    <tr>\n",
       "      <th>4</th>\n",
       "      <td>กระดาษ และผลิตภัณฑ์กระดาษอื่น ๆ</td>\n",
       "      <td>115</td>\n",
       "    </tr>\n",
       "    <tr>\n",
       "      <th>23</th>\n",
       "      <td>กล่องหีบที่ทำด้วยพลาสติก</td>\n",
       "      <td>88</td>\n",
       "    </tr>\n",
       "  </tbody>\n",
       "</table>\n",
       "</div>"
      ],
      "text/plain": [
       "                       product_name  Size\n",
       "2     กระจก แก้ว และผลิตภัณฑ์อื่น ๆ   194\n",
       "4   กระดาษ และผลิตภัณฑ์กระดาษอื่น ๆ   115\n",
       "23         กล่องหีบที่ทำด้วยพลาสติก    88"
      ]
     },
     "execution_count": 57,
     "metadata": {},
     "output_type": "execute_result"
    }
   ],
   "source": [
    "#เลือกรายการสินค้าที่มีการค้าผ่านเเดนมากสุด 3 อันดับเเรก เก็บไว้ในตัวแปล top\n",
    "top3 = data_agg.sort_values(by='Size',ascending=False).iloc[:3] \n",
    "top3"
   ]
  },
  {
   "cell_type": "markdown",
   "metadata": {},
   "source": [
    "##### ตัดชื่อ port_name ออกโดยเเสดงเพียง ชื่อด่านศุลกากรเท่านั้น ซึ่งผู้จัดทำได้ทำการตัดคำว่า ด่านศุลกากรออก เพื่อให้ชื่อของด่านสั้นลงในการ plot กราฟมากขึ้น"
   ]
  },
  {
   "cell_type": "code",
   "execution_count": 58,
   "metadata": {},
   "outputs": [
    {
     "data": {
      "text/html": [
       "<div>\n",
       "<style scoped>\n",
       "    .dataframe tbody tr th:only-of-type {\n",
       "        vertical-align: middle;\n",
       "    }\n",
       "\n",
       "    .dataframe tbody tr th {\n",
       "        vertical-align: top;\n",
       "    }\n",
       "\n",
       "    .dataframe thead th {\n",
       "        text-align: right;\n",
       "    }\n",
       "</style>\n",
       "<table border=\"1\" class=\"dataframe\">\n",
       "  <thead>\n",
       "    <tr style=\"text-align: right;\">\n",
       "      <th></th>\n",
       "      <th>year</th>\n",
       "      <th>month</th>\n",
       "      <th>type</th>\n",
       "      <th>port_name</th>\n",
       "      <th>province_name</th>\n",
       "      <th>country_name_en</th>\n",
       "      <th>product_name</th>\n",
       "      <th>value_thousand_sum</th>\n",
       "      <th>date</th>\n",
       "      <th>newname_port</th>\n",
       "    </tr>\n",
       "  </thead>\n",
       "  <tbody>\n",
       "    <tr>\n",
       "      <th>0</th>\n",
       "      <td>2018</td>\n",
       "      <td>1</td>\n",
       "      <td>export</td>\n",
       "      <td>ด่านศุลกากรนครพนม (ศภ.2)</td>\n",
       "      <td>นครพนม</td>\n",
       "      <td>VIETNAM</td>\n",
       "      <td>กระจกนิรภัย กระจกรถยนต์</td>\n",
       "      <td>86</td>\n",
       "      <td>2018-01</td>\n",
       "      <td>นครพนม (ศภ.2)</td>\n",
       "    </tr>\n",
       "    <tr>\n",
       "      <th>1</th>\n",
       "      <td>2018</td>\n",
       "      <td>1</td>\n",
       "      <td>export</td>\n",
       "      <td>ด่านศุลกากรนครพนม (ศภ.2)</td>\n",
       "      <td>นครพนม</td>\n",
       "      <td>VIETNAM</td>\n",
       "      <td>กล่องหีบที่ทำด้วยพลาสติก</td>\n",
       "      <td>908</td>\n",
       "      <td>2018-01</td>\n",
       "      <td>นครพนม (ศภ.2)</td>\n",
       "    </tr>\n",
       "  </tbody>\n",
       "</table>\n",
       "</div>"
      ],
      "text/plain": [
       "   year  month    type                 port_name province_name  \\\n",
       "0  2018      1  export  ด่านศุลกากรนครพนม (ศภ.2)        นครพนม   \n",
       "1  2018      1  export  ด่านศุลกากรนครพนม (ศภ.2)        นครพนม   \n",
       "\n",
       "  country_name_en              product_name  value_thousand_sum     date  \\\n",
       "0         VIETNAM   กระจกนิรภัย กระจกรถยนต์                  86  2018-01   \n",
       "1         VIETNAM  กล่องหีบที่ทำด้วยพลาสติก                 908  2018-01   \n",
       "\n",
       "    newname_port  \n",
       "0  นครพนม (ศภ.2)  \n",
       "1  นครพนม (ศภ.2)  "
      ]
     },
     "execution_count": 58,
     "metadata": {},
     "output_type": "execute_result"
    }
   ],
   "source": [
    "# เพิ่มคอลัมน์ใหม่เข้า Df สำหรับชื่อด่านศุลกากร เพื่อมีความกระชับมากขึ้น\n",
    "data_use['newname_port'] = data_use['port_name'].str.slice(start=11) \n",
    "data_use.head(2)"
   ]
  },
  {
   "cell_type": "markdown",
   "metadata": {},
   "source": [
    "##### เลือกเฉพาะรายการข้อมูลที่มีสินค้าคือ 3 ลำดับเเรกของการค้าผ่านเเดนเพื่อนำมาวิเคราะห์ว่าสินค้าทั้งสามอย่างนั้นมีเส้นทางในการนำเข้า หรือ ส่งออก ณ ด่านใดมากที่สุด*"
   ]
  },
  {
   "cell_type": "code",
   "execution_count": 59,
   "metadata": {
    "scrolled": true
   },
   "outputs": [
    {
     "data": {
      "text/html": [
       "<div>\n",
       "<style scoped>\n",
       "    .dataframe tbody tr th:only-of-type {\n",
       "        vertical-align: middle;\n",
       "    }\n",
       "\n",
       "    .dataframe tbody tr th {\n",
       "        vertical-align: top;\n",
       "    }\n",
       "\n",
       "    .dataframe thead th {\n",
       "        text-align: right;\n",
       "    }\n",
       "</style>\n",
       "<table border=\"1\" class=\"dataframe\">\n",
       "  <thead>\n",
       "    <tr style=\"text-align: right;\">\n",
       "      <th></th>\n",
       "      <th>product_name</th>\n",
       "      <th>Size</th>\n",
       "      <th>year</th>\n",
       "      <th>month</th>\n",
       "      <th>type</th>\n",
       "      <th>port_name</th>\n",
       "      <th>province_name</th>\n",
       "      <th>country_name_en</th>\n",
       "      <th>value_thousand_sum</th>\n",
       "      <th>date</th>\n",
       "      <th>newname_port</th>\n",
       "    </tr>\n",
       "  </thead>\n",
       "  <tbody>\n",
       "    <tr>\n",
       "      <th>120</th>\n",
       "      <td>กระจก แก้ว และผลิตภัณฑ์อื่น ๆ</td>\n",
       "      <td>194</td>\n",
       "      <td>2019</td>\n",
       "      <td>7</td>\n",
       "      <td>import</td>\n",
       "      <td>ด่านศุลกากรปาดังเบซาร์  3(ศภ.4)</td>\n",
       "      <td>สงขลา</td>\n",
       "      <td>CHINA</td>\n",
       "      <td>40</td>\n",
       "      <td>2019-07</td>\n",
       "      <td>ปาดังเบซาร์  3(ศภ.4)</td>\n",
       "    </tr>\n",
       "    <tr>\n",
       "      <th>121</th>\n",
       "      <td>กระจก แก้ว และผลิตภัณฑ์อื่น ๆ</td>\n",
       "      <td>194</td>\n",
       "      <td>2019</td>\n",
       "      <td>7</td>\n",
       "      <td>import</td>\n",
       "      <td>ด่านศุลกากรสะเดา (ศภ.4)</td>\n",
       "      <td>สงขลา</td>\n",
       "      <td>CHINA</td>\n",
       "      <td>21</td>\n",
       "      <td>2019-07</td>\n",
       "      <td>สะเดา (ศภ.4)</td>\n",
       "    </tr>\n",
       "    <tr>\n",
       "      <th>122</th>\n",
       "      <td>กระจก แก้ว และผลิตภัณฑ์อื่น ๆ</td>\n",
       "      <td>194</td>\n",
       "      <td>2019</td>\n",
       "      <td>7</td>\n",
       "      <td>import</td>\n",
       "      <td>ด่านศุลกากรสะเดา (ศภ.4)</td>\n",
       "      <td>สงขลา</td>\n",
       "      <td>SINGAPORE</td>\n",
       "      <td>33</td>\n",
       "      <td>2019-07</td>\n",
       "      <td>สะเดา (ศภ.4)</td>\n",
       "    </tr>\n",
       "    <tr>\n",
       "      <th>123</th>\n",
       "      <td>กระจก แก้ว และผลิตภัณฑ์อื่น ๆ</td>\n",
       "      <td>194</td>\n",
       "      <td>2019</td>\n",
       "      <td>7</td>\n",
       "      <td>import</td>\n",
       "      <td>ด่านศุลกากรหนองคาย (ศภ.2)</td>\n",
       "      <td>หนองคาย</td>\n",
       "      <td>CHINA</td>\n",
       "      <td>8</td>\n",
       "      <td>2019-07</td>\n",
       "      <td>หนองคาย (ศภ.2)</td>\n",
       "    </tr>\n",
       "    <tr>\n",
       "      <th>124</th>\n",
       "      <td>กระจก แก้ว และผลิตภัณฑ์อื่น ๆ</td>\n",
       "      <td>194</td>\n",
       "      <td>2019</td>\n",
       "      <td>7</td>\n",
       "      <td>import</td>\n",
       "      <td>รพท.มุกดาหารลานทอง ด่านศุลกากรมุกดาหาร</td>\n",
       "      <td>มุกดาหาร</td>\n",
       "      <td>CHINA</td>\n",
       "      <td>363</td>\n",
       "      <td>2019-07</td>\n",
       "      <td>รลานทอง ด่านศุลกากรมุกดาหาร</td>\n",
       "    </tr>\n",
       "  </tbody>\n",
       "</table>\n",
       "</div>"
      ],
      "text/plain": [
       "                      product_name  Size  year  month    type  \\\n",
       "120  กระจก แก้ว และผลิตภัณฑ์อื่น ๆ   194  2019      7  import   \n",
       "121  กระจก แก้ว และผลิตภัณฑ์อื่น ๆ   194  2019      7  import   \n",
       "122  กระจก แก้ว และผลิตภัณฑ์อื่น ๆ   194  2019      7  import   \n",
       "123  กระจก แก้ว และผลิตภัณฑ์อื่น ๆ   194  2019      7  import   \n",
       "124  กระจก แก้ว และผลิตภัณฑ์อื่น ๆ   194  2019      7  import   \n",
       "\n",
       "                                  port_name province_name country_name_en  \\\n",
       "120         ด่านศุลกากรปาดังเบซาร์  3(ศภ.4)         สงขลา           CHINA   \n",
       "121                 ด่านศุลกากรสะเดา (ศภ.4)         สงขลา           CHINA   \n",
       "122                 ด่านศุลกากรสะเดา (ศภ.4)         สงขลา       SINGAPORE   \n",
       "123               ด่านศุลกากรหนองคาย (ศภ.2)       หนองคาย           CHINA   \n",
       "124  รพท.มุกดาหารลานทอง ด่านศุลกากรมุกดาหาร      มุกดาหาร           CHINA   \n",
       "\n",
       "     value_thousand_sum     date                 newname_port  \n",
       "120                  40  2019-07         ปาดังเบซาร์  3(ศภ.4)  \n",
       "121                  21  2019-07                 สะเดา (ศภ.4)  \n",
       "122                  33  2019-07                 สะเดา (ศภ.4)  \n",
       "123                   8  2019-07               หนองคาย (ศภ.2)  \n",
       "124                 363  2019-07  รลานทอง ด่านศุลกากรมุกดาหาร  "
      ]
     },
     "execution_count": 59,
     "metadata": {},
     "output_type": "execute_result"
    }
   ],
   "source": [
    "'''เเสดงเฉพาะข้อมูลที่มีมูลค่าสินค้ามากที่สุด 3 อันดับเเรก  \n",
    "ได้แก่ ['กระจก แก้ว และผลิตภัณฑ์อื่น ๆ','กระดาษ และผลิตภัณฑ์กระดาษอื่น ๆ','กล่องหีบที่ทำด้วยพลาสติก']'''\n",
    "data_port = pd.merge(top3, data_use.dropna(), how='left', on='product_name') # join ข้อมูลโดยเอาเเค่เฉพาะรายการสินค้าที่เป็น top3 เท่านั้น\n",
    "data_port.iloc[120:125] "
   ]
  },
  {
   "cell_type": "markdown",
   "metadata": {},
   "source": [
    "##### plot Graph เเสดงเส้นทางการขนส่งสินค้าที่เป็น Top 3 ของรายการสินค้าทั้งหมด"
   ]
  },
  {
   "cell_type": "code",
   "execution_count": 60,
   "metadata": {},
   "outputs": [
    {
     "data": {
      "text/plain": [
       "Text(0.5, 1.0, 'Show the top 3 products along the route for import or export.')"
      ]
     },
     "execution_count": 60,
     "metadata": {},
     "output_type": "execute_result"
    },
    {
     "data": {
      "image/png": "[encoded data removed]",
      "text/plain": [
       "<Figure size 720x720 with 1 Axes>"
      ]
     },
     "metadata": {
      "needs_background": "light"
     },
     "output_type": "display_data"
    }
   ],
   "source": [
    "# plot กราฟเเสดง \n",
    "data_port.groupby(['newname_port','product_name']).size().unstack().plot(kind='barh',figsize=(10,10)) # เเสดงชื่อด่านเเต่ละด่านที่มีรายการสินค้า top3 ในการอ้างอิง\n",
    "plt.title('Show the top 3 products along the route for import or export.') # ตั้งชื่อกราฟ"
   ]
  },
  {
   "cell_type": "markdown",
   "metadata": {},
   "source": [
    "**อธิบายข้อมูล**  <br>\n",
    "- จากผลลัพธ์สินค้าทั้ง 3 อย่างจะมีเส้นทางในการขนส่งที่ผ่านด่านหลากหลายด่านโดยที่มากที่สุดจะเป็น ด่าน สะเดา (สภ.4) ซึ่งการการขนส่ง การจกเเก้ว เเละกระดาษ เป็นจำนวนมาก เเละด่านอื่นๆ ที่อยู่ในระดับที่มีจำนวนใกล้เคียงกัน \n",
    "- จากกราฟสินค้ากระจกแก้วจะเป็นสินค้าที่มีเส้นทางการขนส่งที่หลากหลายที่สุด เกือบทุกด่าน \n",
    "- เป็นส่วนหนึ่งในการจัดการบุคลากรประจำด่านตรวจให้เตรียมพร้อมกับปริมาณการขนส่งในเเต่ละด่านได้อย่างดีมากยิ่งขึ้น"
   ]
  },
  {
   "cell_type": "markdown",
   "metadata": {},
   "source": [
    "#### 3.4 เเสดงรายชื่อด่านศุลกากรที่มีหลากหลายมูลค่าสินค้า \n",
    "เนื่องจากในเเต่ละด่านนั้นมีการนำเข้าหรือส่งออกสินค้าในมูลค่าต่างๆ ซึ่งผู้จัดทำต้องการทราบว่า ในหนึ่งด่านนั้นจะมีสินค้าต่างๆ จำนวนกี่มูลค่า <br> โดยเลือกเเสดงเฉพาะ ด่านศุลกากรที่มีจำนวนมูลค่าของสินค้าหลากหลายมากที่สุด 5 อันดับเเรก ดังนี้ "
   ]
  },
  {
   "cell_type": "code",
   "execution_count": 61,
   "metadata": {
    "scrolled": true
   },
   "outputs": [
    {
     "data": {
      "text/html": [
       "<div>\n",
       "<style scoped>\n",
       "    .dataframe tbody tr th:only-of-type {\n",
       "        vertical-align: middle;\n",
       "    }\n",
       "\n",
       "    .dataframe tbody tr th {\n",
       "        vertical-align: top;\n",
       "    }\n",
       "\n",
       "    .dataframe thead th {\n",
       "        text-align: right;\n",
       "    }\n",
       "</style>\n",
       "<table border=\"1\" class=\"dataframe\">\n",
       "  <thead>\n",
       "    <tr style=\"text-align: right;\">\n",
       "      <th></th>\n",
       "      <th>port_name</th>\n",
       "      <th>Total number</th>\n",
       "    </tr>\n",
       "  </thead>\n",
       "  <tbody>\n",
       "    <tr>\n",
       "      <th>8</th>\n",
       "      <td>ด่านศุลกากรมุกดาหาร (ศภ.2)</td>\n",
       "      <td>369</td>\n",
       "    </tr>\n",
       "    <tr>\n",
       "      <th>10</th>\n",
       "      <td>ด่านศุลกากรสะเดา (ศภ.4)</td>\n",
       "      <td>363</td>\n",
       "    </tr>\n",
       "    <tr>\n",
       "      <th>13</th>\n",
       "      <td>ด่านศุลกากรเชียงของ (ศภ.3)</td>\n",
       "      <td>196</td>\n",
       "    </tr>\n",
       "    <tr>\n",
       "      <th>4</th>\n",
       "      <td>ด่านศุลกากรนครพนม (ศภ.2)</td>\n",
       "      <td>134</td>\n",
       "    </tr>\n",
       "    <tr>\n",
       "      <th>7</th>\n",
       "      <td>ด่านศุลกากรปาดังเบซาร์  3(ศภ.4)</td>\n",
       "      <td>128</td>\n",
       "    </tr>\n",
       "  </tbody>\n",
       "</table>\n",
       "</div>"
      ],
      "text/plain": [
       "                          port_name  Total number\n",
       "8        ด่านศุลกากรมุกดาหาร (ศภ.2)           369\n",
       "10          ด่านศุลกากรสะเดา (ศภ.4)           363\n",
       "13       ด่านศุลกากรเชียงของ (ศภ.3)           196\n",
       "4          ด่านศุลกากรนครพนม (ศภ.2)           134\n",
       "7   ด่านศุลกากรปาดังเบซาร์  3(ศภ.4)           128"
      ]
     },
     "execution_count": 61,
     "metadata": {},
     "output_type": "execute_result"
    }
   ],
   "source": [
    "# เช่น จะดูว่าด่านศุลกากรมุกดาหาร (ศภ.2)นั้นให้มูลค่าสินค้าทั้งหมดจำนวนกี่มูลค่าสินค้า เป็นต้น \n",
    "\n",
    "# ใช้ nunique ในการนับจำนวนของมูลค่าทั้งหมดตามรายชื่อเเต่ละด่าน\n",
    "data_topport = data_use.groupby('port_name')['value_thousand_sum'].nunique() \n",
    "# reset index เพื่อให้ข้อมูลอยู่ในรูปแบบ DataFram เเละ ตั้งชื่อ column สำหรับตัวเลขจำนวนนับที่ได้ เป็นชื่อ Total number \n",
    "data_topport = data_topport.reset_index(name='Total number')\n",
    "# เลือกข้อมูล 5 ลำดับเเรกโดยเรียงลำดับจากข้อมูลมากสุดก่อน เเล้วจึงเลือกดูเฉพาะด่านศุลกากรที่มีมูลค่าหลากหลายมากที่สุด 5 อันดับเเรก \n",
    "data_topport = data_topport.sort_values(by='Total number',ascending=False).iloc[:5]\n",
    "data_topport # เเสดงผลลัพธ์ด่านที่ให้มูลค่าสินค้าได้หลายมูลค่า"
   ]
  },
  {
   "cell_type": "markdown",
   "metadata": {},
   "source": [
    "**อธิบายผลลัพธ์**\n",
    "- จากผลลัพธ์จะพบว่า  ด่านศุลกากรมุกดาหาร (ศภ.2) เเละ ด่านศุลกากรสะเดา (ศภ.4) นั้นมีจำนวนของมูลค่าสินค้าค้าทั้งหมดที่ใกล้เคียงกัน ดังนั้น อาจสรุปได้ว่า ทั้งสองด่านนี้เป็นด่านที่มีรายการสินค้าต่างๆ ผ่านมามากที่สุด หรือมีการส่งออก หรือนำเข้าจากด่านทั้งสองนี้เป็นจำนวนหลายครั้งเเต่ละครั้งก็เป็นไปได้ว่าอาจเป็นสินค้ารายการเดิม เเต่มีมูลค่าสินค้าเเตกต่างกัน เป็นต้น "
   ]
  },
  {
   "cell_type": "markdown",
   "metadata": {},
   "source": [
    "### เเสดงข้อมูลอื่นๆ เพิ่มเติม"
   ]
  },
  {
   "cell_type": "markdown",
   "metadata": {},
   "source": [
    "เเบ่งช่วงของข้อมูลในส่วนของ มูลค่าสินค้่าต่างๆ "
   ]
  },
  {
   "cell_type": "code",
   "execution_count": 62,
   "metadata": {
    "scrolled": true
   },
   "outputs": [
    {
     "data": {
      "text/plain": [
       "(-253.919, 84639.333]      883\n",
       "(84639.333, 169278.667]      6\n",
       "(169278.667, 253918.0]       4\n",
       "Name: value_thousand_sum, dtype: int64"
      ]
     },
     "execution_count": 62,
     "metadata": {},
     "output_type": "execute_result"
    }
   ],
   "source": [
    "# bin เพื่อเเปลงเป็นหมวดหมู่ โดยจะเเบ่งจำนวนมูลค่าสินค้า value_thousand_baht เฉพาะสินค้านำเข้า ออกเป็น 3 กลุ่ม เเละดูว่ามีค่าตามกลุ่มต่างๆจำนวนเท่าใด \n",
    "binim = data_use[data_use.type == 'import'].value_thousand_sum.value_counts(bins=3)\n",
    "binim"
   ]
  },
  {
   "cell_type": "code",
   "execution_count": 63,
   "metadata": {},
   "outputs": [
    {
     "data": {
      "text/plain": [
       "(-3277.6090000000004, 1092536.0]    1125\n",
       "(2185072.0, 3277608.0]                 6\n",
       "(1092536.0, 2185072.0]                 5\n",
       "Name: value_thousand_sum, dtype: int64"
      ]
     },
     "execution_count": 63,
     "metadata": {},
     "output_type": "execute_result"
    }
   ],
   "source": [
    "# bin โดยจะเเบ่งจำนวนมูลค่าสินค้า value_thousand_baht เฉพาะสินค้าส่งออก ออกเป็น 3 กลุ่ม เเละดูว่ามีค่าตามกลุ่มต่างๆจำนวนเท่าใด \n",
    "binex = data_use[data_use.type == 'export'].value_thousand_sum.value_counts(bins=3)\n",
    "binex"
   ]
  },
  {
   "cell_type": "markdown",
   "metadata": {},
   "source": [
    "**อธิบายผลจากการเเบ่งช่วงข้อมูล**\n",
    "- จากข้อมูลจะเห็นว่ามีบางข้อมูลที่มีมูลค่าการนำเข้าที่มากที่สุด จำนวน 10 รายการ เพราะมูลค่าสินค้าส่วนใหญ่จะไม่เกิน 84639.333 พันบาท <br>\n",
    "หรืออยู่ในช่วง 0 - 84639.333 พันบาท <br> \n",
    "- เเละมูลค่าในการส่งออกก็จะมีบางสินค้าที่มีมูลค่ามากๆเลยประมาณ 10 มูลค่า ซึ่งเเตกต่างจากกลุ่มข้อมูลส่วนใหญ่ \n",
    "ที่มีอยู่ในช่วง 0-1080303.333 พันบาท <br>\n",
    "ดังนั้นการเเบ่งช่วงข้อมูล ทำให้รู้ว่ามูลค่าการส่งออกของไทยยังได้มากกว่ามูลค่าที่ไทยนำเข้าอยู่มาก "
   ]
  },
  {
   "cell_type": "markdown",
   "metadata": {},
   "source": [
    "### การวิเคราะห์เเละเเสดงผลลัพธ์ในอนาคต\n",
    "#### 1. Explor Product_name in Data\n",
    ">สำรวจข้อมูลเกี่ยวกับรายการสินค้านำเข้า เเละ สินค้าส่งออก เนื่องจากผู้จัดทำต้องการเเบ่งกลุ่มสินค้าโดยจะเลือกชื่อสินค้าที่มีตัวอักษร 4 ตัวเเรกเหมือนกันให้เป็นกลุ่มเดียวกัน เพื่อลดจำนวนสินค้า หรือความซ้ำซ้อนของสินค้าที่มีชื่อคล้ายกัน เเต่เขียนลงฐานข้อมูลต่างกัน เเต่เนื่องจากยังทำไม่สำเร็จในครั้งนี้ จึงขอนำเป็นเเนวทางในการจัดการข้อมูลในอนาคต ต่อไป ซึ่งผลที่สามารถทำได้มีดังนี้ "
   ]
  },
  {
   "cell_type": "markdown",
   "metadata": {},
   "source": [
    "##### แบ่งกลุ่มตามอักษร 4 ตัวเเรก ของชื่อสินค้า"
   ]
  },
  {
   "cell_type": "code",
   "execution_count": 64,
   "metadata": {},
   "outputs": [
    {
     "data": {
      "text/html": [
       "<div>\n",
       "<style scoped>\n",
       "    .dataframe tbody tr th:only-of-type {\n",
       "        vertical-align: middle;\n",
       "    }\n",
       "\n",
       "    .dataframe tbody tr th {\n",
       "        vertical-align: top;\n",
       "    }\n",
       "\n",
       "    .dataframe thead th {\n",
       "        text-align: right;\n",
       "    }\n",
       "</style>\n",
       "<table border=\"1\" class=\"dataframe\">\n",
       "  <thead>\n",
       "    <tr style=\"text-align: right;\">\n",
       "      <th></th>\n",
       "      <th>Abbrev</th>\n",
       "      <th>product</th>\n",
       "    </tr>\n",
       "  </thead>\n",
       "  <tbody>\n",
       "    <tr>\n",
       "      <th>19</th>\n",
       "      <td>ข้าว</td>\n",
       "      <td>[ข้าว, ข้าวโพด, ข้าว, ข้าว, ข้าวโพดหวาน, ข้าว,...</td>\n",
       "    </tr>\n",
       "    <tr>\n",
       "      <th>20</th>\n",
       "      <td>ครั่</td>\n",
       "      <td>[ครั่ง, ครั่ง]</td>\n",
       "    </tr>\n",
       "    <tr>\n",
       "      <th>21</th>\n",
       "      <td>ครื่</td>\n",
       "      <td>[ครื่องแต่งกายและเข็มขัด, ครื่องแต่งกายและเข็ม...</td>\n",
       "    </tr>\n",
       "    <tr>\n",
       "      <th>22</th>\n",
       "      <td>คอนแ</td>\n",
       "      <td>[คอนแทกเลนซ์และเลนส์, คอนแทกเลนซ์และเลนส์, คอน...</td>\n",
       "    </tr>\n",
       "    <tr>\n",
       "      <th>23</th>\n",
       "      <td>เคมี</td>\n",
       "      <td>[เคมีภัณฑ์อินทรีย์, เคมีภัณฑ์อินทรีย์, เคมีภัณ...</td>\n",
       "    </tr>\n",
       "    <tr>\n",
       "      <th>24</th>\n",
       "      <td>เครื</td>\n",
       "      <td>[เครื่องกีฬาและเครื่องเล่นเกมสำหรับเล่นในห้อง ...</td>\n",
       "    </tr>\n",
       "    <tr>\n",
       "      <th>25</th>\n",
       "      <td>เคหะ</td>\n",
       "      <td>[เคหะสิ่งทอ]</td>\n",
       "    </tr>\n",
       "    <tr>\n",
       "      <th>26</th>\n",
       "      <td>แก้ว</td>\n",
       "      <td>[แก้วและกระจกอื่นๆ, แก้วและกระจกอื่นๆ]</td>\n",
       "    </tr>\n",
       "    <tr>\n",
       "      <th>27</th>\n",
       "      <td>โกโก</td>\n",
       "      <td>[โกโก้และของปรุงแต่ง, โกโก้และของปรุงแต่ง, โกโ...</td>\n",
       "    </tr>\n",
       "    <tr>\n",
       "      <th>28</th>\n",
       "      <td>ไก่</td>\n",
       "      <td>[ไก่, ไก่, ไก่, ไก่, ไก่, ไก่, ไก่, ไก่, ไก่, ...</td>\n",
       "    </tr>\n",
       "    <tr>\n",
       "      <th>29</th>\n",
       "      <td>ไขมั</td>\n",
       "      <td>[ไขมันและน้ำมันจากพืชและสัตว์อื่น ๆ, ไขมันและน...</td>\n",
       "    </tr>\n",
       "  </tbody>\n",
       "</table>\n",
       "</div>"
      ],
      "text/plain": [
       "   Abbrev                                            product\n",
       "19   ข้าว  [ข้าว, ข้าวโพด, ข้าว, ข้าว, ข้าวโพดหวาน, ข้าว,...\n",
       "20   ครั่                                     [ครั่ง, ครั่ง]\n",
       "21   ครื่  [ครื่องแต่งกายและเข็มขัด, ครื่องแต่งกายและเข็ม...\n",
       "22   คอนแ  [คอนแทกเลนซ์และเลนส์, คอนแทกเลนซ์และเลนส์, คอน...\n",
       "23   เคมี  [เคมีภัณฑ์อินทรีย์, เคมีภัณฑ์อินทรีย์, เคมีภัณ...\n",
       "24   เครื  [เครื่องกีฬาและเครื่องเล่นเกมสำหรับเล่นในห้อง ...\n",
       "25   เคหะ                                       [เคหะสิ่งทอ]\n",
       "26   แก้ว             [แก้วและกระจกอื่นๆ, แก้วและกระจกอื่นๆ]\n",
       "27   โกโก  [โกโก้และของปรุงแต่ง, โกโก้และของปรุงแต่ง, โกโ...\n",
       "28    ไก่  [ไก่, ไก่, ไก่, ไก่, ไก่, ไก่, ไก่, ไก่, ไก่, ...\n",
       "29   ไขมั  [ไขมันและน้ำมันจากพืชและสัตว์อื่น ๆ, ไขมันและน..."
      ]
     },
     "execution_count": 64,
     "metadata": {},
     "output_type": "execute_result"
    }
   ],
   "source": [
    "# เลือกตัวอักษร 4 ตัวเเรกของรายการสินค้าที่มีอยู่ ซึ่งผลลัพธ์นี้จะเเสดงรายการสินค้าทั้งหมด  เเต่จะเเสดงเพียงตัวอักษร 4 ตัวเเรกของชื่อสินค้าเท่านั้น\n",
    "dataa = data_use['product_name'].map(lambda dataa:dataa[:4]) \n",
    "product_group = []  # ตั้งตัวเเปรเพื่เก็บ list ข้อมูล\n",
    "for cut,listproduct in data_use.groupby(dataa):  # วนลูปข้อมูลสำหรับเลือกตัวอัการที่ตัดมาสี่ตัว เเละรายการสินค้าใน 4 ตัวนั้น\n",
    "    cutt = cut,list(listproduct['product_name']) # ตั้งตัวแปรเพื่อเก็บข้อมูล ตัวย่อ เเละรายการสินค้าทั้งหมดของตัวย่อนั้นๆ \n",
    "    product_group.append(cutt) # เพิ่มข้อมูลลง list ที่สร้างไว้ \n",
    "product_group = pd.DataFrame(product_group,columns=['Abbrev','product']) # นำผลลัพธ์ที่ได้มาตั้งเป็น dataframe \n",
    "product_group.iloc[19:30] # เลือกดูข้อมูล\n",
    "#เมื่อเเบ่งเเล้วจะพบว่ามีกลุ่มของรายการสินค้าจำนวน 30 กลุ่มรายการสินค้า จากทั้งหมด 89 รายการสินค้า "
   ]
  },
  {
   "cell_type": "markdown",
   "metadata": {},
   "source": [
    "##### เเสดงเฉพาะข้อมูลในเเต่ละกลุ่ม จาก ตัวย่อ 4 ตัวเเรก "
   ]
  },
  {
   "cell_type": "code",
   "execution_count": 65,
   "metadata": {},
   "outputs": [
    {
     "data": {
      "text/html": [
       "<div>\n",
       "<style scoped>\n",
       "    .dataframe tbody tr th:only-of-type {\n",
       "        vertical-align: middle;\n",
       "    }\n",
       "\n",
       "    .dataframe tbody tr th {\n",
       "        vertical-align: top;\n",
       "    }\n",
       "\n",
       "    .dataframe thead th {\n",
       "        text-align: right;\n",
       "    }\n",
       "</style>\n",
       "<table border=\"1\" class=\"dataframe\">\n",
       "  <thead>\n",
       "    <tr style=\"text-align: right;\">\n",
       "      <th></th>\n",
       "      <th>product</th>\n",
       "    </tr>\n",
       "  </thead>\n",
       "  <tbody>\n",
       "    <tr>\n",
       "      <th>19</th>\n",
       "      <td>[ข้าว, ข้าวโพด, ข้าวโพดหวาน, ข้าวโพดอ่อน]</td>\n",
       "    </tr>\n",
       "    <tr>\n",
       "      <th>20</th>\n",
       "      <td>[ครั่ง]</td>\n",
       "    </tr>\n",
       "    <tr>\n",
       "      <th>21</th>\n",
       "      <td>[ครื่องแต่งกายและเข็มขัด, ครื่องจักรกลและส่วนป...</td>\n",
       "    </tr>\n",
       "    <tr>\n",
       "      <th>22</th>\n",
       "      <td>[คอนแทกเลนซ์และเลนส์]</td>\n",
       "    </tr>\n",
       "    <tr>\n",
       "      <th>23</th>\n",
       "      <td>[เคมีภัณฑ์อินทรีย์, เคมีภัณฑ์เบ็ดเตล็ด, เคมีภั...</td>\n",
       "    </tr>\n",
       "    <tr>\n",
       "      <th>24</th>\n",
       "      <td>[เครื่องกีฬาและเครื่องเล่นเกมสำหรับเล่นในห้อง ...</td>\n",
       "    </tr>\n",
       "    <tr>\n",
       "      <th>25</th>\n",
       "      <td>[เคหะสิ่งทอ]</td>\n",
       "    </tr>\n",
       "    <tr>\n",
       "      <th>26</th>\n",
       "      <td>[แก้วและกระจกอื่นๆ]</td>\n",
       "    </tr>\n",
       "    <tr>\n",
       "      <th>27</th>\n",
       "      <td>[โกโก้และของปรุงแต่ง]</td>\n",
       "    </tr>\n",
       "    <tr>\n",
       "      <th>28</th>\n",
       "      <td>[ไก่]</td>\n",
       "    </tr>\n",
       "    <tr>\n",
       "      <th>29</th>\n",
       "      <td>[ไขมันและน้ำมันจากพืชและสัตว์อื่น ๆ, ไขมันและน...</td>\n",
       "    </tr>\n",
       "  </tbody>\n",
       "</table>\n",
       "</div>"
      ],
      "text/plain": [
       "                                              product\n",
       "19          [ข้าว, ข้าวโพด, ข้าวโพดหวาน, ข้าวโพดอ่อน]\n",
       "20                                            [ครั่ง]\n",
       "21  [ครื่องแต่งกายและเข็มขัด, ครื่องจักรกลและส่วนป...\n",
       "22                              [คอนแทกเลนซ์และเลนส์]\n",
       "23  [เคมีภัณฑ์อินทรีย์, เคมีภัณฑ์เบ็ดเตล็ด, เคมีภั...\n",
       "24  [เครื่องกีฬาและเครื่องเล่นเกมสำหรับเล่นในห้อง ...\n",
       "25                                       [เคหะสิ่งทอ]\n",
       "26                                [แก้วและกระจกอื่นๆ]\n",
       "27                              [โกโก้และของปรุงแต่ง]\n",
       "28                                              [ไก่]\n",
       "29  [ไขมันและน้ำมันจากพืชและสัตว์อื่น ๆ, ไขมันและน..."
      ]
     },
     "execution_count": 65,
     "metadata": {},
     "output_type": "execute_result"
    }
   ],
   "source": [
    "#ใช้ข้อมูลจากด้านบนโดยเลือก column product มา unique เพื่อเเสดงเฉพาะรายการสินค้าที่ไม่ซ้ำกัน\n",
    "product_groupmap = product_group['product'].map(pd.unique) \n",
    "product_groupmap = pd.DataFrame(product_groupmap) # นำเข้า dataframe \n",
    "product_groupmap.iloc[19:30]  # เเสดงผล"
   ]
  },
  {
   "cell_type": "markdown",
   "metadata": {},
   "source": [
    "##### เลือกเฉพาะตัวเเทนข้อมูลเพื่อเป็นค่าตัวเเทนของเเต่ละกลุ่ม "
   ]
  },
  {
   "cell_type": "code",
   "execution_count": 66,
   "metadata": {},
   "outputs": [
    {
     "data": {
      "text/plain": [
       "['กรอบและโครงสำหรับแว่นตา',\n",
       " 'กระจกนิรภัย กระจกรถยนต์',\n",
       " 'กระดาษชำระ กระดาษเช็ดหน้า กระดาษอนามัย',\n",
       " 'กระติกสูญญากาศและส่วนประกอบ',\n",
       " 'กระสอบ',\n",
       " 'กระเป๋าถือ',\n",
       " 'กล่องหีบที่ทำด้วยพลาสติก',\n",
       " 'กล้วยไม้',\n",
       " 'กล้องถ่ายรูป',\n",
       " 'กาแฟ ชา เครื่องเทศ',\n",
       " 'กุญแจสายยู',\n",
       " 'กุ้ง',\n",
       " 'ก๊อก วาวล์และส่วนประกอบ',\n",
       " 'ก๊าซธรรมชาติ',\n",
       " 'ขนมปังกรอบ',\n",
       " 'ของชำร่วยและเครื่องประดับ',\n",
       " 'ของอื่นๆที่ทำด้วยอลูมิเนียม',\n",
       " 'ของเบ็ดเตล็ดอื่น ๆ ทำด้วยโลหะสามัญ',\n",
       " 'ของใช้ในเทศกาลอี่น ๆ',\n",
       " 'ข้าว',\n",
       " 'ครั่ง',\n",
       " 'ครื่องแต่งกายและเข็มขัด',\n",
       " 'คอนแทกเลนซ์และเลนส์',\n",
       " 'เคมีภัณฑ์อินทรีย์',\n",
       " 'เครื่องกีฬาและเครื่องเล่นเกมสำหรับเล่นในห้อง (บิลเลียด วิดีโอเกม ไพ่ ฯลฯ)',\n",
       " 'เคหะสิ่งทอ',\n",
       " 'แก้วและกระจกอื่นๆ',\n",
       " 'โกโก้และของปรุงแต่ง',\n",
       " 'ไก่',\n",
       " 'ไขมันและน้ำมันจากพืชและสัตว์อื่น ๆ']"
      ]
     },
     "execution_count": 66,
     "metadata": {},
     "output_type": "execute_result"
    }
   ],
   "source": [
    "# จากผลลัพธ์ด้านบนจะทำให้ได้รายการหลากหลายข้อมูล จึงจะทำการเลือกตัวเเทนข้อมูล เพื่อนำค่าเเรกของเเต่ละกลุ่มไปใส่ในข้อมูลของ product_name \n",
    "listproduct = [] # ตั้ง lilst เพื่อเก็บข้อมูล\n",
    "for i in product_groupmap: # วนลูปข้อมูลจากตัวแปร product_groupmap (เป็นรายการสินค้าของเเต่ละกลุ่ม)\n",
    "    for j in product_groupmap[i]: #วนลูปเข้าเเต่ละรายการ\n",
    "        listproduct.append(j[0]) # กำหนดให้นำข้อมูลเเรกของเเต่ละกลุ่มเข้า list ที่สร้างไว้ \n",
    "listproduct # เเสดง list ที่เก็บผล จะได้รายการสินค้าที่เป็นตัวเเทนของกลุ่มต่างๆ "
   ]
  },
  {
   "cell_type": "markdown",
   "metadata": {},
   "source": [
    ">- จากผลลัพธ์ด้านบน ผู้จัดทำยังไม่ทราบว่าจะนำ รายการสินค้ากลุ่มใหม่ ไปเเทนที่ในรายการสินค้าที่มีอยู่ได้อย่างไร จึงทำการเเสดงผลลัพธ์ให้ดูว่า หากเเบ่งรายการสินค้าตามกลุ่มจะได้รายการสินค้าทั้งหมด 30 รายการสินค้า ซึ่งในอนาคตหากมีโอกาสจะทำการนำรายการสินค้าชุดใหม่เข้า dataframe ของข้อมูล เพื่อใช้ชื่อรายการสินค้าตามกลุ่มรายการสินค้าได้ เเละสามารถที่จะเเสดงผลลัพธ์การส่งออกหรือนำเข้าได้ในทุกๆ กลุ่มรายการสินค้า เป็นต้น "
   ]
  },
  {
   "cell_type": "markdown",
   "metadata": {},
   "source": [
    "#### 2. ทำนายว่าในปี 2021 อัตราการส่งออกสินค้าของไทยจะลดลงหรือเพิ่มมากขึ้นจากเดิม \n",
    "________________________________________________________________________________________________________________________"
   ]
  },
  {
   "cell_type": "markdown",
   "metadata": {},
   "source": [
    "## หมายเหตุเเละข้อเสนอเเนะ \n",
    "> 1. เนื่องจากข้อมูลที่มีอยู่นั้นส่วนใหญ่เป็นประเภทข้อมูล categorical data ซึ่งถือเป็นข้อจำกัดในการ plot Graph ให้มีหลากหลายประเภท เพราะข้อมูลที่ผู้จัดทำนำมานั้นมีค่าข้อมูลที่เป็นประเภท ratio อยู่เพียง 1 column เท่านั้น นั่นคือ column value_thousand_sum(มูลค่าของราคาสินค้า) จึงมีจำนวนในการใช้กราฟที่เป็น Bar Graph มากกว่า Graph ชนิดอื่นๆ \n",
    "> 2. มีปัญหาในส่วนของการดึงข้อมูล เนื่องจากช่วงเเรกผู้จัดทำยังไม่ทราบว่าจะ Query ข้อมูลมาอย่างไร ทำให้ใช้เวลาไปกับส่วนการ Query ข้อมูลถึง 1 อาทิตย์ จนสามารถดึงข้อมูลมาเก็บไว้ได้ ซึ่งความจริงเเล้วไม่ควรใช้เวลานานขนาดนั้น \n",
    "> 3. ในกรณีที่อาจารย์ต้องการดึงข้อมูลใหม่ ชุดข้อมูลนี้จะมีบางเวลาที่ข้อมูล API ต้นทางไม่สามารถใช้งานได้ เเต่เป็นเเค่บางเวลาเท่านั้น   \n"
   ]
  }
 ],
 "metadata": {
  "kernelspec": {
   "display_name": "Python 3",
   "language": "python",
   "name": "python3"
  },
  "language_info": {
   "codemirror_mode": {
    "name": "ipython",
    "version": 3
   },
   "file_extension": ".py",
   "mimetype": "text/x-python",
   "name": "python",
   "nbconvert_exporter": "python",
   "pygments_lexer": "ipython3",
   "version": "3.8.3"
  }
 },
 "nbformat": 4,
 "nbformat_minor": 4
}
